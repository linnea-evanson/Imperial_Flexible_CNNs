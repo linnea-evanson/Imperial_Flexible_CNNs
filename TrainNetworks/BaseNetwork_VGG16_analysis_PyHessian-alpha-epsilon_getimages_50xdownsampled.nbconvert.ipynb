{
 "cells": [
  {
   "cell_type": "code",
   "execution_count": 1,
   "metadata": {},
   "outputs": [],
   "source": [
    "'''\n",
    "Date: 25 Aug 2020\n",
    "\n",
    "Python version:      3.7\n",
    "PyTorch version:     1.2.0\n",
    "\n",
    "@author: Maksim Lavrov\n",
    "Modified by Linnea Evanson / changed from Vanilla baseline to flexBaseline\n",
    "\n",
    "CIFAR10 dataset\n",
    "\n",
    "VGG16 baseline model\n",
    "'''\n",
    "\n",
    "\n",
    " #===================================================== Import libraries ================================================================================\n",
    "\n",
    "import torch\n",
    "import torch.nn as nn\n",
    "import torch.optim as optim\n",
    "import torch.nn.functional as F\n",
    "import torch.backends.cudnn as cudnn \n",
    "from torch.autograd import Variable\n",
    "\n",
    "import torchvision\n",
    "import torchvision.transforms as transforms\n",
    "import matplotlib.pyplot as plt\n",
    "import numpy as np\n",
    "\n",
    "# ================================================= Base VGG-16 Network ================================================================================\n",
    "# ================================================= Flexible Layer ================================================================================\n",
    "\n",
    "    \n",
    "class FlexiLayer_base(nn.Module): # class FlexiLayer(nn.Conv2d):\n",
    "    def __init__(self, in_channels, out_channels, kernel_size, stride=1,\n",
    "                 padding=0):\n",
    "        self.in_channels = in_channels\n",
    "        self.out_channels = out_channels\n",
    "        self.kernel_size = kernel_size\n",
    "        self.stride = stride\n",
    "        self.padding = padding\n",
    "        super(FlexiLayer_base, self).__init__()\n",
    "        \n",
    "        self.t_1 = nn.Conv2d(self.in_channels, self.out_channels, self.kernel_size, self.stride, self.padding)\n",
    "        self.t_2 = nn.MaxPool2d(self.kernel_size, self.stride, self.padding) # get max result with the same kernel size\n",
    "        self.m = nn.Sigmoid()\n",
    "        \n",
    "        self.threshold1 = Variable(torch.randn((1, self.out_channels, 30, 30)))\n",
    "        \n",
    "        self.thresh_mean = []\n",
    "        \n",
    "    def forward(self, t):\n",
    "        \n",
    "        #self.threshold1.expand(t.size(0), self.out_channels, 30, 30)\n",
    "        \n",
    "        \n",
    "        #cond = torch.sub(self.t_2(t), self.threshold1.cuda())\n",
    "        #t_2_2 = self.m(cond*50)*self.t_2(t) # \n",
    "        #t_1_1 = self.m(cond*(-50))*self.t_1(t) # \n",
    "        #t = torch.add(t_2_2, t_1_1)\n",
    "        \n",
    "        return self.t_1(t)\n",
    "\n",
    "    # ================================================= VGG-16 Network ================================================================================\n",
    "class VGG16(nn.Module):\n",
    "    def __init__(self):\n",
    "        super(VGG16,self).__init__()\n",
    "\n",
    "        self.block1 = nn.Sequential(\n",
    "                      nn.Conv2d(in_channels = 3,out_channels = 64,kernel_size = 3,padding = 1),\n",
    "                      nn.BatchNorm2d(64),\n",
    "                      nn.ReLU(),\n",
    "                      FlexiLayer_base(in_channels = 64,out_channels = 64,kernel_size = 3, padding =0),\n",
    "                      nn.BatchNorm2d(64),\n",
    "                      nn.ReLU(),\n",
    "                      #nn.MaxPool2d(kernel_size=2, stride=2),\n",
    "                      nn.Dropout2d(0.3))\n",
    "\n",
    "        self.block2 = nn.Sequential(\n",
    "                      nn.Conv2d(in_channels = 64,out_channels = 128,kernel_size = 3,padding = 1),\n",
    "                      nn.BatchNorm2d(128),\n",
    "                      nn.ReLU(),\n",
    "                      nn.Conv2d(in_channels = 128,out_channels = 128,kernel_size = 3, padding =1),\n",
    "                      nn.BatchNorm2d(128),\n",
    "                      nn.ReLU(),\n",
    "                      nn.MaxPool2d(kernel_size=2, stride=2),\n",
    "                      nn.Dropout2d(0.4))\n",
    "\n",
    "        self.block3 = nn.Sequential(\n",
    "                      nn.Conv2d(in_channels = 128,out_channels = 256,kernel_size = 3,padding = 1),\n",
    "                      nn.BatchNorm2d(256),\n",
    "                      nn.ReLU(),\n",
    "                      nn.Conv2d(in_channels = 256,out_channels = 256,kernel_size = 3,padding = 1),\n",
    "                      nn.BatchNorm2d(256),\n",
    "                      nn.ReLU(),\n",
    "                      nn.Conv2d(in_channels = 256,out_channels = 256,kernel_size = 3, padding =1),\n",
    "                      nn.BatchNorm2d(256),\n",
    "                      nn.ReLU(),\n",
    "                      nn.MaxPool2d(kernel_size=2, stride=2),\n",
    "                      nn.Dropout2d(0.4))\n",
    "\n",
    "        self.block4 = nn.Sequential(\n",
    "                      nn.Conv2d(in_channels = 256,out_channels = 512,kernel_size = 3,padding = 1),\n",
    "                      nn.BatchNorm2d(512),\n",
    "                      nn.ReLU(),\n",
    "                      nn.Conv2d(in_channels = 512,out_channels = 512,kernel_size = 3,padding = 1),\n",
    "                      nn.BatchNorm2d(512),\n",
    "                      nn.ReLU(),\n",
    "                      nn.Conv2d(in_channels = 512,out_channels = 512,kernel_size = 3, padding =1),\n",
    "                      nn.BatchNorm2d(512),\n",
    "                      nn.ReLU(),\n",
    "                      nn.MaxPool2d(kernel_size=2, stride=2) ,\n",
    "                      nn.Dropout2d(0.4))\n",
    "\n",
    "        self.block5 = nn.Sequential(\n",
    "                      nn.Conv2d(in_channels = 512,out_channels = 512,kernel_size = 3,padding = 1),\n",
    "                      nn.BatchNorm2d(512),\n",
    "                      nn.ReLU(),\n",
    "                      nn.Conv2d(in_channels = 512,out_channels = 512,kernel_size = 3,padding = 1),\n",
    "                      nn.BatchNorm2d(512),\n",
    "                      nn.ReLU(),\n",
    "                      nn.Conv2d(in_channels = 512,out_channels = 512,kernel_size = 3, padding =1),\n",
    "                      nn.BatchNorm2d(512),\n",
    "                      nn.ReLU(),\n",
    "                      nn.MaxPool2d(kernel_size=2, stride=2),\n",
    "                      nn.Dropout2d(0.5) )\n",
    "\n",
    "        self.fc =     nn.Sequential(\n",
    "                      nn.Linear(512,100),\n",
    "                      nn.Dropout(0.5),\n",
    "                      nn.BatchNorm1d(100),\n",
    "                      nn.ReLU(),\n",
    "                      nn.Dropout(0.5),\n",
    "                      nn.Linear(100,10), )\n",
    "\n",
    "    def forward(self,x):\n",
    "        out = self.block1(x)\n",
    "        out = self.block2(out)\n",
    "        out = self.block3(out)\n",
    "        out = self.block4(out)\n",
    "        out = self.block5(out)\n",
    "        out = out.view(out.size(0),-1)\n",
    "        out = self.fc(out)\n",
    "\n",
    "        return out\n",
    "\n"
   ]
  },
  {
   "cell_type": "code",
   "execution_count": 2,
   "metadata": {},
   "outputs": [
    {
     "name": "stdout",
     "output_type": "stream",
     "text": [
      "Files already downloaded and verified\n",
      "Files already downloaded and verified\n"
     ]
    }
   ],
   "source": [
    "\n",
    "\n",
    "from __future__ import print_function\n",
    "import torch\n",
    "import torch.nn as nn\n",
    "import torch.nn.functional as F\n",
    "import torch.optim as optim\n",
    "from torchvision import datasets, transforms\n",
    "import numpy as np\n",
    "import matplotlib.pyplot as plt\n",
    "\n",
    "import torchvision\n",
    "import torchvision.transforms as transforms\n",
    "\n",
    "#from models.VGG16 import *\n",
    "\n",
    "epsilons = [0, .05, .1, .15, .2, .25, .3]\n",
    "\n",
    "# ======================================== prepare the dataset ==========================================================================================\n",
    "mean_cifar10 = [0.485, 0.456, 0.406]   \n",
    "std_cifar10 = [0.229, 0.224, 0.225]\n",
    "batch_size = 100\n",
    "\n",
    "transform_train = transforms.Compose([\n",
    "    transforms.RandomHorizontalFlip(),\n",
    "    transforms.ToTensor(),\n",
    "    transforms.Normalize(mean_cifar10,std_cifar10),\n",
    "])\n",
    "\n",
    "transform_test = transforms.Compose([\n",
    "    transforms.ToTensor(),\n",
    "    transforms.Normalize(mean_cifar10,std_cifar10),\n",
    "])\n",
    "\n",
    "\n",
    "trainset = torchvision.datasets.CIFAR10(root='../FlexibleCNNs/data', train=True, download= True, transform=transform_train)\n",
    "trainloader = torch.utils.data.DataLoader(trainset, batch_size=batch_size, shuffle=True, num_workers=2)\n",
    "\n",
    "\n",
    "testset = torchvision.datasets.CIFAR10(root='../FlexibleCNNs/data', train=False, download=True, transform=transform_test)\n",
    "testloader = torch.utils.data.DataLoader(testset, batch_size=batch_size, shuffle=True, num_workers=2)\n",
    "\n"
   ]
  },
  {
   "cell_type": "code",
   "execution_count": 3,
   "metadata": {
    "scrolled": false
   },
   "outputs": [],
   "source": [
    "from __future__ import print_function\n",
    "\n",
    "import json\n",
    "import os\n",
    "import sys\n",
    "\n",
    "import numpy as np\n",
    "import argparse\n",
    "import torch\n",
    "import torch.nn as nn\n",
    "import torch.nn.functional as F\n",
    "import torch.optim as optim\n",
    "from torchvision import datasets, transforms\n",
    "from torch.autograd import Variable\n",
    "\n",
    "from PyHessian.utils import *\n",
    "from PyHessian.density_plot import get_esd_plot\n",
    "from PyHessian.density_plot import density_generate\n",
    "\n",
    "from PyHessian.models.resnet import resnet\n",
    "from PyHessian.pyhessian import hessian\n",
    "\n",
    "\n",
    "\n",
    "def get_eigenvalues(model, trainloader, testloader):\n",
    "\n",
    "    #*\n",
    "    # @file Different utility functions\n",
    "    # Copyright (c) Zhewei Yao, Amir Gholami\n",
    "    # All rights reserved.\n",
    "    # This file is part of PyHessian library.\n",
    "    #\n",
    "    # PyHessian is free software: you can redistribute it and/or modify\n",
    "    # it under the terms of the GNU General Public License as published by\n",
    "    # the Free Software Foundation, either version 3 of the License, or\n",
    "    # (at your option) any later version.\n",
    "    #\n",
    "    # PyHessian is distributed in the hope that it will be useful,\n",
    "    # but WITHOUT ANY WARRANTY; without even the implied warranty of\n",
    "    # MERCHANTABILITY or FITNESS FOR A PARTICULAR PURPOSE.  See the\n",
    "    # GNU General Public License for more details.\n",
    "    #\n",
    "    # You should have received a copy of the GNU General Public License\n",
    "    # along with PyHessian.  If not, see <http://www.gnu.org/licenses/>.\n",
    "    #*\n",
    "\n",
    "    # Settings\n",
    "    parser = argparse.ArgumentParser(description='PyTorch Example')\n",
    "    parser.add_argument(\"-f\", \"--fff\", help=\"a dummy argument to fool ipython\", default=\"1\")\n",
    "    parser.add_argument(\n",
    "        '--mini-hessian-batch-size',\n",
    "        type=int,\n",
    "        default=200,\n",
    "        help='input batch size for mini-hessian batch (default: 200)')\n",
    "    parser.add_argument('--hessian-batch-size',\n",
    "                        type=int,\n",
    "                        default=200,\n",
    "                        help='input batch size for hessian (default: 200)')\n",
    "    parser.add_argument('--seed',\n",
    "                        type=int,\n",
    "                        default=1,\n",
    "                        help='random seed (default: 1)')\n",
    "    parser.add_argument('--batch-norm',\n",
    "                        action='store_false',\n",
    "                        help='do we need batch norm or not')\n",
    "    parser.add_argument('--residual',\n",
    "                        action='store_false',\n",
    "                        help='do we need residual connect or not')\n",
    "\n",
    "    parser.add_argument('--cuda',\n",
    "                        action='store_false',\n",
    "                        help='do we use gpu or not')\n",
    "    parser.add_argument('--resume',\n",
    "                        type=str,\n",
    "                        default='fmnist_flex_model_14_52.pth',\n",
    "                        help='get the checkpoint')\n",
    "\n",
    "    args = parser.parse_args(args=[])\n",
    "    # set random seed to reproduce the work\n",
    "    torch.manual_seed(args.seed)\n",
    "    if args.cuda:\n",
    "        torch.cuda.manual_seed(args.seed)\n",
    "\n",
    "    for arg in vars(args):\n",
    "        print(arg, getattr(args, arg))\n",
    "\n",
    "    # get dataset\n",
    "    #train_loader, test_loader = getData(name='cifar10_without_dataaugmentation',\n",
    "    #                                    train_bs=args.mini_hessian_batch_size,\n",
    "    #                                    test_bs=1)\n",
    "\n",
    "    train_loader, test_loader = testloader, trainloader\n",
    "\n",
    "    ##############\n",
    "    # Get the hessian data\n",
    "    ##############\n",
    "    assert (args.hessian_batch_size % args.mini_hessian_batch_size == 0)\n",
    "    assert (50000 % args.hessian_batch_size == 0)\n",
    "    batch_num = args.hessian_batch_size // args.mini_hessian_batch_size\n",
    "\n",
    "    if batch_num == 1:\n",
    "        for inputs, labels in train_loader:\n",
    "            hessian_dataloader = (inputs, labels)\n",
    "            break\n",
    "    else:\n",
    "        hessian_dataloader = []\n",
    "        for i, (inputs, labels) in enumerate(train_loader):\n",
    "            hessian_dataloader.append((inputs, labels))\n",
    "            if i == batch_num - 1:\n",
    "                break\n",
    "\n",
    "    if args.cuda:\n",
    "        model = model.cuda()\n",
    "    model = torch.nn.DataParallel(model)\n",
    "\n",
    "    criterion = nn.CrossEntropyLoss()  # label loss\n",
    "\n",
    "    ###################\n",
    "    # Get model checkpoint, get saving folder\n",
    "    ###################\n",
    "    if args.resume == '':\n",
    "        raise Exception(\"please choose the trained model\")\n",
    "    #model.load_state_dict(torch.load(args.resume))\n",
    "    #state = torch.load('fmnist_base_model_14_28.pth')\n",
    "    #model.load_state_dict(state['model'])\n",
    "\n",
    "    ######################################################\n",
    "    # Begin the computation\n",
    "    ######################################################\n",
    "\n",
    "    # turn model to eval mode\n",
    "    model.eval()\n",
    "    if batch_num == 1:\n",
    "        hessian_comp = hessian(model,\n",
    "                               criterion,\n",
    "                               data=hessian_dataloader,\n",
    "                               cuda=args.cuda)\n",
    "    else:\n",
    "        hessian_comp = hessian(model,\n",
    "                               criterion,\n",
    "                               dataloader=hessian_dataloader,\n",
    "                               cuda=args.cuda)\n",
    "\n",
    "    print(\n",
    "        '********** finish data londing and begin Hessian computation **********')\n",
    "    # @Linnea: adding print test\n",
    "    #print_test = hessian_comp.dataloader_hv_product(hessian_comp, None)\n",
    "\n",
    "    #top_eigenvalues, _ = hessian_comp.eigenvalues(top_n = 100)   #get top 100 eigenvalues\n",
    "    density_eigen, density_weight = hessian_comp.density(iter = 100) #get top 150 eigenvalues in faster way than line above\n",
    "\n",
    "\n",
    "    return density_eigen, density_weight"
   ]
  },
  {
   "cell_type": "code",
   "execution_count": 4,
   "metadata": {},
   "outputs": [],
   "source": [
    "def get_alpha(plot_height, eign_grids):\n",
    "\n",
    "    total_values = np.sum(plot_height)\n",
    "\n",
    "    neg_values = []\n",
    "    i = 0\n",
    "    for value in eign_grids:\n",
    "        if value < 0:\n",
    "            neg_values.append(plot_height[i])\n",
    "        i += 1\n",
    "\n",
    "    alpha  = np.sum(neg_values) /total_values\n",
    "\n",
    "    return alpha"
   ]
  },
  {
   "cell_type": "code",
   "execution_count": 5,
   "metadata": {
    "scrolled": true
   },
   "outputs": [
    {
     "name": "stdout",
     "output_type": "stream",
     "text": [
      "CUDA Available:  True\n",
      "fff 1\n",
      "mini_hessian_batch_size 200\n",
      "hessian_batch_size 200\n",
      "seed 1\n",
      "batch_norm True\n",
      "residual True\n",
      "cuda True\n",
      "resume fmnist_flex_model_14_52.pth\n",
      "********** finish data londing and begin Hessian computation **********\n",
      "shape of density eigen: 1 100\n",
      "lenth into get_esd_plot: 1 100\n",
      "lenth into density_generate: 1 100\n",
      "len into semilogy: (10000,)\n",
      "0.0 % complete\n",
      "CUDA Available:  True\n",
      "fff 1\n",
      "mini_hessian_batch_size 200\n",
      "hessian_batch_size 200\n",
      "seed 1\n",
      "batch_norm True\n",
      "residual True\n",
      "cuda True\n",
      "resume fmnist_flex_model_14_52.pth\n",
      "********** finish data londing and begin Hessian computation **********\n",
      "shape of density eigen: 1 100\n",
      "lenth into get_esd_plot: 1 100\n",
      "lenth into density_generate: 1 100\n",
      "len into semilogy: (10000,)\n",
      "0.6578947368421053 % complete\n",
      "CUDA Available:  True\n",
      "fff 1\n",
      "mini_hessian_batch_size 200\n",
      "hessian_batch_size 200\n",
      "seed 1\n",
      "batch_norm True\n",
      "residual True\n",
      "cuda True\n",
      "resume fmnist_flex_model_14_52.pth\n",
      "********** finish data londing and begin Hessian computation **********\n",
      "shape of density eigen: 1 100\n",
      "lenth into get_esd_plot: 1 100\n",
      "lenth into density_generate: 1 100\n",
      "len into semilogy: (10000,)\n",
      "1.3157894736842106 % complete\n",
      "CUDA Available:  True\n",
      "fff 1\n",
      "mini_hessian_batch_size 200\n",
      "hessian_batch_size 200\n",
      "seed 1\n",
      "batch_norm True\n",
      "residual True\n",
      "cuda True\n",
      "resume fmnist_flex_model_14_52.pth\n",
      "********** finish data londing and begin Hessian computation **********\n",
      "shape of density eigen: 1 100\n",
      "lenth into get_esd_plot: 1 100\n",
      "lenth into density_generate: 1 100\n",
      "len into semilogy: (10000,)\n",
      "1.9736842105263157 % complete\n",
      "CUDA Available:  True\n",
      "fff 1\n",
      "mini_hessian_batch_size 200\n",
      "hessian_batch_size 200\n",
      "seed 1\n",
      "batch_norm True\n",
      "residual True\n",
      "cuda True\n",
      "resume fmnist_flex_model_14_52.pth\n",
      "********** finish data londing and begin Hessian computation **********\n",
      "shape of density eigen: 1 100\n",
      "lenth into get_esd_plot: 1 100\n",
      "lenth into density_generate: 1 100\n",
      "len into semilogy: (10000,)\n",
      "2.6315789473684212 % complete\n",
      "CUDA Available:  True\n",
      "fff 1\n",
      "mini_hessian_batch_size 200\n",
      "hessian_batch_size 200\n",
      "seed 1\n",
      "batch_norm True\n",
      "residual True\n",
      "cuda True\n",
      "resume fmnist_flex_model_14_52.pth\n",
      "********** finish data londing and begin Hessian computation **********\n",
      "shape of density eigen: 1 100\n",
      "lenth into get_esd_plot: 1 100\n",
      "lenth into density_generate: 1 100\n",
      "len into semilogy: (10000,)\n",
      "3.289473684210526 % complete\n",
      "CUDA Available:  True\n",
      "fff 1\n",
      "mini_hessian_batch_size 200\n",
      "hessian_batch_size 200\n",
      "seed 1\n",
      "batch_norm True\n",
      "residual True\n",
      "cuda True\n",
      "resume fmnist_flex_model_14_52.pth\n",
      "********** finish data londing and begin Hessian computation **********\n",
      "shape of density eigen: 1 100\n",
      "lenth into get_esd_plot: 1 100\n",
      "lenth into density_generate: 1 100\n",
      "len into semilogy: (10000,)\n",
      "3.9473684210526314 % complete\n",
      "CUDA Available:  True\n",
      "fff 1\n",
      "mini_hessian_batch_size 200\n",
      "hessian_batch_size 200\n",
      "seed 1\n",
      "batch_norm True\n",
      "residual True\n",
      "cuda True\n",
      "resume fmnist_flex_model_14_52.pth\n",
      "********** finish data londing and begin Hessian computation **********\n",
      "shape of density eigen: 1 100\n",
      "lenth into get_esd_plot: 1 100\n",
      "lenth into density_generate: 1 100\n",
      "len into semilogy: (10000,)\n",
      "4.605263157894737 % complete\n",
      "CUDA Available:  True\n",
      "fff 1\n",
      "mini_hessian_batch_size 200\n",
      "hessian_batch_size 200\n",
      "seed 1\n",
      "batch_norm True\n",
      "residual True\n",
      "cuda True\n",
      "resume fmnist_flex_model_14_52.pth\n",
      "********** finish data londing and begin Hessian computation **********\n",
      "shape of density eigen: 1 100\n",
      "lenth into get_esd_plot: 1 100\n",
      "lenth into density_generate: 1 100\n",
      "len into semilogy: (10000,)\n",
      "5.2631578947368425 % complete\n",
      "CUDA Available:  True\n",
      "fff 1\n",
      "mini_hessian_batch_size 200\n",
      "hessian_batch_size 200\n",
      "seed 1\n",
      "batch_norm True\n",
      "residual True\n",
      "cuda True\n",
      "resume fmnist_flex_model_14_52.pth\n",
      "********** finish data londing and begin Hessian computation **********\n",
      "shape of density eigen: 1 100\n",
      "lenth into get_esd_plot: 1 100\n",
      "lenth into density_generate: 1 100\n",
      "len into semilogy: (10000,)\n",
      "5.921052631578948 % complete\n",
      "CUDA Available:  True\n",
      "fff 1\n",
      "mini_hessian_batch_size 200\n",
      "hessian_batch_size 200\n",
      "seed 1\n",
      "batch_norm True\n",
      "residual True\n",
      "cuda True\n",
      "resume fmnist_flex_model_14_52.pth\n",
      "********** finish data londing and begin Hessian computation **********\n",
      "shape of density eigen: 1 100\n",
      "lenth into get_esd_plot: 1 100\n",
      "lenth into density_generate: 1 100\n",
      "len into semilogy: (10000,)\n",
      "6.578947368421052 % complete\n",
      "CUDA Available:  True\n",
      "fff 1\n",
      "mini_hessian_batch_size 200\n",
      "hessian_batch_size 200\n",
      "seed 1\n",
      "batch_norm True\n",
      "residual True\n",
      "cuda True\n",
      "resume fmnist_flex_model_14_52.pth\n",
      "********** finish data londing and begin Hessian computation **********\n",
      "shape of density eigen: 1 100\n",
      "lenth into get_esd_plot: 1 100\n",
      "lenth into density_generate: 1 100\n",
      "len into semilogy: (10000,)\n",
      "7.2368421052631575 % complete\n",
      "CUDA Available:  True\n",
      "fff 1\n",
      "mini_hessian_batch_size 200\n",
      "hessian_batch_size 200\n",
      "seed 1\n",
      "batch_norm True\n",
      "residual True\n",
      "cuda True\n",
      "resume fmnist_flex_model_14_52.pth\n",
      "********** finish data londing and begin Hessian computation **********\n",
      "shape of density eigen: 1 100\n",
      "lenth into get_esd_plot: 1 100\n",
      "lenth into density_generate: 1 100\n",
      "len into semilogy: (10000,)\n",
      "7.894736842105263 % complete\n",
      "CUDA Available:  True\n",
      "fff 1\n",
      "mini_hessian_batch_size 200\n",
      "hessian_batch_size 200\n",
      "seed 1\n",
      "batch_norm True\n",
      "residual True\n",
      "cuda True\n",
      "resume fmnist_flex_model_14_52.pth\n",
      "********** finish data londing and begin Hessian computation **********\n",
      "shape of density eigen: 1 100\n",
      "lenth into get_esd_plot: 1 100\n",
      "lenth into density_generate: 1 100\n",
      "len into semilogy: (10000,)\n",
      "8.552631578947368 % complete\n",
      "CUDA Available:  True\n",
      "fff 1\n",
      "mini_hessian_batch_size 200\n",
      "hessian_batch_size 200\n",
      "seed 1\n",
      "batch_norm True\n",
      "residual True\n",
      "cuda True\n",
      "resume fmnist_flex_model_14_52.pth\n",
      "********** finish data londing and begin Hessian computation **********\n",
      "shape of density eigen: 1 100\n",
      "lenth into get_esd_plot: 1 100\n",
      "lenth into density_generate: 1 100\n",
      "len into semilogy: (10000,)\n",
      "9.210526315789474 % complete\n",
      "CUDA Available:  True\n",
      "fff 1\n",
      "mini_hessian_batch_size 200\n",
      "hessian_batch_size 200\n",
      "seed 1\n",
      "batch_norm True\n",
      "residual True\n",
      "cuda True\n",
      "resume fmnist_flex_model_14_52.pth\n",
      "********** finish data londing and begin Hessian computation **********\n",
      "shape of density eigen: 1 100\n",
      "lenth into get_esd_plot: 1 100\n",
      "lenth into density_generate: 1 100\n",
      "len into semilogy: (10000,)\n",
      "9.868421052631579 % complete\n",
      "CUDA Available:  True\n",
      "fff 1\n",
      "mini_hessian_batch_size 200\n",
      "hessian_batch_size 200\n",
      "seed 1\n",
      "batch_norm True\n",
      "residual True\n",
      "cuda True\n",
      "resume fmnist_flex_model_14_52.pth\n",
      "********** finish data londing and begin Hessian computation **********\n",
      "shape of density eigen: 1 100\n",
      "lenth into get_esd_plot: 1 100\n",
      "lenth into density_generate: 1 100\n",
      "len into semilogy: (10000,)\n",
      "10.526315789473685 % complete\n",
      "CUDA Available:  True\n",
      "fff 1\n",
      "mini_hessian_batch_size 200\n",
      "hessian_batch_size 200\n",
      "seed 1\n",
      "batch_norm True\n",
      "residual True\n",
      "cuda True\n",
      "resume fmnist_flex_model_14_52.pth\n",
      "********** finish data londing and begin Hessian computation **********\n",
      "shape of density eigen: 1 100\n",
      "lenth into get_esd_plot: 1 100\n",
      "lenth into density_generate: 1 100\n",
      "len into semilogy: (10000,)\n",
      "11.18421052631579 % complete\n",
      "CUDA Available:  True\n",
      "fff 1\n",
      "mini_hessian_batch_size 200\n",
      "hessian_batch_size 200\n",
      "seed 1\n",
      "batch_norm True\n",
      "residual True\n",
      "cuda True\n",
      "resume fmnist_flex_model_14_52.pth\n",
      "********** finish data londing and begin Hessian computation **********\n",
      "shape of density eigen: 1 100\n",
      "lenth into get_esd_plot: 1 100\n",
      "lenth into density_generate: 1 100\n",
      "len into semilogy: (10000,)\n",
      "11.842105263157896 % complete\n",
      "CUDA Available:  True\n",
      "fff 1\n",
      "mini_hessian_batch_size 200\n",
      "hessian_batch_size 200\n",
      "seed 1\n",
      "batch_norm True\n",
      "residual True\n",
      "cuda True\n",
      "resume fmnist_flex_model_14_52.pth\n",
      "********** finish data londing and begin Hessian computation **********\n",
      "shape of density eigen: 1 100\n",
      "lenth into get_esd_plot: 1 100\n",
      "lenth into density_generate: 1 100\n",
      "len into semilogy: (10000,)\n",
      "12.5 % complete\n",
      "CUDA Available:  True\n",
      "fff 1\n",
      "mini_hessian_batch_size 200\n",
      "hessian_batch_size 200\n",
      "seed 1\n",
      "batch_norm True\n",
      "residual True\n",
      "cuda True\n",
      "resume fmnist_flex_model_14_52.pth\n",
      "********** finish data londing and begin Hessian computation **********\n",
      "shape of density eigen: 1 100\n",
      "lenth into get_esd_plot: 1 100\n",
      "lenth into density_generate: 1 100\n",
      "len into semilogy: (10000,)\n"
     ]
    },
    {
     "name": "stderr",
     "output_type": "stream",
     "text": [
      "/home/levanson/NAS/Flexible_CNNs/Imperial_Flexible_CNNs/PyHessian/density_plot.py:35: RuntimeWarning: More than 20 figures have been opened. Figures created through the pyplot interface (`matplotlib.pyplot.figure`) are retained until explicitly closed and may consume too much memory. (To control this warning, see the rcParam `figure.max_open_warning`).\n",
      "  plt.figure()\n"
     ]
    },
    {
     "name": "stdout",
     "output_type": "stream",
     "text": [
      "13.157894736842104 % complete\n",
      "CUDA Available:  True\n",
      "fff 1\n",
      "mini_hessian_batch_size 200\n",
      "hessian_batch_size 200\n",
      "seed 1\n",
      "batch_norm True\n",
      "residual True\n",
      "cuda True\n",
      "resume fmnist_flex_model_14_52.pth\n",
      "********** finish data londing and begin Hessian computation **********\n",
      "shape of density eigen: 1 100\n",
      "lenth into get_esd_plot: 1 100\n",
      "lenth into density_generate: 1 100\n",
      "len into semilogy: (10000,)\n"
     ]
    },
    {
     "name": "stderr",
     "output_type": "stream",
     "text": [
      "/home/levanson/NAS/Flexible_CNNs/Imperial_Flexible_CNNs/PyHessian/density_plot.py:35: RuntimeWarning: More than 20 figures have been opened. Figures created through the pyplot interface (`matplotlib.pyplot.figure`) are retained until explicitly closed and may consume too much memory. (To control this warning, see the rcParam `figure.max_open_warning`).\n",
      "  plt.figure()\n"
     ]
    },
    {
     "name": "stdout",
     "output_type": "stream",
     "text": [
      "13.81578947368421 % complete\n",
      "CUDA Available:  True\n",
      "fff 1\n",
      "mini_hessian_batch_size 200\n",
      "hessian_batch_size 200\n",
      "seed 1\n",
      "batch_norm True\n",
      "residual True\n",
      "cuda True\n",
      "resume fmnist_flex_model_14_52.pth\n",
      "********** finish data londing and begin Hessian computation **********\n",
      "shape of density eigen: 1 100\n",
      "lenth into get_esd_plot: 1 100\n",
      "lenth into density_generate: 1 100\n",
      "len into semilogy: (10000,)\n"
     ]
    },
    {
     "name": "stderr",
     "output_type": "stream",
     "text": [
      "/home/levanson/NAS/Flexible_CNNs/Imperial_Flexible_CNNs/PyHessian/density_plot.py:35: RuntimeWarning: More than 20 figures have been opened. Figures created through the pyplot interface (`matplotlib.pyplot.figure`) are retained until explicitly closed and may consume too much memory. (To control this warning, see the rcParam `figure.max_open_warning`).\n",
      "  plt.figure()\n"
     ]
    },
    {
     "name": "stdout",
     "output_type": "stream",
     "text": [
      "14.473684210526315 % complete\n",
      "CUDA Available:  True\n",
      "fff 1\n",
      "mini_hessian_batch_size 200\n",
      "hessian_batch_size 200\n",
      "seed 1\n",
      "batch_norm True\n",
      "residual True\n",
      "cuda True\n",
      "resume fmnist_flex_model_14_52.pth\n",
      "********** finish data londing and begin Hessian computation **********\n",
      "shape of density eigen: 1 100\n",
      "lenth into get_esd_plot: 1 100\n",
      "lenth into density_generate: 1 100\n",
      "len into semilogy: (10000,)\n"
     ]
    },
    {
     "name": "stderr",
     "output_type": "stream",
     "text": [
      "/home/levanson/NAS/Flexible_CNNs/Imperial_Flexible_CNNs/PyHessian/density_plot.py:35: RuntimeWarning: More than 20 figures have been opened. Figures created through the pyplot interface (`matplotlib.pyplot.figure`) are retained until explicitly closed and may consume too much memory. (To control this warning, see the rcParam `figure.max_open_warning`).\n",
      "  plt.figure()\n"
     ]
    },
    {
     "name": "stdout",
     "output_type": "stream",
     "text": [
      "15.131578947368421 % complete\n",
      "CUDA Available:  True\n",
      "fff 1\n",
      "mini_hessian_batch_size 200\n",
      "hessian_batch_size 200\n",
      "seed 1\n",
      "batch_norm True\n",
      "residual True\n",
      "cuda True\n",
      "resume fmnist_flex_model_14_52.pth\n",
      "********** finish data londing and begin Hessian computation **********\n",
      "shape of density eigen: 1 100\n",
      "lenth into get_esd_plot: 1 100\n",
      "lenth into density_generate: 1 100\n",
      "len into semilogy: (10000,)\n"
     ]
    },
    {
     "name": "stderr",
     "output_type": "stream",
     "text": [
      "/home/levanson/NAS/Flexible_CNNs/Imperial_Flexible_CNNs/PyHessian/density_plot.py:35: RuntimeWarning: More than 20 figures have been opened. Figures created through the pyplot interface (`matplotlib.pyplot.figure`) are retained until explicitly closed and may consume too much memory. (To control this warning, see the rcParam `figure.max_open_warning`).\n",
      "  plt.figure()\n"
     ]
    },
    {
     "name": "stdout",
     "output_type": "stream",
     "text": [
      "15.789473684210526 % complete\n",
      "CUDA Available:  True\n",
      "fff 1\n",
      "mini_hessian_batch_size 200\n",
      "hessian_batch_size 200\n",
      "seed 1\n",
      "batch_norm True\n",
      "residual True\n",
      "cuda True\n",
      "resume fmnist_flex_model_14_52.pth\n",
      "********** finish data londing and begin Hessian computation **********\n",
      "shape of density eigen: 1 100\n",
      "lenth into get_esd_plot: 1 100\n",
      "lenth into density_generate: 1 100\n",
      "len into semilogy: (10000,)\n"
     ]
    },
    {
     "name": "stderr",
     "output_type": "stream",
     "text": [
      "/home/levanson/NAS/Flexible_CNNs/Imperial_Flexible_CNNs/PyHessian/density_plot.py:35: RuntimeWarning: More than 20 figures have been opened. Figures created through the pyplot interface (`matplotlib.pyplot.figure`) are retained until explicitly closed and may consume too much memory. (To control this warning, see the rcParam `figure.max_open_warning`).\n",
      "  plt.figure()\n"
     ]
    },
    {
     "name": "stdout",
     "output_type": "stream",
     "text": [
      "16.44736842105263 % complete\n",
      "CUDA Available:  True\n",
      "fff 1\n",
      "mini_hessian_batch_size 200\n",
      "hessian_batch_size 200\n",
      "seed 1\n",
      "batch_norm True\n",
      "residual True\n",
      "cuda True\n",
      "resume fmnist_flex_model_14_52.pth\n",
      "********** finish data londing and begin Hessian computation **********\n",
      "shape of density eigen: 1 100\n",
      "lenth into get_esd_plot: 1 100\n",
      "lenth into density_generate: 1 100\n",
      "len into semilogy: (10000,)\n"
     ]
    },
    {
     "name": "stderr",
     "output_type": "stream",
     "text": [
      "/home/levanson/NAS/Flexible_CNNs/Imperial_Flexible_CNNs/PyHessian/density_plot.py:35: RuntimeWarning: More than 20 figures have been opened. Figures created through the pyplot interface (`matplotlib.pyplot.figure`) are retained until explicitly closed and may consume too much memory. (To control this warning, see the rcParam `figure.max_open_warning`).\n",
      "  plt.figure()\n"
     ]
    },
    {
     "name": "stdout",
     "output_type": "stream",
     "text": [
      "17.105263157894736 % complete\n",
      "CUDA Available:  True\n",
      "fff 1\n",
      "mini_hessian_batch_size 200\n",
      "hessian_batch_size 200\n",
      "seed 1\n",
      "batch_norm True\n",
      "residual True\n",
      "cuda True\n",
      "resume fmnist_flex_model_14_52.pth\n",
      "********** finish data londing and begin Hessian computation **********\n",
      "shape of density eigen: 1 100\n",
      "lenth into get_esd_plot: 1 100\n",
      "lenth into density_generate: 1 100\n",
      "len into semilogy: (10000,)\n"
     ]
    },
    {
     "name": "stderr",
     "output_type": "stream",
     "text": [
      "/home/levanson/NAS/Flexible_CNNs/Imperial_Flexible_CNNs/PyHessian/density_plot.py:35: RuntimeWarning: More than 20 figures have been opened. Figures created through the pyplot interface (`matplotlib.pyplot.figure`) are retained until explicitly closed and may consume too much memory. (To control this warning, see the rcParam `figure.max_open_warning`).\n",
      "  plt.figure()\n"
     ]
    },
    {
     "name": "stdout",
     "output_type": "stream",
     "text": [
      "17.763157894736842 % complete\n",
      "CUDA Available:  True\n",
      "fff 1\n",
      "mini_hessian_batch_size 200\n",
      "hessian_batch_size 200\n",
      "seed 1\n",
      "batch_norm True\n",
      "residual True\n",
      "cuda True\n",
      "resume fmnist_flex_model_14_52.pth\n",
      "********** finish data londing and begin Hessian computation **********\n",
      "shape of density eigen: 1 100\n",
      "lenth into get_esd_plot: 1 100\n",
      "lenth into density_generate: 1 100\n",
      "len into semilogy: (10000,)\n"
     ]
    },
    {
     "name": "stderr",
     "output_type": "stream",
     "text": [
      "/home/levanson/NAS/Flexible_CNNs/Imperial_Flexible_CNNs/PyHessian/density_plot.py:35: RuntimeWarning: More than 20 figures have been opened. Figures created through the pyplot interface (`matplotlib.pyplot.figure`) are retained until explicitly closed and may consume too much memory. (To control this warning, see the rcParam `figure.max_open_warning`).\n",
      "  plt.figure()\n"
     ]
    },
    {
     "name": "stdout",
     "output_type": "stream",
     "text": [
      "18.42105263157895 % complete\n",
      "CUDA Available:  True\n",
      "fff 1\n",
      "mini_hessian_batch_size 200\n",
      "hessian_batch_size 200\n",
      "seed 1\n",
      "batch_norm True\n",
      "residual True\n",
      "cuda True\n",
      "resume fmnist_flex_model_14_52.pth\n",
      "********** finish data londing and begin Hessian computation **********\n",
      "shape of density eigen: 1 100\n",
      "lenth into get_esd_plot: 1 100\n",
      "lenth into density_generate: 1 100\n",
      "len into semilogy: (10000,)\n"
     ]
    },
    {
     "name": "stderr",
     "output_type": "stream",
     "text": [
      "/home/levanson/NAS/Flexible_CNNs/Imperial_Flexible_CNNs/PyHessian/density_plot.py:35: RuntimeWarning: More than 20 figures have been opened. Figures created through the pyplot interface (`matplotlib.pyplot.figure`) are retained until explicitly closed and may consume too much memory. (To control this warning, see the rcParam `figure.max_open_warning`).\n",
      "  plt.figure()\n"
     ]
    },
    {
     "name": "stdout",
     "output_type": "stream",
     "text": [
      "19.07894736842105 % complete\n",
      "CUDA Available:  True\n",
      "fff 1\n",
      "mini_hessian_batch_size 200\n",
      "hessian_batch_size 200\n",
      "seed 1\n",
      "batch_norm True\n",
      "residual True\n",
      "cuda True\n",
      "resume fmnist_flex_model_14_52.pth\n",
      "********** finish data londing and begin Hessian computation **********\n",
      "shape of density eigen: 1 100\n",
      "lenth into get_esd_plot: 1 100\n",
      "lenth into density_generate: 1 100\n",
      "len into semilogy: (10000,)\n"
     ]
    },
    {
     "name": "stderr",
     "output_type": "stream",
     "text": [
      "/home/levanson/NAS/Flexible_CNNs/Imperial_Flexible_CNNs/PyHessian/density_plot.py:35: RuntimeWarning: More than 20 figures have been opened. Figures created through the pyplot interface (`matplotlib.pyplot.figure`) are retained until explicitly closed and may consume too much memory. (To control this warning, see the rcParam `figure.max_open_warning`).\n",
      "  plt.figure()\n"
     ]
    },
    {
     "name": "stdout",
     "output_type": "stream",
     "text": [
      "19.736842105263158 % complete\n",
      "CUDA Available:  True\n",
      "fff 1\n",
      "mini_hessian_batch_size 200\n",
      "hessian_batch_size 200\n",
      "seed 1\n",
      "batch_norm True\n",
      "residual True\n",
      "cuda True\n",
      "resume fmnist_flex_model_14_52.pth\n",
      "********** finish data londing and begin Hessian computation **********\n",
      "shape of density eigen: 1 100\n",
      "lenth into get_esd_plot: 1 100\n",
      "lenth into density_generate: 1 100\n",
      "len into semilogy: (10000,)\n"
     ]
    },
    {
     "name": "stderr",
     "output_type": "stream",
     "text": [
      "/home/levanson/NAS/Flexible_CNNs/Imperial_Flexible_CNNs/PyHessian/density_plot.py:35: RuntimeWarning: More than 20 figures have been opened. Figures created through the pyplot interface (`matplotlib.pyplot.figure`) are retained until explicitly closed and may consume too much memory. (To control this warning, see the rcParam `figure.max_open_warning`).\n",
      "  plt.figure()\n"
     ]
    },
    {
     "name": "stdout",
     "output_type": "stream",
     "text": [
      "20.394736842105264 % complete\n",
      "CUDA Available:  True\n",
      "fff 1\n",
      "mini_hessian_batch_size 200\n",
      "hessian_batch_size 200\n",
      "seed 1\n",
      "batch_norm True\n",
      "residual True\n",
      "cuda True\n",
      "resume fmnist_flex_model_14_52.pth\n",
      "********** finish data londing and begin Hessian computation **********\n",
      "shape of density eigen: 1 100\n",
      "lenth into get_esd_plot: 1 100\n",
      "lenth into density_generate: 1 100\n",
      "len into semilogy: (10000,)\n"
     ]
    },
    {
     "name": "stderr",
     "output_type": "stream",
     "text": [
      "/home/levanson/NAS/Flexible_CNNs/Imperial_Flexible_CNNs/PyHessian/density_plot.py:35: RuntimeWarning: More than 20 figures have been opened. Figures created through the pyplot interface (`matplotlib.pyplot.figure`) are retained until explicitly closed and may consume too much memory. (To control this warning, see the rcParam `figure.max_open_warning`).\n",
      "  plt.figure()\n"
     ]
    },
    {
     "name": "stdout",
     "output_type": "stream",
     "text": [
      "21.05263157894737 % complete\n",
      "CUDA Available:  True\n",
      "fff 1\n",
      "mini_hessian_batch_size 200\n",
      "hessian_batch_size 200\n",
      "seed 1\n",
      "batch_norm True\n",
      "residual True\n",
      "cuda True\n",
      "resume fmnist_flex_model_14_52.pth\n",
      "********** finish data londing and begin Hessian computation **********\n",
      "shape of density eigen: 1 100\n",
      "lenth into get_esd_plot: 1 100\n",
      "lenth into density_generate: 1 100\n",
      "len into semilogy: (10000,)\n"
     ]
    },
    {
     "name": "stderr",
     "output_type": "stream",
     "text": [
      "/home/levanson/NAS/Flexible_CNNs/Imperial_Flexible_CNNs/PyHessian/density_plot.py:35: RuntimeWarning: More than 20 figures have been opened. Figures created through the pyplot interface (`matplotlib.pyplot.figure`) are retained until explicitly closed and may consume too much memory. (To control this warning, see the rcParam `figure.max_open_warning`).\n",
      "  plt.figure()\n"
     ]
    },
    {
     "name": "stdout",
     "output_type": "stream",
     "text": [
      "21.710526315789473 % complete\n",
      "CUDA Available:  True\n",
      "fff 1\n",
      "mini_hessian_batch_size 200\n",
      "hessian_batch_size 200\n",
      "seed 1\n",
      "batch_norm True\n",
      "residual True\n",
      "cuda True\n",
      "resume fmnist_flex_model_14_52.pth\n",
      "********** finish data londing and begin Hessian computation **********\n",
      "shape of density eigen: 1 100\n",
      "lenth into get_esd_plot: 1 100\n",
      "lenth into density_generate: 1 100\n",
      "len into semilogy: (10000,)\n"
     ]
    },
    {
     "name": "stderr",
     "output_type": "stream",
     "text": [
      "/home/levanson/NAS/Flexible_CNNs/Imperial_Flexible_CNNs/PyHessian/density_plot.py:35: RuntimeWarning: More than 20 figures have been opened. Figures created through the pyplot interface (`matplotlib.pyplot.figure`) are retained until explicitly closed and may consume too much memory. (To control this warning, see the rcParam `figure.max_open_warning`).\n",
      "  plt.figure()\n"
     ]
    },
    {
     "name": "stdout",
     "output_type": "stream",
     "text": [
      "22.36842105263158 % complete\n",
      "CUDA Available:  True\n",
      "fff 1\n",
      "mini_hessian_batch_size 200\n",
      "hessian_batch_size 200\n",
      "seed 1\n",
      "batch_norm True\n",
      "residual True\n",
      "cuda True\n",
      "resume fmnist_flex_model_14_52.pth\n",
      "********** finish data londing and begin Hessian computation **********\n",
      "shape of density eigen: 1 100\n",
      "lenth into get_esd_plot: 1 100\n",
      "lenth into density_generate: 1 100\n",
      "len into semilogy: (10000,)\n"
     ]
    },
    {
     "name": "stderr",
     "output_type": "stream",
     "text": [
      "/home/levanson/NAS/Flexible_CNNs/Imperial_Flexible_CNNs/PyHessian/density_plot.py:35: RuntimeWarning: More than 20 figures have been opened. Figures created through the pyplot interface (`matplotlib.pyplot.figure`) are retained until explicitly closed and may consume too much memory. (To control this warning, see the rcParam `figure.max_open_warning`).\n",
      "  plt.figure()\n"
     ]
    },
    {
     "name": "stdout",
     "output_type": "stream",
     "text": [
      "23.026315789473685 % complete\n",
      "CUDA Available:  True\n",
      "fff 1\n",
      "mini_hessian_batch_size 200\n",
      "hessian_batch_size 200\n",
      "seed 1\n",
      "batch_norm True\n",
      "residual True\n",
      "cuda True\n",
      "resume fmnist_flex_model_14_52.pth\n",
      "********** finish data londing and begin Hessian computation **********\n",
      "shape of density eigen: 1 100\n",
      "lenth into get_esd_plot: 1 100\n",
      "lenth into density_generate: 1 100\n",
      "len into semilogy: (10000,)\n"
     ]
    },
    {
     "name": "stderr",
     "output_type": "stream",
     "text": [
      "/home/levanson/NAS/Flexible_CNNs/Imperial_Flexible_CNNs/PyHessian/density_plot.py:35: RuntimeWarning: More than 20 figures have been opened. Figures created through the pyplot interface (`matplotlib.pyplot.figure`) are retained until explicitly closed and may consume too much memory. (To control this warning, see the rcParam `figure.max_open_warning`).\n",
      "  plt.figure()\n"
     ]
    },
    {
     "name": "stdout",
     "output_type": "stream",
     "text": [
      "23.68421052631579 % complete\n",
      "CUDA Available:  True\n",
      "fff 1\n",
      "mini_hessian_batch_size 200\n",
      "hessian_batch_size 200\n",
      "seed 1\n",
      "batch_norm True\n",
      "residual True\n",
      "cuda True\n",
      "resume fmnist_flex_model_14_52.pth\n",
      "********** finish data londing and begin Hessian computation **********\n",
      "shape of density eigen: 1 100\n",
      "lenth into get_esd_plot: 1 100\n",
      "lenth into density_generate: 1 100\n",
      "len into semilogy: (10000,)\n"
     ]
    },
    {
     "name": "stderr",
     "output_type": "stream",
     "text": [
      "/home/levanson/NAS/Flexible_CNNs/Imperial_Flexible_CNNs/PyHessian/density_plot.py:35: RuntimeWarning: More than 20 figures have been opened. Figures created through the pyplot interface (`matplotlib.pyplot.figure`) are retained until explicitly closed and may consume too much memory. (To control this warning, see the rcParam `figure.max_open_warning`).\n",
      "  plt.figure()\n"
     ]
    },
    {
     "name": "stdout",
     "output_type": "stream",
     "text": [
      "24.342105263157894 % complete\n",
      "CUDA Available:  True\n",
      "fff 1\n",
      "mini_hessian_batch_size 200\n",
      "hessian_batch_size 200\n",
      "seed 1\n",
      "batch_norm True\n",
      "residual True\n",
      "cuda True\n",
      "resume fmnist_flex_model_14_52.pth\n",
      "********** finish data londing and begin Hessian computation **********\n",
      "shape of density eigen: 1 100\n",
      "lenth into get_esd_plot: 1 100\n",
      "lenth into density_generate: 1 100\n",
      "len into semilogy: (10000,)\n"
     ]
    },
    {
     "name": "stderr",
     "output_type": "stream",
     "text": [
      "/home/levanson/NAS/Flexible_CNNs/Imperial_Flexible_CNNs/PyHessian/density_plot.py:35: RuntimeWarning: More than 20 figures have been opened. Figures created through the pyplot interface (`matplotlib.pyplot.figure`) are retained until explicitly closed and may consume too much memory. (To control this warning, see the rcParam `figure.max_open_warning`).\n",
      "  plt.figure()\n"
     ]
    },
    {
     "name": "stdout",
     "output_type": "stream",
     "text": [
      "25.0 % complete\n",
      "CUDA Available:  True\n",
      "fff 1\n",
      "mini_hessian_batch_size 200\n",
      "hessian_batch_size 200\n",
      "seed 1\n",
      "batch_norm True\n",
      "residual True\n",
      "cuda True\n",
      "resume fmnist_flex_model_14_52.pth\n",
      "********** finish data londing and begin Hessian computation **********\n",
      "shape of density eigen: 1 100\n",
      "lenth into get_esd_plot: 1 100\n",
      "lenth into density_generate: 1 100\n",
      "len into semilogy: (10000,)\n"
     ]
    },
    {
     "name": "stderr",
     "output_type": "stream",
     "text": [
      "/home/levanson/NAS/Flexible_CNNs/Imperial_Flexible_CNNs/PyHessian/density_plot.py:35: RuntimeWarning: More than 20 figures have been opened. Figures created through the pyplot interface (`matplotlib.pyplot.figure`) are retained until explicitly closed and may consume too much memory. (To control this warning, see the rcParam `figure.max_open_warning`).\n",
      "  plt.figure()\n"
     ]
    },
    {
     "name": "stdout",
     "output_type": "stream",
     "text": [
      "25.657894736842106 % complete\n",
      "CUDA Available:  True\n",
      "fff 1\n",
      "mini_hessian_batch_size 200\n",
      "hessian_batch_size 200\n",
      "seed 1\n",
      "batch_norm True\n",
      "residual True\n",
      "cuda True\n",
      "resume fmnist_flex_model_14_52.pth\n",
      "********** finish data londing and begin Hessian computation **********\n",
      "shape of density eigen: 1 100\n",
      "lenth into get_esd_plot: 1 100\n",
      "lenth into density_generate: 1 100\n",
      "len into semilogy: (10000,)\n"
     ]
    },
    {
     "name": "stderr",
     "output_type": "stream",
     "text": [
      "/home/levanson/NAS/Flexible_CNNs/Imperial_Flexible_CNNs/PyHessian/density_plot.py:35: RuntimeWarning: More than 20 figures have been opened. Figures created through the pyplot interface (`matplotlib.pyplot.figure`) are retained until explicitly closed and may consume too much memory. (To control this warning, see the rcParam `figure.max_open_warning`).\n",
      "  plt.figure()\n"
     ]
    },
    {
     "name": "stdout",
     "output_type": "stream",
     "text": [
      "26.31578947368421 % complete\n",
      "CUDA Available:  True\n",
      "fff 1\n",
      "mini_hessian_batch_size 200\n",
      "hessian_batch_size 200\n",
      "seed 1\n",
      "batch_norm True\n",
      "residual True\n",
      "cuda True\n",
      "resume fmnist_flex_model_14_52.pth\n",
      "********** finish data londing and begin Hessian computation **********\n",
      "shape of density eigen: 1 100\n",
      "lenth into get_esd_plot: 1 100\n",
      "lenth into density_generate: 1 100\n",
      "len into semilogy: (10000,)\n"
     ]
    },
    {
     "name": "stderr",
     "output_type": "stream",
     "text": [
      "/home/levanson/NAS/Flexible_CNNs/Imperial_Flexible_CNNs/PyHessian/density_plot.py:35: RuntimeWarning: More than 20 figures have been opened. Figures created through the pyplot interface (`matplotlib.pyplot.figure`) are retained until explicitly closed and may consume too much memory. (To control this warning, see the rcParam `figure.max_open_warning`).\n",
      "  plt.figure()\n"
     ]
    },
    {
     "name": "stdout",
     "output_type": "stream",
     "text": [
      "26.973684210526315 % complete\n",
      "CUDA Available:  True\n",
      "fff 1\n",
      "mini_hessian_batch_size 200\n",
      "hessian_batch_size 200\n",
      "seed 1\n",
      "batch_norm True\n",
      "residual True\n",
      "cuda True\n",
      "resume fmnist_flex_model_14_52.pth\n",
      "********** finish data londing and begin Hessian computation **********\n",
      "shape of density eigen: 1 100\n",
      "lenth into get_esd_plot: 1 100\n",
      "lenth into density_generate: 1 100\n",
      "len into semilogy: (10000,)\n"
     ]
    },
    {
     "name": "stderr",
     "output_type": "stream",
     "text": [
      "/home/levanson/NAS/Flexible_CNNs/Imperial_Flexible_CNNs/PyHessian/density_plot.py:35: RuntimeWarning: More than 20 figures have been opened. Figures created through the pyplot interface (`matplotlib.pyplot.figure`) are retained until explicitly closed and may consume too much memory. (To control this warning, see the rcParam `figure.max_open_warning`).\n",
      "  plt.figure()\n"
     ]
    },
    {
     "name": "stdout",
     "output_type": "stream",
     "text": [
      "27.63157894736842 % complete\n",
      "CUDA Available:  True\n",
      "fff 1\n",
      "mini_hessian_batch_size 200\n",
      "hessian_batch_size 200\n",
      "seed 1\n",
      "batch_norm True\n",
      "residual True\n",
      "cuda True\n",
      "resume fmnist_flex_model_14_52.pth\n",
      "********** finish data londing and begin Hessian computation **********\n",
      "shape of density eigen: 1 100\n",
      "lenth into get_esd_plot: 1 100\n",
      "lenth into density_generate: 1 100\n",
      "len into semilogy: (10000,)\n"
     ]
    },
    {
     "name": "stderr",
     "output_type": "stream",
     "text": [
      "/home/levanson/NAS/Flexible_CNNs/Imperial_Flexible_CNNs/PyHessian/density_plot.py:35: RuntimeWarning: More than 20 figures have been opened. Figures created through the pyplot interface (`matplotlib.pyplot.figure`) are retained until explicitly closed and may consume too much memory. (To control this warning, see the rcParam `figure.max_open_warning`).\n",
      "  plt.figure()\n"
     ]
    },
    {
     "name": "stdout",
     "output_type": "stream",
     "text": [
      "28.289473684210527 % complete\n",
      "CUDA Available:  True\n",
      "fff 1\n",
      "mini_hessian_batch_size 200\n",
      "hessian_batch_size 200\n",
      "seed 1\n",
      "batch_norm True\n",
      "residual True\n",
      "cuda True\n",
      "resume fmnist_flex_model_14_52.pth\n",
      "********** finish data londing and begin Hessian computation **********\n",
      "shape of density eigen: 1 100\n",
      "lenth into get_esd_plot: 1 100\n",
      "lenth into density_generate: 1 100\n",
      "len into semilogy: (10000,)\n"
     ]
    },
    {
     "name": "stderr",
     "output_type": "stream",
     "text": [
      "/home/levanson/NAS/Flexible_CNNs/Imperial_Flexible_CNNs/PyHessian/density_plot.py:35: RuntimeWarning: More than 20 figures have been opened. Figures created through the pyplot interface (`matplotlib.pyplot.figure`) are retained until explicitly closed and may consume too much memory. (To control this warning, see the rcParam `figure.max_open_warning`).\n",
      "  plt.figure()\n"
     ]
    },
    {
     "name": "stdout",
     "output_type": "stream",
     "text": [
      "28.94736842105263 % complete\n",
      "CUDA Available:  True\n",
      "fff 1\n",
      "mini_hessian_batch_size 200\n",
      "hessian_batch_size 200\n",
      "seed 1\n",
      "batch_norm True\n",
      "residual True\n",
      "cuda True\n",
      "resume fmnist_flex_model_14_52.pth\n",
      "********** finish data londing and begin Hessian computation **********\n",
      "shape of density eigen: 1 100\n",
      "lenth into get_esd_plot: 1 100\n",
      "lenth into density_generate: 1 100\n",
      "len into semilogy: (10000,)\n"
     ]
    },
    {
     "name": "stderr",
     "output_type": "stream",
     "text": [
      "/home/levanson/NAS/Flexible_CNNs/Imperial_Flexible_CNNs/PyHessian/density_plot.py:35: RuntimeWarning: More than 20 figures have been opened. Figures created through the pyplot interface (`matplotlib.pyplot.figure`) are retained until explicitly closed and may consume too much memory. (To control this warning, see the rcParam `figure.max_open_warning`).\n",
      "  plt.figure()\n"
     ]
    },
    {
     "name": "stdout",
     "output_type": "stream",
     "text": [
      "29.605263157894736 % complete\n",
      "CUDA Available:  True\n",
      "fff 1\n",
      "mini_hessian_batch_size 200\n",
      "hessian_batch_size 200\n",
      "seed 1\n",
      "batch_norm True\n",
      "residual True\n",
      "cuda True\n",
      "resume fmnist_flex_model_14_52.pth\n",
      "********** finish data londing and begin Hessian computation **********\n",
      "shape of density eigen: 1 100\n",
      "lenth into get_esd_plot: 1 100\n",
      "lenth into density_generate: 1 100\n",
      "len into semilogy: (10000,)\n"
     ]
    },
    {
     "name": "stderr",
     "output_type": "stream",
     "text": [
      "/home/levanson/NAS/Flexible_CNNs/Imperial_Flexible_CNNs/PyHessian/density_plot.py:35: RuntimeWarning: More than 20 figures have been opened. Figures created through the pyplot interface (`matplotlib.pyplot.figure`) are retained until explicitly closed and may consume too much memory. (To control this warning, see the rcParam `figure.max_open_warning`).\n",
      "  plt.figure()\n"
     ]
    },
    {
     "name": "stdout",
     "output_type": "stream",
     "text": [
      "30.263157894736842 % complete\n",
      "CUDA Available:  True\n",
      "fff 1\n",
      "mini_hessian_batch_size 200\n",
      "hessian_batch_size 200\n",
      "seed 1\n",
      "batch_norm True\n",
      "residual True\n",
      "cuda True\n",
      "resume fmnist_flex_model_14_52.pth\n",
      "********** finish data londing and begin Hessian computation **********\n",
      "shape of density eigen: 1 100\n",
      "lenth into get_esd_plot: 1 100\n",
      "lenth into density_generate: 1 100\n",
      "len into semilogy: (10000,)\n"
     ]
    },
    {
     "name": "stderr",
     "output_type": "stream",
     "text": [
      "/home/levanson/NAS/Flexible_CNNs/Imperial_Flexible_CNNs/PyHessian/density_plot.py:35: RuntimeWarning: More than 20 figures have been opened. Figures created through the pyplot interface (`matplotlib.pyplot.figure`) are retained until explicitly closed and may consume too much memory. (To control this warning, see the rcParam `figure.max_open_warning`).\n",
      "  plt.figure()\n"
     ]
    },
    {
     "name": "stdout",
     "output_type": "stream",
     "text": [
      "30.92105263157895 % complete\n",
      "CUDA Available:  True\n",
      "fff 1\n",
      "mini_hessian_batch_size 200\n",
      "hessian_batch_size 200\n",
      "seed 1\n",
      "batch_norm True\n",
      "residual True\n",
      "cuda True\n",
      "resume fmnist_flex_model_14_52.pth\n",
      "********** finish data londing and begin Hessian computation **********\n",
      "shape of density eigen: 1 100\n",
      "lenth into get_esd_plot: 1 100\n",
      "lenth into density_generate: 1 100\n",
      "len into semilogy: (10000,)\n"
     ]
    },
    {
     "name": "stderr",
     "output_type": "stream",
     "text": [
      "/home/levanson/NAS/Flexible_CNNs/Imperial_Flexible_CNNs/PyHessian/density_plot.py:35: RuntimeWarning: More than 20 figures have been opened. Figures created through the pyplot interface (`matplotlib.pyplot.figure`) are retained until explicitly closed and may consume too much memory. (To control this warning, see the rcParam `figure.max_open_warning`).\n",
      "  plt.figure()\n"
     ]
    },
    {
     "name": "stdout",
     "output_type": "stream",
     "text": [
      "31.57894736842105 % complete\n",
      "CUDA Available:  True\n",
      "fff 1\n",
      "mini_hessian_batch_size 200\n",
      "hessian_batch_size 200\n",
      "seed 1\n",
      "batch_norm True\n",
      "residual True\n",
      "cuda True\n",
      "resume fmnist_flex_model_14_52.pth\n",
      "********** finish data londing and begin Hessian computation **********\n",
      "shape of density eigen: 1 100\n",
      "lenth into get_esd_plot: 1 100\n",
      "lenth into density_generate: 1 100\n",
      "len into semilogy: (10000,)\n"
     ]
    },
    {
     "name": "stderr",
     "output_type": "stream",
     "text": [
      "/home/levanson/NAS/Flexible_CNNs/Imperial_Flexible_CNNs/PyHessian/density_plot.py:35: RuntimeWarning: More than 20 figures have been opened. Figures created through the pyplot interface (`matplotlib.pyplot.figure`) are retained until explicitly closed and may consume too much memory. (To control this warning, see the rcParam `figure.max_open_warning`).\n",
      "  plt.figure()\n"
     ]
    },
    {
     "name": "stdout",
     "output_type": "stream",
     "text": [
      "32.23684210526316 % complete\n",
      "CUDA Available:  True\n",
      "fff 1\n",
      "mini_hessian_batch_size 200\n",
      "hessian_batch_size 200\n",
      "seed 1\n",
      "batch_norm True\n",
      "residual True\n",
      "cuda True\n",
      "resume fmnist_flex_model_14_52.pth\n",
      "********** finish data londing and begin Hessian computation **********\n",
      "shape of density eigen: 1 100\n",
      "lenth into get_esd_plot: 1 100\n",
      "lenth into density_generate: 1 100\n",
      "len into semilogy: (10000,)\n"
     ]
    },
    {
     "name": "stderr",
     "output_type": "stream",
     "text": [
      "/home/levanson/NAS/Flexible_CNNs/Imperial_Flexible_CNNs/PyHessian/density_plot.py:35: RuntimeWarning: More than 20 figures have been opened. Figures created through the pyplot interface (`matplotlib.pyplot.figure`) are retained until explicitly closed and may consume too much memory. (To control this warning, see the rcParam `figure.max_open_warning`).\n",
      "  plt.figure()\n"
     ]
    },
    {
     "name": "stdout",
     "output_type": "stream",
     "text": [
      "32.89473684210526 % complete\n",
      "CUDA Available:  True\n",
      "fff 1\n",
      "mini_hessian_batch_size 200\n",
      "hessian_batch_size 200\n",
      "seed 1\n",
      "batch_norm True\n",
      "residual True\n",
      "cuda True\n",
      "resume fmnist_flex_model_14_52.pth\n",
      "********** finish data londing and begin Hessian computation **********\n",
      "shape of density eigen: 1 100\n",
      "lenth into get_esd_plot: 1 100\n",
      "lenth into density_generate: 1 100\n",
      "len into semilogy: (10000,)\n"
     ]
    },
    {
     "name": "stderr",
     "output_type": "stream",
     "text": [
      "/home/levanson/NAS/Flexible_CNNs/Imperial_Flexible_CNNs/PyHessian/density_plot.py:35: RuntimeWarning: More than 20 figures have been opened. Figures created through the pyplot interface (`matplotlib.pyplot.figure`) are retained until explicitly closed and may consume too much memory. (To control this warning, see the rcParam `figure.max_open_warning`).\n",
      "  plt.figure()\n"
     ]
    },
    {
     "name": "stdout",
     "output_type": "stream",
     "text": [
      "33.55263157894737 % complete\n",
      "CUDA Available:  True\n",
      "fff 1\n",
      "mini_hessian_batch_size 200\n",
      "hessian_batch_size 200\n",
      "seed 1\n",
      "batch_norm True\n",
      "residual True\n",
      "cuda True\n",
      "resume fmnist_flex_model_14_52.pth\n",
      "********** finish data londing and begin Hessian computation **********\n",
      "shape of density eigen: 1 100\n",
      "lenth into get_esd_plot: 1 100\n",
      "lenth into density_generate: 1 100\n",
      "len into semilogy: (10000,)\n"
     ]
    },
    {
     "name": "stderr",
     "output_type": "stream",
     "text": [
      "/home/levanson/NAS/Flexible_CNNs/Imperial_Flexible_CNNs/PyHessian/density_plot.py:35: RuntimeWarning: More than 20 figures have been opened. Figures created through the pyplot interface (`matplotlib.pyplot.figure`) are retained until explicitly closed and may consume too much memory. (To control this warning, see the rcParam `figure.max_open_warning`).\n",
      "  plt.figure()\n"
     ]
    },
    {
     "name": "stdout",
     "output_type": "stream",
     "text": [
      "34.21052631578947 % complete\n",
      "CUDA Available:  True\n",
      "fff 1\n",
      "mini_hessian_batch_size 200\n",
      "hessian_batch_size 200\n",
      "seed 1\n",
      "batch_norm True\n",
      "residual True\n",
      "cuda True\n",
      "resume fmnist_flex_model_14_52.pth\n",
      "********** finish data londing and begin Hessian computation **********\n",
      "shape of density eigen: 1 100\n",
      "lenth into get_esd_plot: 1 100\n",
      "lenth into density_generate: 1 100\n",
      "len into semilogy: (10000,)\n"
     ]
    },
    {
     "name": "stderr",
     "output_type": "stream",
     "text": [
      "/home/levanson/NAS/Flexible_CNNs/Imperial_Flexible_CNNs/PyHessian/density_plot.py:35: RuntimeWarning: More than 20 figures have been opened. Figures created through the pyplot interface (`matplotlib.pyplot.figure`) are retained until explicitly closed and may consume too much memory. (To control this warning, see the rcParam `figure.max_open_warning`).\n",
      "  plt.figure()\n"
     ]
    },
    {
     "name": "stdout",
     "output_type": "stream",
     "text": [
      "34.86842105263158 % complete\n",
      "CUDA Available:  True\n",
      "fff 1\n",
      "mini_hessian_batch_size 200\n",
      "hessian_batch_size 200\n",
      "seed 1\n",
      "batch_norm True\n",
      "residual True\n",
      "cuda True\n",
      "resume fmnist_flex_model_14_52.pth\n",
      "********** finish data londing and begin Hessian computation **********\n",
      "shape of density eigen: 1 100\n",
      "lenth into get_esd_plot: 1 100\n",
      "lenth into density_generate: 1 100\n",
      "len into semilogy: (10000,)\n"
     ]
    },
    {
     "name": "stderr",
     "output_type": "stream",
     "text": [
      "/home/levanson/NAS/Flexible_CNNs/Imperial_Flexible_CNNs/PyHessian/density_plot.py:35: RuntimeWarning: More than 20 figures have been opened. Figures created through the pyplot interface (`matplotlib.pyplot.figure`) are retained until explicitly closed and may consume too much memory. (To control this warning, see the rcParam `figure.max_open_warning`).\n",
      "  plt.figure()\n"
     ]
    },
    {
     "name": "stdout",
     "output_type": "stream",
     "text": [
      "35.526315789473685 % complete\n",
      "CUDA Available:  True\n",
      "fff 1\n",
      "mini_hessian_batch_size 200\n",
      "hessian_batch_size 200\n",
      "seed 1\n",
      "batch_norm True\n",
      "residual True\n",
      "cuda True\n",
      "resume fmnist_flex_model_14_52.pth\n",
      "********** finish data londing and begin Hessian computation **********\n",
      "shape of density eigen: 1 100\n",
      "lenth into get_esd_plot: 1 100\n",
      "lenth into density_generate: 1 100\n",
      "len into semilogy: (10000,)\n"
     ]
    },
    {
     "name": "stderr",
     "output_type": "stream",
     "text": [
      "/home/levanson/NAS/Flexible_CNNs/Imperial_Flexible_CNNs/PyHessian/density_plot.py:35: RuntimeWarning: More than 20 figures have been opened. Figures created through the pyplot interface (`matplotlib.pyplot.figure`) are retained until explicitly closed and may consume too much memory. (To control this warning, see the rcParam `figure.max_open_warning`).\n",
      "  plt.figure()\n"
     ]
    },
    {
     "name": "stdout",
     "output_type": "stream",
     "text": [
      "36.18421052631579 % complete\n",
      "CUDA Available:  True\n",
      "fff 1\n",
      "mini_hessian_batch_size 200\n",
      "hessian_batch_size 200\n",
      "seed 1\n",
      "batch_norm True\n",
      "residual True\n",
      "cuda True\n",
      "resume fmnist_flex_model_14_52.pth\n",
      "********** finish data londing and begin Hessian computation **********\n",
      "shape of density eigen: 1 100\n",
      "lenth into get_esd_plot: 1 100\n",
      "lenth into density_generate: 1 100\n",
      "len into semilogy: (10000,)\n"
     ]
    },
    {
     "name": "stderr",
     "output_type": "stream",
     "text": [
      "/home/levanson/NAS/Flexible_CNNs/Imperial_Flexible_CNNs/PyHessian/density_plot.py:35: RuntimeWarning: More than 20 figures have been opened. Figures created through the pyplot interface (`matplotlib.pyplot.figure`) are retained until explicitly closed and may consume too much memory. (To control this warning, see the rcParam `figure.max_open_warning`).\n",
      "  plt.figure()\n"
     ]
    },
    {
     "name": "stdout",
     "output_type": "stream",
     "text": [
      "36.8421052631579 % complete\n",
      "CUDA Available:  True\n",
      "fff 1\n",
      "mini_hessian_batch_size 200\n",
      "hessian_batch_size 200\n",
      "seed 1\n",
      "batch_norm True\n",
      "residual True\n",
      "cuda True\n",
      "resume fmnist_flex_model_14_52.pth\n",
      "********** finish data londing and begin Hessian computation **********\n",
      "shape of density eigen: 1 100\n",
      "lenth into get_esd_plot: 1 100\n",
      "lenth into density_generate: 1 100\n",
      "len into semilogy: (10000,)\n"
     ]
    },
    {
     "name": "stderr",
     "output_type": "stream",
     "text": [
      "/home/levanson/NAS/Flexible_CNNs/Imperial_Flexible_CNNs/PyHessian/density_plot.py:35: RuntimeWarning: More than 20 figures have been opened. Figures created through the pyplot interface (`matplotlib.pyplot.figure`) are retained until explicitly closed and may consume too much memory. (To control this warning, see the rcParam `figure.max_open_warning`).\n",
      "  plt.figure()\n"
     ]
    },
    {
     "name": "stdout",
     "output_type": "stream",
     "text": [
      "37.5 % complete\n",
      "CUDA Available:  True\n",
      "fff 1\n",
      "mini_hessian_batch_size 200\n",
      "hessian_batch_size 200\n",
      "seed 1\n",
      "batch_norm True\n",
      "residual True\n",
      "cuda True\n",
      "resume fmnist_flex_model_14_52.pth\n",
      "********** finish data londing and begin Hessian computation **********\n",
      "shape of density eigen: 1 100\n",
      "lenth into get_esd_plot: 1 100\n",
      "lenth into density_generate: 1 100\n",
      "len into semilogy: (10000,)\n"
     ]
    },
    {
     "name": "stderr",
     "output_type": "stream",
     "text": [
      "/home/levanson/NAS/Flexible_CNNs/Imperial_Flexible_CNNs/PyHessian/density_plot.py:35: RuntimeWarning: More than 20 figures have been opened. Figures created through the pyplot interface (`matplotlib.pyplot.figure`) are retained until explicitly closed and may consume too much memory. (To control this warning, see the rcParam `figure.max_open_warning`).\n",
      "  plt.figure()\n"
     ]
    },
    {
     "name": "stdout",
     "output_type": "stream",
     "text": [
      "38.1578947368421 % complete\n",
      "CUDA Available:  True\n",
      "fff 1\n",
      "mini_hessian_batch_size 200\n",
      "hessian_batch_size 200\n",
      "seed 1\n",
      "batch_norm True\n",
      "residual True\n",
      "cuda True\n",
      "resume fmnist_flex_model_14_52.pth\n",
      "********** finish data londing and begin Hessian computation **********\n",
      "shape of density eigen: 1 100\n",
      "lenth into get_esd_plot: 1 100\n",
      "lenth into density_generate: 1 100\n",
      "len into semilogy: (10000,)\n"
     ]
    },
    {
     "name": "stderr",
     "output_type": "stream",
     "text": [
      "/home/levanson/NAS/Flexible_CNNs/Imperial_Flexible_CNNs/PyHessian/density_plot.py:35: RuntimeWarning: More than 20 figures have been opened. Figures created through the pyplot interface (`matplotlib.pyplot.figure`) are retained until explicitly closed and may consume too much memory. (To control this warning, see the rcParam `figure.max_open_warning`).\n",
      "  plt.figure()\n"
     ]
    },
    {
     "name": "stdout",
     "output_type": "stream",
     "text": [
      "38.81578947368421 % complete\n",
      "CUDA Available:  True\n",
      "fff 1\n",
      "mini_hessian_batch_size 200\n",
      "hessian_batch_size 200\n",
      "seed 1\n",
      "batch_norm True\n",
      "residual True\n",
      "cuda True\n",
      "resume fmnist_flex_model_14_52.pth\n",
      "********** finish data londing and begin Hessian computation **********\n",
      "shape of density eigen: 1 100\n",
      "lenth into get_esd_plot: 1 100\n",
      "lenth into density_generate: 1 100\n",
      "len into semilogy: (10000,)\n"
     ]
    },
    {
     "name": "stderr",
     "output_type": "stream",
     "text": [
      "/home/levanson/NAS/Flexible_CNNs/Imperial_Flexible_CNNs/PyHessian/density_plot.py:35: RuntimeWarning: More than 20 figures have been opened. Figures created through the pyplot interface (`matplotlib.pyplot.figure`) are retained until explicitly closed and may consume too much memory. (To control this warning, see the rcParam `figure.max_open_warning`).\n",
      "  plt.figure()\n"
     ]
    },
    {
     "name": "stdout",
     "output_type": "stream",
     "text": [
      "39.473684210526315 % complete\n",
      "CUDA Available:  True\n",
      "fff 1\n",
      "mini_hessian_batch_size 200\n",
      "hessian_batch_size 200\n",
      "seed 1\n",
      "batch_norm True\n",
      "residual True\n",
      "cuda True\n",
      "resume fmnist_flex_model_14_52.pth\n",
      "********** finish data londing and begin Hessian computation **********\n",
      "shape of density eigen: 1 100\n",
      "lenth into get_esd_plot: 1 100\n",
      "lenth into density_generate: 1 100\n",
      "len into semilogy: (10000,)\n"
     ]
    },
    {
     "name": "stderr",
     "output_type": "stream",
     "text": [
      "/home/levanson/NAS/Flexible_CNNs/Imperial_Flexible_CNNs/PyHessian/density_plot.py:35: RuntimeWarning: More than 20 figures have been opened. Figures created through the pyplot interface (`matplotlib.pyplot.figure`) are retained until explicitly closed and may consume too much memory. (To control this warning, see the rcParam `figure.max_open_warning`).\n",
      "  plt.figure()\n"
     ]
    },
    {
     "name": "stdout",
     "output_type": "stream",
     "text": [
      "40.13157894736842 % complete\n",
      "CUDA Available:  True\n",
      "fff 1\n",
      "mini_hessian_batch_size 200\n",
      "hessian_batch_size 200\n",
      "seed 1\n",
      "batch_norm True\n",
      "residual True\n",
      "cuda True\n",
      "resume fmnist_flex_model_14_52.pth\n",
      "********** finish data londing and begin Hessian computation **********\n",
      "shape of density eigen: 1 100\n",
      "lenth into get_esd_plot: 1 100\n",
      "lenth into density_generate: 1 100\n",
      "len into semilogy: (10000,)\n"
     ]
    },
    {
     "name": "stderr",
     "output_type": "stream",
     "text": [
      "/home/levanson/NAS/Flexible_CNNs/Imperial_Flexible_CNNs/PyHessian/density_plot.py:35: RuntimeWarning: More than 20 figures have been opened. Figures created through the pyplot interface (`matplotlib.pyplot.figure`) are retained until explicitly closed and may consume too much memory. (To control this warning, see the rcParam `figure.max_open_warning`).\n",
      "  plt.figure()\n"
     ]
    },
    {
     "name": "stdout",
     "output_type": "stream",
     "text": [
      "40.78947368421053 % complete\n",
      "CUDA Available:  True\n",
      "fff 1\n",
      "mini_hessian_batch_size 200\n",
      "hessian_batch_size 200\n",
      "seed 1\n",
      "batch_norm True\n",
      "residual True\n",
      "cuda True\n",
      "resume fmnist_flex_model_14_52.pth\n",
      "********** finish data londing and begin Hessian computation **********\n",
      "shape of density eigen: 1 100\n",
      "lenth into get_esd_plot: 1 100\n",
      "lenth into density_generate: 1 100\n",
      "len into semilogy: (10000,)\n"
     ]
    },
    {
     "name": "stderr",
     "output_type": "stream",
     "text": [
      "/home/levanson/NAS/Flexible_CNNs/Imperial_Flexible_CNNs/PyHessian/density_plot.py:35: RuntimeWarning: More than 20 figures have been opened. Figures created through the pyplot interface (`matplotlib.pyplot.figure`) are retained until explicitly closed and may consume too much memory. (To control this warning, see the rcParam `figure.max_open_warning`).\n",
      "  plt.figure()\n"
     ]
    },
    {
     "name": "stdout",
     "output_type": "stream",
     "text": [
      "41.44736842105263 % complete\n",
      "CUDA Available:  True\n",
      "fff 1\n",
      "mini_hessian_batch_size 200\n",
      "hessian_batch_size 200\n",
      "seed 1\n",
      "batch_norm True\n",
      "residual True\n",
      "cuda True\n",
      "resume fmnist_flex_model_14_52.pth\n",
      "********** finish data londing and begin Hessian computation **********\n",
      "shape of density eigen: 1 100\n",
      "lenth into get_esd_plot: 1 100\n",
      "lenth into density_generate: 1 100\n",
      "len into semilogy: (10000,)\n"
     ]
    },
    {
     "name": "stderr",
     "output_type": "stream",
     "text": [
      "/home/levanson/NAS/Flexible_CNNs/Imperial_Flexible_CNNs/PyHessian/density_plot.py:35: RuntimeWarning: More than 20 figures have been opened. Figures created through the pyplot interface (`matplotlib.pyplot.figure`) are retained until explicitly closed and may consume too much memory. (To control this warning, see the rcParam `figure.max_open_warning`).\n",
      "  plt.figure()\n"
     ]
    },
    {
     "name": "stdout",
     "output_type": "stream",
     "text": [
      "42.10526315789474 % complete\n",
      "CUDA Available:  True\n",
      "fff 1\n",
      "mini_hessian_batch_size 200\n",
      "hessian_batch_size 200\n",
      "seed 1\n",
      "batch_norm True\n",
      "residual True\n",
      "cuda True\n",
      "resume fmnist_flex_model_14_52.pth\n",
      "********** finish data londing and begin Hessian computation **********\n",
      "shape of density eigen: 1 100\n",
      "lenth into get_esd_plot: 1 100\n",
      "lenth into density_generate: 1 100\n",
      "len into semilogy: (10000,)\n"
     ]
    },
    {
     "name": "stderr",
     "output_type": "stream",
     "text": [
      "/home/levanson/NAS/Flexible_CNNs/Imperial_Flexible_CNNs/PyHessian/density_plot.py:35: RuntimeWarning: More than 20 figures have been opened. Figures created through the pyplot interface (`matplotlib.pyplot.figure`) are retained until explicitly closed and may consume too much memory. (To control this warning, see the rcParam `figure.max_open_warning`).\n",
      "  plt.figure()\n"
     ]
    },
    {
     "name": "stdout",
     "output_type": "stream",
     "text": [
      "42.76315789473684 % complete\n",
      "CUDA Available:  True\n",
      "fff 1\n",
      "mini_hessian_batch_size 200\n",
      "hessian_batch_size 200\n",
      "seed 1\n",
      "batch_norm True\n",
      "residual True\n",
      "cuda True\n",
      "resume fmnist_flex_model_14_52.pth\n",
      "********** finish data londing and begin Hessian computation **********\n",
      "shape of density eigen: 1 100\n",
      "lenth into get_esd_plot: 1 100\n",
      "lenth into density_generate: 1 100\n",
      "len into semilogy: (10000,)\n"
     ]
    },
    {
     "name": "stderr",
     "output_type": "stream",
     "text": [
      "/home/levanson/NAS/Flexible_CNNs/Imperial_Flexible_CNNs/PyHessian/density_plot.py:35: RuntimeWarning: More than 20 figures have been opened. Figures created through the pyplot interface (`matplotlib.pyplot.figure`) are retained until explicitly closed and may consume too much memory. (To control this warning, see the rcParam `figure.max_open_warning`).\n",
      "  plt.figure()\n"
     ]
    },
    {
     "name": "stdout",
     "output_type": "stream",
     "text": [
      "43.421052631578945 % complete\n",
      "CUDA Available:  True\n",
      "fff 1\n",
      "mini_hessian_batch_size 200\n",
      "hessian_batch_size 200\n",
      "seed 1\n",
      "batch_norm True\n",
      "residual True\n",
      "cuda True\n",
      "resume fmnist_flex_model_14_52.pth\n",
      "********** finish data londing and begin Hessian computation **********\n",
      "shape of density eigen: 1 100\n",
      "lenth into get_esd_plot: 1 100\n",
      "lenth into density_generate: 1 100\n",
      "len into semilogy: (10000,)\n"
     ]
    },
    {
     "name": "stderr",
     "output_type": "stream",
     "text": [
      "/home/levanson/NAS/Flexible_CNNs/Imperial_Flexible_CNNs/PyHessian/density_plot.py:35: RuntimeWarning: More than 20 figures have been opened. Figures created through the pyplot interface (`matplotlib.pyplot.figure`) are retained until explicitly closed and may consume too much memory. (To control this warning, see the rcParam `figure.max_open_warning`).\n",
      "  plt.figure()\n"
     ]
    },
    {
     "name": "stdout",
     "output_type": "stream",
     "text": [
      "44.078947368421055 % complete\n",
      "CUDA Available:  True\n",
      "fff 1\n",
      "mini_hessian_batch_size 200\n",
      "hessian_batch_size 200\n",
      "seed 1\n",
      "batch_norm True\n",
      "residual True\n",
      "cuda True\n",
      "resume fmnist_flex_model_14_52.pth\n",
      "********** finish data londing and begin Hessian computation **********\n",
      "shape of density eigen: 1 100\n",
      "lenth into get_esd_plot: 1 100\n",
      "lenth into density_generate: 1 100\n",
      "len into semilogy: (10000,)\n"
     ]
    },
    {
     "name": "stderr",
     "output_type": "stream",
     "text": [
      "/home/levanson/NAS/Flexible_CNNs/Imperial_Flexible_CNNs/PyHessian/density_plot.py:35: RuntimeWarning: More than 20 figures have been opened. Figures created through the pyplot interface (`matplotlib.pyplot.figure`) are retained until explicitly closed and may consume too much memory. (To control this warning, see the rcParam `figure.max_open_warning`).\n",
      "  plt.figure()\n"
     ]
    },
    {
     "name": "stdout",
     "output_type": "stream",
     "text": [
      "44.73684210526316 % complete\n",
      "CUDA Available:  True\n",
      "fff 1\n",
      "mini_hessian_batch_size 200\n",
      "hessian_batch_size 200\n",
      "seed 1\n",
      "batch_norm True\n",
      "residual True\n",
      "cuda True\n",
      "resume fmnist_flex_model_14_52.pth\n",
      "********** finish data londing and begin Hessian computation **********\n",
      "shape of density eigen: 1 100\n",
      "lenth into get_esd_plot: 1 100\n",
      "lenth into density_generate: 1 100\n",
      "len into semilogy: (10000,)\n"
     ]
    },
    {
     "name": "stderr",
     "output_type": "stream",
     "text": [
      "/home/levanson/NAS/Flexible_CNNs/Imperial_Flexible_CNNs/PyHessian/density_plot.py:35: RuntimeWarning: More than 20 figures have been opened. Figures created through the pyplot interface (`matplotlib.pyplot.figure`) are retained until explicitly closed and may consume too much memory. (To control this warning, see the rcParam `figure.max_open_warning`).\n",
      "  plt.figure()\n"
     ]
    },
    {
     "name": "stdout",
     "output_type": "stream",
     "text": [
      "45.39473684210526 % complete\n",
      "CUDA Available:  True\n",
      "fff 1\n",
      "mini_hessian_batch_size 200\n",
      "hessian_batch_size 200\n",
      "seed 1\n",
      "batch_norm True\n",
      "residual True\n",
      "cuda True\n",
      "resume fmnist_flex_model_14_52.pth\n",
      "********** finish data londing and begin Hessian computation **********\n",
      "shape of density eigen: 1 100\n",
      "lenth into get_esd_plot: 1 100\n",
      "lenth into density_generate: 1 100\n",
      "len into semilogy: (10000,)\n"
     ]
    },
    {
     "name": "stderr",
     "output_type": "stream",
     "text": [
      "/home/levanson/NAS/Flexible_CNNs/Imperial_Flexible_CNNs/PyHessian/density_plot.py:35: RuntimeWarning: More than 20 figures have been opened. Figures created through the pyplot interface (`matplotlib.pyplot.figure`) are retained until explicitly closed and may consume too much memory. (To control this warning, see the rcParam `figure.max_open_warning`).\n",
      "  plt.figure()\n"
     ]
    },
    {
     "name": "stdout",
     "output_type": "stream",
     "text": [
      "46.05263157894737 % complete\n",
      "CUDA Available:  True\n",
      "fff 1\n",
      "mini_hessian_batch_size 200\n",
      "hessian_batch_size 200\n",
      "seed 1\n",
      "batch_norm True\n",
      "residual True\n",
      "cuda True\n",
      "resume fmnist_flex_model_14_52.pth\n",
      "********** finish data londing and begin Hessian computation **********\n",
      "shape of density eigen: 1 100\n",
      "lenth into get_esd_plot: 1 100\n",
      "lenth into density_generate: 1 100\n",
      "len into semilogy: (10000,)\n"
     ]
    },
    {
     "name": "stderr",
     "output_type": "stream",
     "text": [
      "/home/levanson/NAS/Flexible_CNNs/Imperial_Flexible_CNNs/PyHessian/density_plot.py:35: RuntimeWarning: More than 20 figures have been opened. Figures created through the pyplot interface (`matplotlib.pyplot.figure`) are retained until explicitly closed and may consume too much memory. (To control this warning, see the rcParam `figure.max_open_warning`).\n",
      "  plt.figure()\n"
     ]
    },
    {
     "name": "stdout",
     "output_type": "stream",
     "text": [
      "46.71052631578947 % complete\n",
      "CUDA Available:  True\n",
      "fff 1\n",
      "mini_hessian_batch_size 200\n",
      "hessian_batch_size 200\n",
      "seed 1\n",
      "batch_norm True\n",
      "residual True\n",
      "cuda True\n",
      "resume fmnist_flex_model_14_52.pth\n",
      "********** finish data londing and begin Hessian computation **********\n",
      "shape of density eigen: 1 100\n",
      "lenth into get_esd_plot: 1 100\n",
      "lenth into density_generate: 1 100\n",
      "len into semilogy: (10000,)\n"
     ]
    },
    {
     "name": "stderr",
     "output_type": "stream",
     "text": [
      "/home/levanson/NAS/Flexible_CNNs/Imperial_Flexible_CNNs/PyHessian/density_plot.py:35: RuntimeWarning: More than 20 figures have been opened. Figures created through the pyplot interface (`matplotlib.pyplot.figure`) are retained until explicitly closed and may consume too much memory. (To control this warning, see the rcParam `figure.max_open_warning`).\n",
      "  plt.figure()\n"
     ]
    },
    {
     "name": "stdout",
     "output_type": "stream",
     "text": [
      "47.36842105263158 % complete\n",
      "CUDA Available:  True\n",
      "fff 1\n",
      "mini_hessian_batch_size 200\n",
      "hessian_batch_size 200\n",
      "seed 1\n",
      "batch_norm True\n",
      "residual True\n",
      "cuda True\n",
      "resume fmnist_flex_model_14_52.pth\n",
      "********** finish data londing and begin Hessian computation **********\n",
      "shape of density eigen: 1 100\n",
      "lenth into get_esd_plot: 1 100\n",
      "lenth into density_generate: 1 100\n",
      "len into semilogy: (10000,)\n"
     ]
    },
    {
     "name": "stderr",
     "output_type": "stream",
     "text": [
      "/home/levanson/NAS/Flexible_CNNs/Imperial_Flexible_CNNs/PyHessian/density_plot.py:35: RuntimeWarning: More than 20 figures have been opened. Figures created through the pyplot interface (`matplotlib.pyplot.figure`) are retained until explicitly closed and may consume too much memory. (To control this warning, see the rcParam `figure.max_open_warning`).\n",
      "  plt.figure()\n"
     ]
    },
    {
     "name": "stdout",
     "output_type": "stream",
     "text": [
      "48.026315789473685 % complete\n",
      "CUDA Available:  True\n",
      "fff 1\n",
      "mini_hessian_batch_size 200\n",
      "hessian_batch_size 200\n",
      "seed 1\n",
      "batch_norm True\n",
      "residual True\n",
      "cuda True\n",
      "resume fmnist_flex_model_14_52.pth\n",
      "********** finish data londing and begin Hessian computation **********\n",
      "shape of density eigen: 1 100\n",
      "lenth into get_esd_plot: 1 100\n",
      "lenth into density_generate: 1 100\n",
      "len into semilogy: (10000,)\n"
     ]
    },
    {
     "name": "stderr",
     "output_type": "stream",
     "text": [
      "/home/levanson/NAS/Flexible_CNNs/Imperial_Flexible_CNNs/PyHessian/density_plot.py:35: RuntimeWarning: More than 20 figures have been opened. Figures created through the pyplot interface (`matplotlib.pyplot.figure`) are retained until explicitly closed and may consume too much memory. (To control this warning, see the rcParam `figure.max_open_warning`).\n",
      "  plt.figure()\n"
     ]
    },
    {
     "name": "stdout",
     "output_type": "stream",
     "text": [
      "48.68421052631579 % complete\n",
      "CUDA Available:  True\n",
      "fff 1\n",
      "mini_hessian_batch_size 200\n",
      "hessian_batch_size 200\n",
      "seed 1\n",
      "batch_norm True\n",
      "residual True\n",
      "cuda True\n",
      "resume fmnist_flex_model_14_52.pth\n",
      "********** finish data londing and begin Hessian computation **********\n",
      "shape of density eigen: 1 100\n",
      "lenth into get_esd_plot: 1 100\n",
      "lenth into density_generate: 1 100\n",
      "len into semilogy: (10000,)\n"
     ]
    },
    {
     "name": "stderr",
     "output_type": "stream",
     "text": [
      "/home/levanson/NAS/Flexible_CNNs/Imperial_Flexible_CNNs/PyHessian/density_plot.py:35: RuntimeWarning: More than 20 figures have been opened. Figures created through the pyplot interface (`matplotlib.pyplot.figure`) are retained until explicitly closed and may consume too much memory. (To control this warning, see the rcParam `figure.max_open_warning`).\n",
      "  plt.figure()\n"
     ]
    },
    {
     "name": "stdout",
     "output_type": "stream",
     "text": [
      "49.3421052631579 % complete\n",
      "CUDA Available:  True\n",
      "fff 1\n",
      "mini_hessian_batch_size 200\n",
      "hessian_batch_size 200\n",
      "seed 1\n",
      "batch_norm True\n",
      "residual True\n",
      "cuda True\n",
      "resume fmnist_flex_model_14_52.pth\n",
      "********** finish data londing and begin Hessian computation **********\n",
      "shape of density eigen: 1 100\n",
      "lenth into get_esd_plot: 1 100\n",
      "lenth into density_generate: 1 100\n",
      "len into semilogy: (10000,)\n"
     ]
    },
    {
     "name": "stderr",
     "output_type": "stream",
     "text": [
      "/home/levanson/NAS/Flexible_CNNs/Imperial_Flexible_CNNs/PyHessian/density_plot.py:35: RuntimeWarning: More than 20 figures have been opened. Figures created through the pyplot interface (`matplotlib.pyplot.figure`) are retained until explicitly closed and may consume too much memory. (To control this warning, see the rcParam `figure.max_open_warning`).\n",
      "  plt.figure()\n"
     ]
    },
    {
     "name": "stdout",
     "output_type": "stream",
     "text": [
      "50.0 % complete\n",
      "CUDA Available:  True\n",
      "fff 1\n",
      "mini_hessian_batch_size 200\n",
      "hessian_batch_size 200\n",
      "seed 1\n",
      "batch_norm True\n",
      "residual True\n",
      "cuda True\n",
      "resume fmnist_flex_model_14_52.pth\n",
      "********** finish data londing and begin Hessian computation **********\n",
      "shape of density eigen: 1 100\n",
      "lenth into get_esd_plot: 1 100\n",
      "lenth into density_generate: 1 100\n",
      "len into semilogy: (10000,)\n"
     ]
    },
    {
     "name": "stderr",
     "output_type": "stream",
     "text": [
      "/home/levanson/NAS/Flexible_CNNs/Imperial_Flexible_CNNs/PyHessian/density_plot.py:35: RuntimeWarning: More than 20 figures have been opened. Figures created through the pyplot interface (`matplotlib.pyplot.figure`) are retained until explicitly closed and may consume too much memory. (To control this warning, see the rcParam `figure.max_open_warning`).\n",
      "  plt.figure()\n"
     ]
    },
    {
     "name": "stdout",
     "output_type": "stream",
     "text": [
      "50.6578947368421 % complete\n",
      "CUDA Available:  True\n",
      "fff 1\n",
      "mini_hessian_batch_size 200\n",
      "hessian_batch_size 200\n",
      "seed 1\n",
      "batch_norm True\n",
      "residual True\n",
      "cuda True\n",
      "resume fmnist_flex_model_14_52.pth\n",
      "********** finish data londing and begin Hessian computation **********\n",
      "shape of density eigen: 1 100\n",
      "lenth into get_esd_plot: 1 100\n",
      "lenth into density_generate: 1 100\n",
      "len into semilogy: (10000,)\n"
     ]
    },
    {
     "name": "stderr",
     "output_type": "stream",
     "text": [
      "/home/levanson/NAS/Flexible_CNNs/Imperial_Flexible_CNNs/PyHessian/density_plot.py:35: RuntimeWarning: More than 20 figures have been opened. Figures created through the pyplot interface (`matplotlib.pyplot.figure`) are retained until explicitly closed and may consume too much memory. (To control this warning, see the rcParam `figure.max_open_warning`).\n",
      "  plt.figure()\n"
     ]
    },
    {
     "name": "stdout",
     "output_type": "stream",
     "text": [
      "51.31578947368421 % complete\n",
      "CUDA Available:  True\n",
      "fff 1\n",
      "mini_hessian_batch_size 200\n",
      "hessian_batch_size 200\n",
      "seed 1\n",
      "batch_norm True\n",
      "residual True\n",
      "cuda True\n",
      "resume fmnist_flex_model_14_52.pth\n",
      "********** finish data londing and begin Hessian computation **********\n",
      "shape of density eigen: 1 100\n",
      "lenth into get_esd_plot: 1 100\n",
      "lenth into density_generate: 1 100\n",
      "len into semilogy: (10000,)\n"
     ]
    },
    {
     "name": "stderr",
     "output_type": "stream",
     "text": [
      "/home/levanson/NAS/Flexible_CNNs/Imperial_Flexible_CNNs/PyHessian/density_plot.py:35: RuntimeWarning: More than 20 figures have been opened. Figures created through the pyplot interface (`matplotlib.pyplot.figure`) are retained until explicitly closed and may consume too much memory. (To control this warning, see the rcParam `figure.max_open_warning`).\n",
      "  plt.figure()\n"
     ]
    },
    {
     "name": "stdout",
     "output_type": "stream",
     "text": [
      "51.973684210526315 % complete\n",
      "CUDA Available:  True\n",
      "fff 1\n",
      "mini_hessian_batch_size 200\n",
      "hessian_batch_size 200\n",
      "seed 1\n",
      "batch_norm True\n",
      "residual True\n",
      "cuda True\n",
      "resume fmnist_flex_model_14_52.pth\n",
      "********** finish data londing and begin Hessian computation **********\n",
      "shape of density eigen: 1 100\n",
      "lenth into get_esd_plot: 1 100\n",
      "lenth into density_generate: 1 100\n",
      "len into semilogy: (10000,)\n"
     ]
    },
    {
     "name": "stderr",
     "output_type": "stream",
     "text": [
      "/home/levanson/NAS/Flexible_CNNs/Imperial_Flexible_CNNs/PyHessian/density_plot.py:35: RuntimeWarning: More than 20 figures have been opened. Figures created through the pyplot interface (`matplotlib.pyplot.figure`) are retained until explicitly closed and may consume too much memory. (To control this warning, see the rcParam `figure.max_open_warning`).\n",
      "  plt.figure()\n"
     ]
    },
    {
     "name": "stdout",
     "output_type": "stream",
     "text": [
      "52.63157894736842 % complete\n",
      "CUDA Available:  True\n",
      "fff 1\n",
      "mini_hessian_batch_size 200\n",
      "hessian_batch_size 200\n",
      "seed 1\n",
      "batch_norm True\n",
      "residual True\n",
      "cuda True\n",
      "resume fmnist_flex_model_14_52.pth\n",
      "********** finish data londing and begin Hessian computation **********\n",
      "shape of density eigen: 1 100\n",
      "lenth into get_esd_plot: 1 100\n",
      "lenth into density_generate: 1 100\n",
      "len into semilogy: (10000,)\n"
     ]
    },
    {
     "name": "stderr",
     "output_type": "stream",
     "text": [
      "/home/levanson/NAS/Flexible_CNNs/Imperial_Flexible_CNNs/PyHessian/density_plot.py:35: RuntimeWarning: More than 20 figures have been opened. Figures created through the pyplot interface (`matplotlib.pyplot.figure`) are retained until explicitly closed and may consume too much memory. (To control this warning, see the rcParam `figure.max_open_warning`).\n",
      "  plt.figure()\n"
     ]
    },
    {
     "name": "stdout",
     "output_type": "stream",
     "text": [
      "53.28947368421053 % complete\n",
      "CUDA Available:  True\n",
      "fff 1\n",
      "mini_hessian_batch_size 200\n",
      "hessian_batch_size 200\n",
      "seed 1\n",
      "batch_norm True\n",
      "residual True\n",
      "cuda True\n",
      "resume fmnist_flex_model_14_52.pth\n",
      "********** finish data londing and begin Hessian computation **********\n",
      "shape of density eigen: 1 100\n",
      "lenth into get_esd_plot: 1 100\n",
      "lenth into density_generate: 1 100\n",
      "len into semilogy: (10000,)\n"
     ]
    },
    {
     "name": "stderr",
     "output_type": "stream",
     "text": [
      "/home/levanson/NAS/Flexible_CNNs/Imperial_Flexible_CNNs/PyHessian/density_plot.py:35: RuntimeWarning: More than 20 figures have been opened. Figures created through the pyplot interface (`matplotlib.pyplot.figure`) are retained until explicitly closed and may consume too much memory. (To control this warning, see the rcParam `figure.max_open_warning`).\n",
      "  plt.figure()\n"
     ]
    },
    {
     "name": "stdout",
     "output_type": "stream",
     "text": [
      "53.94736842105263 % complete\n",
      "CUDA Available:  True\n",
      "fff 1\n",
      "mini_hessian_batch_size 200\n",
      "hessian_batch_size 200\n",
      "seed 1\n",
      "batch_norm True\n",
      "residual True\n",
      "cuda True\n",
      "resume fmnist_flex_model_14_52.pth\n",
      "********** finish data londing and begin Hessian computation **********\n",
      "shape of density eigen: 1 100\n",
      "lenth into get_esd_plot: 1 100\n",
      "lenth into density_generate: 1 100\n",
      "len into semilogy: (10000,)\n"
     ]
    },
    {
     "name": "stderr",
     "output_type": "stream",
     "text": [
      "/home/levanson/NAS/Flexible_CNNs/Imperial_Flexible_CNNs/PyHessian/density_plot.py:35: RuntimeWarning: More than 20 figures have been opened. Figures created through the pyplot interface (`matplotlib.pyplot.figure`) are retained until explicitly closed and may consume too much memory. (To control this warning, see the rcParam `figure.max_open_warning`).\n",
      "  plt.figure()\n"
     ]
    },
    {
     "name": "stdout",
     "output_type": "stream",
     "text": [
      "54.60526315789474 % complete\n",
      "CUDA Available:  True\n",
      "fff 1\n",
      "mini_hessian_batch_size 200\n",
      "hessian_batch_size 200\n",
      "seed 1\n",
      "batch_norm True\n",
      "residual True\n",
      "cuda True\n",
      "resume fmnist_flex_model_14_52.pth\n",
      "********** finish data londing and begin Hessian computation **********\n",
      "shape of density eigen: 1 100\n",
      "lenth into get_esd_plot: 1 100\n",
      "lenth into density_generate: 1 100\n",
      "len into semilogy: (10000,)\n"
     ]
    },
    {
     "name": "stderr",
     "output_type": "stream",
     "text": [
      "/home/levanson/NAS/Flexible_CNNs/Imperial_Flexible_CNNs/PyHessian/density_plot.py:35: RuntimeWarning: More than 20 figures have been opened. Figures created through the pyplot interface (`matplotlib.pyplot.figure`) are retained until explicitly closed and may consume too much memory. (To control this warning, see the rcParam `figure.max_open_warning`).\n",
      "  plt.figure()\n"
     ]
    },
    {
     "name": "stdout",
     "output_type": "stream",
     "text": [
      "55.26315789473684 % complete\n",
      "CUDA Available:  True\n",
      "fff 1\n",
      "mini_hessian_batch_size 200\n",
      "hessian_batch_size 200\n",
      "seed 1\n",
      "batch_norm True\n",
      "residual True\n",
      "cuda True\n",
      "resume fmnist_flex_model_14_52.pth\n",
      "********** finish data londing and begin Hessian computation **********\n",
      "shape of density eigen: 1 100\n",
      "lenth into get_esd_plot: 1 100\n",
      "lenth into density_generate: 1 100\n",
      "len into semilogy: (10000,)\n"
     ]
    },
    {
     "name": "stderr",
     "output_type": "stream",
     "text": [
      "/home/levanson/NAS/Flexible_CNNs/Imperial_Flexible_CNNs/PyHessian/density_plot.py:35: RuntimeWarning: More than 20 figures have been opened. Figures created through the pyplot interface (`matplotlib.pyplot.figure`) are retained until explicitly closed and may consume too much memory. (To control this warning, see the rcParam `figure.max_open_warning`).\n",
      "  plt.figure()\n"
     ]
    },
    {
     "name": "stdout",
     "output_type": "stream",
     "text": [
      "55.921052631578945 % complete\n",
      "CUDA Available:  True\n",
      "fff 1\n",
      "mini_hessian_batch_size 200\n",
      "hessian_batch_size 200\n",
      "seed 1\n",
      "batch_norm True\n",
      "residual True\n",
      "cuda True\n",
      "resume fmnist_flex_model_14_52.pth\n",
      "********** finish data londing and begin Hessian computation **********\n",
      "shape of density eigen: 1 100\n",
      "lenth into get_esd_plot: 1 100\n",
      "lenth into density_generate: 1 100\n",
      "len into semilogy: (10000,)\n"
     ]
    },
    {
     "name": "stderr",
     "output_type": "stream",
     "text": [
      "/home/levanson/NAS/Flexible_CNNs/Imperial_Flexible_CNNs/PyHessian/density_plot.py:35: RuntimeWarning: More than 20 figures have been opened. Figures created through the pyplot interface (`matplotlib.pyplot.figure`) are retained until explicitly closed and may consume too much memory. (To control this warning, see the rcParam `figure.max_open_warning`).\n",
      "  plt.figure()\n"
     ]
    },
    {
     "name": "stdout",
     "output_type": "stream",
     "text": [
      "56.578947368421055 % complete\n",
      "CUDA Available:  True\n",
      "fff 1\n",
      "mini_hessian_batch_size 200\n",
      "hessian_batch_size 200\n",
      "seed 1\n",
      "batch_norm True\n",
      "residual True\n",
      "cuda True\n",
      "resume fmnist_flex_model_14_52.pth\n",
      "********** finish data londing and begin Hessian computation **********\n",
      "shape of density eigen: 1 100\n",
      "lenth into get_esd_plot: 1 100\n",
      "lenth into density_generate: 1 100\n",
      "len into semilogy: (10000,)\n"
     ]
    },
    {
     "name": "stderr",
     "output_type": "stream",
     "text": [
      "/home/levanson/NAS/Flexible_CNNs/Imperial_Flexible_CNNs/PyHessian/density_plot.py:35: RuntimeWarning: More than 20 figures have been opened. Figures created through the pyplot interface (`matplotlib.pyplot.figure`) are retained until explicitly closed and may consume too much memory. (To control this warning, see the rcParam `figure.max_open_warning`).\n",
      "  plt.figure()\n"
     ]
    },
    {
     "name": "stdout",
     "output_type": "stream",
     "text": [
      "57.23684210526316 % complete\n",
      "CUDA Available:  True\n",
      "fff 1\n",
      "mini_hessian_batch_size 200\n",
      "hessian_batch_size 200\n",
      "seed 1\n",
      "batch_norm True\n",
      "residual True\n",
      "cuda True\n",
      "resume fmnist_flex_model_14_52.pth\n",
      "********** finish data londing and begin Hessian computation **********\n",
      "shape of density eigen: 1 100\n",
      "lenth into get_esd_plot: 1 100\n",
      "lenth into density_generate: 1 100\n",
      "len into semilogy: (10000,)\n"
     ]
    },
    {
     "name": "stderr",
     "output_type": "stream",
     "text": [
      "/home/levanson/NAS/Flexible_CNNs/Imperial_Flexible_CNNs/PyHessian/density_plot.py:35: RuntimeWarning: More than 20 figures have been opened. Figures created through the pyplot interface (`matplotlib.pyplot.figure`) are retained until explicitly closed and may consume too much memory. (To control this warning, see the rcParam `figure.max_open_warning`).\n",
      "  plt.figure()\n"
     ]
    },
    {
     "name": "stdout",
     "output_type": "stream",
     "text": [
      "57.89473684210526 % complete\n",
      "CUDA Available:  True\n",
      "fff 1\n",
      "mini_hessian_batch_size 200\n",
      "hessian_batch_size 200\n",
      "seed 1\n",
      "batch_norm True\n",
      "residual True\n",
      "cuda True\n",
      "resume fmnist_flex_model_14_52.pth\n",
      "********** finish data londing and begin Hessian computation **********\n",
      "shape of density eigen: 1 100\n",
      "lenth into get_esd_plot: 1 100\n",
      "lenth into density_generate: 1 100\n",
      "len into semilogy: (10000,)\n"
     ]
    },
    {
     "name": "stderr",
     "output_type": "stream",
     "text": [
      "/home/levanson/NAS/Flexible_CNNs/Imperial_Flexible_CNNs/PyHessian/density_plot.py:35: RuntimeWarning: More than 20 figures have been opened. Figures created through the pyplot interface (`matplotlib.pyplot.figure`) are retained until explicitly closed and may consume too much memory. (To control this warning, see the rcParam `figure.max_open_warning`).\n",
      "  plt.figure()\n"
     ]
    },
    {
     "name": "stdout",
     "output_type": "stream",
     "text": [
      "58.55263157894737 % complete\n",
      "CUDA Available:  True\n",
      "fff 1\n",
      "mini_hessian_batch_size 200\n",
      "hessian_batch_size 200\n",
      "seed 1\n",
      "batch_norm True\n",
      "residual True\n",
      "cuda True\n",
      "resume fmnist_flex_model_14_52.pth\n",
      "********** finish data londing and begin Hessian computation **********\n",
      "shape of density eigen: 1 100\n",
      "lenth into get_esd_plot: 1 100\n",
      "lenth into density_generate: 1 100\n",
      "len into semilogy: (10000,)\n"
     ]
    },
    {
     "name": "stderr",
     "output_type": "stream",
     "text": [
      "/home/levanson/NAS/Flexible_CNNs/Imperial_Flexible_CNNs/PyHessian/density_plot.py:35: RuntimeWarning: More than 20 figures have been opened. Figures created through the pyplot interface (`matplotlib.pyplot.figure`) are retained until explicitly closed and may consume too much memory. (To control this warning, see the rcParam `figure.max_open_warning`).\n",
      "  plt.figure()\n"
     ]
    },
    {
     "name": "stdout",
     "output_type": "stream",
     "text": [
      "59.21052631578947 % complete\n",
      "CUDA Available:  True\n",
      "fff 1\n",
      "mini_hessian_batch_size 200\n",
      "hessian_batch_size 200\n",
      "seed 1\n",
      "batch_norm True\n",
      "residual True\n",
      "cuda True\n",
      "resume fmnist_flex_model_14_52.pth\n",
      "********** finish data londing and begin Hessian computation **********\n",
      "shape of density eigen: 1 100\n",
      "lenth into get_esd_plot: 1 100\n",
      "lenth into density_generate: 1 100\n",
      "len into semilogy: (10000,)\n"
     ]
    },
    {
     "name": "stderr",
     "output_type": "stream",
     "text": [
      "/home/levanson/NAS/Flexible_CNNs/Imperial_Flexible_CNNs/PyHessian/density_plot.py:35: RuntimeWarning: More than 20 figures have been opened. Figures created through the pyplot interface (`matplotlib.pyplot.figure`) are retained until explicitly closed and may consume too much memory. (To control this warning, see the rcParam `figure.max_open_warning`).\n",
      "  plt.figure()\n"
     ]
    },
    {
     "name": "stdout",
     "output_type": "stream",
     "text": [
      "59.86842105263158 % complete\n",
      "CUDA Available:  True\n",
      "fff 1\n",
      "mini_hessian_batch_size 200\n",
      "hessian_batch_size 200\n",
      "seed 1\n",
      "batch_norm True\n",
      "residual True\n",
      "cuda True\n",
      "resume fmnist_flex_model_14_52.pth\n",
      "********** finish data londing and begin Hessian computation **********\n",
      "shape of density eigen: 1 100\n",
      "lenth into get_esd_plot: 1 100\n",
      "lenth into density_generate: 1 100\n",
      "len into semilogy: (10000,)\n"
     ]
    },
    {
     "name": "stderr",
     "output_type": "stream",
     "text": [
      "/home/levanson/NAS/Flexible_CNNs/Imperial_Flexible_CNNs/PyHessian/density_plot.py:35: RuntimeWarning: More than 20 figures have been opened. Figures created through the pyplot interface (`matplotlib.pyplot.figure`) are retained until explicitly closed and may consume too much memory. (To control this warning, see the rcParam `figure.max_open_warning`).\n",
      "  plt.figure()\n"
     ]
    },
    {
     "name": "stdout",
     "output_type": "stream",
     "text": [
      "60.526315789473685 % complete\n",
      "CUDA Available:  True\n",
      "fff 1\n",
      "mini_hessian_batch_size 200\n",
      "hessian_batch_size 200\n",
      "seed 1\n",
      "batch_norm True\n",
      "residual True\n",
      "cuda True\n",
      "resume fmnist_flex_model_14_52.pth\n",
      "********** finish data londing and begin Hessian computation **********\n",
      "shape of density eigen: 1 100\n",
      "lenth into get_esd_plot: 1 100\n",
      "lenth into density_generate: 1 100\n",
      "len into semilogy: (10000,)\n"
     ]
    },
    {
     "name": "stderr",
     "output_type": "stream",
     "text": [
      "/home/levanson/NAS/Flexible_CNNs/Imperial_Flexible_CNNs/PyHessian/density_plot.py:35: RuntimeWarning: More than 20 figures have been opened. Figures created through the pyplot interface (`matplotlib.pyplot.figure`) are retained until explicitly closed and may consume too much memory. (To control this warning, see the rcParam `figure.max_open_warning`).\n",
      "  plt.figure()\n"
     ]
    },
    {
     "name": "stdout",
     "output_type": "stream",
     "text": [
      "61.18421052631579 % complete\n",
      "CUDA Available:  True\n",
      "fff 1\n",
      "mini_hessian_batch_size 200\n",
      "hessian_batch_size 200\n",
      "seed 1\n",
      "batch_norm True\n",
      "residual True\n",
      "cuda True\n",
      "resume fmnist_flex_model_14_52.pth\n",
      "********** finish data londing and begin Hessian computation **********\n",
      "shape of density eigen: 1 100\n",
      "lenth into get_esd_plot: 1 100\n",
      "lenth into density_generate: 1 100\n",
      "len into semilogy: (10000,)\n"
     ]
    },
    {
     "name": "stderr",
     "output_type": "stream",
     "text": [
      "/home/levanson/NAS/Flexible_CNNs/Imperial_Flexible_CNNs/PyHessian/density_plot.py:35: RuntimeWarning: More than 20 figures have been opened. Figures created through the pyplot interface (`matplotlib.pyplot.figure`) are retained until explicitly closed and may consume too much memory. (To control this warning, see the rcParam `figure.max_open_warning`).\n",
      "  plt.figure()\n"
     ]
    },
    {
     "name": "stdout",
     "output_type": "stream",
     "text": [
      "61.8421052631579 % complete\n",
      "CUDA Available:  True\n",
      "fff 1\n",
      "mini_hessian_batch_size 200\n",
      "hessian_batch_size 200\n",
      "seed 1\n",
      "batch_norm True\n",
      "residual True\n",
      "cuda True\n",
      "resume fmnist_flex_model_14_52.pth\n",
      "********** finish data londing and begin Hessian computation **********\n",
      "shape of density eigen: 1 100\n",
      "lenth into get_esd_plot: 1 100\n",
      "lenth into density_generate: 1 100\n",
      "len into semilogy: (10000,)\n"
     ]
    },
    {
     "name": "stderr",
     "output_type": "stream",
     "text": [
      "/home/levanson/NAS/Flexible_CNNs/Imperial_Flexible_CNNs/PyHessian/density_plot.py:35: RuntimeWarning: More than 20 figures have been opened. Figures created through the pyplot interface (`matplotlib.pyplot.figure`) are retained until explicitly closed and may consume too much memory. (To control this warning, see the rcParam `figure.max_open_warning`).\n",
      "  plt.figure()\n"
     ]
    },
    {
     "name": "stdout",
     "output_type": "stream",
     "text": [
      "62.5 % complete\n",
      "CUDA Available:  True\n",
      "fff 1\n",
      "mini_hessian_batch_size 200\n",
      "hessian_batch_size 200\n",
      "seed 1\n",
      "batch_norm True\n",
      "residual True\n",
      "cuda True\n",
      "resume fmnist_flex_model_14_52.pth\n",
      "********** finish data londing and begin Hessian computation **********\n",
      "shape of density eigen: 1 100\n",
      "lenth into get_esd_plot: 1 100\n",
      "lenth into density_generate: 1 100\n",
      "len into semilogy: (10000,)\n"
     ]
    },
    {
     "name": "stderr",
     "output_type": "stream",
     "text": [
      "/home/levanson/NAS/Flexible_CNNs/Imperial_Flexible_CNNs/PyHessian/density_plot.py:35: RuntimeWarning: More than 20 figures have been opened. Figures created through the pyplot interface (`matplotlib.pyplot.figure`) are retained until explicitly closed and may consume too much memory. (To control this warning, see the rcParam `figure.max_open_warning`).\n",
      "  plt.figure()\n"
     ]
    },
    {
     "name": "stdout",
     "output_type": "stream",
     "text": [
      "63.1578947368421 % complete\n",
      "CUDA Available:  True\n",
      "fff 1\n",
      "mini_hessian_batch_size 200\n",
      "hessian_batch_size 200\n",
      "seed 1\n",
      "batch_norm True\n",
      "residual True\n",
      "cuda True\n",
      "resume fmnist_flex_model_14_52.pth\n",
      "********** finish data londing and begin Hessian computation **********\n",
      "shape of density eigen: 1 100\n",
      "lenth into get_esd_plot: 1 100\n",
      "lenth into density_generate: 1 100\n",
      "len into semilogy: (10000,)\n"
     ]
    },
    {
     "name": "stderr",
     "output_type": "stream",
     "text": [
      "/home/levanson/NAS/Flexible_CNNs/Imperial_Flexible_CNNs/PyHessian/density_plot.py:35: RuntimeWarning: More than 20 figures have been opened. Figures created through the pyplot interface (`matplotlib.pyplot.figure`) are retained until explicitly closed and may consume too much memory. (To control this warning, see the rcParam `figure.max_open_warning`).\n",
      "  plt.figure()\n"
     ]
    },
    {
     "name": "stdout",
     "output_type": "stream",
     "text": [
      "63.81578947368421 % complete\n",
      "CUDA Available:  True\n",
      "fff 1\n",
      "mini_hessian_batch_size 200\n",
      "hessian_batch_size 200\n",
      "seed 1\n",
      "batch_norm True\n",
      "residual True\n",
      "cuda True\n",
      "resume fmnist_flex_model_14_52.pth\n",
      "********** finish data londing and begin Hessian computation **********\n",
      "shape of density eigen: 1 100\n",
      "lenth into get_esd_plot: 1 100\n",
      "lenth into density_generate: 1 100\n",
      "len into semilogy: (10000,)\n"
     ]
    },
    {
     "name": "stderr",
     "output_type": "stream",
     "text": [
      "/home/levanson/NAS/Flexible_CNNs/Imperial_Flexible_CNNs/PyHessian/density_plot.py:35: RuntimeWarning: More than 20 figures have been opened. Figures created through the pyplot interface (`matplotlib.pyplot.figure`) are retained until explicitly closed and may consume too much memory. (To control this warning, see the rcParam `figure.max_open_warning`).\n",
      "  plt.figure()\n"
     ]
    },
    {
     "name": "stdout",
     "output_type": "stream",
     "text": [
      "64.47368421052632 % complete\n",
      "CUDA Available:  True\n",
      "fff 1\n",
      "mini_hessian_batch_size 200\n",
      "hessian_batch_size 200\n",
      "seed 1\n",
      "batch_norm True\n",
      "residual True\n",
      "cuda True\n",
      "resume fmnist_flex_model_14_52.pth\n",
      "********** finish data londing and begin Hessian computation **********\n",
      "shape of density eigen: 1 100\n",
      "lenth into get_esd_plot: 1 100\n",
      "lenth into density_generate: 1 100\n",
      "len into semilogy: (10000,)\n"
     ]
    },
    {
     "name": "stderr",
     "output_type": "stream",
     "text": [
      "/home/levanson/NAS/Flexible_CNNs/Imperial_Flexible_CNNs/PyHessian/density_plot.py:35: RuntimeWarning: More than 20 figures have been opened. Figures created through the pyplot interface (`matplotlib.pyplot.figure`) are retained until explicitly closed and may consume too much memory. (To control this warning, see the rcParam `figure.max_open_warning`).\n",
      "  plt.figure()\n"
     ]
    },
    {
     "name": "stdout",
     "output_type": "stream",
     "text": [
      "65.13157894736842 % complete\n",
      "CUDA Available:  True\n",
      "fff 1\n",
      "mini_hessian_batch_size 200\n",
      "hessian_batch_size 200\n",
      "seed 1\n",
      "batch_norm True\n",
      "residual True\n",
      "cuda True\n",
      "resume fmnist_flex_model_14_52.pth\n",
      "********** finish data londing and begin Hessian computation **********\n",
      "shape of density eigen: 1 100\n",
      "lenth into get_esd_plot: 1 100\n",
      "lenth into density_generate: 1 100\n",
      "len into semilogy: (10000,)\n"
     ]
    },
    {
     "name": "stderr",
     "output_type": "stream",
     "text": [
      "/home/levanson/NAS/Flexible_CNNs/Imperial_Flexible_CNNs/PyHessian/density_plot.py:35: RuntimeWarning: More than 20 figures have been opened. Figures created through the pyplot interface (`matplotlib.pyplot.figure`) are retained until explicitly closed and may consume too much memory. (To control this warning, see the rcParam `figure.max_open_warning`).\n",
      "  plt.figure()\n"
     ]
    },
    {
     "name": "stdout",
     "output_type": "stream",
     "text": [
      "65.78947368421052 % complete\n",
      "CUDA Available:  True\n",
      "fff 1\n",
      "mini_hessian_batch_size 200\n",
      "hessian_batch_size 200\n",
      "seed 1\n",
      "batch_norm True\n",
      "residual True\n",
      "cuda True\n",
      "resume fmnist_flex_model_14_52.pth\n",
      "********** finish data londing and begin Hessian computation **********\n",
      "shape of density eigen: 1 100\n",
      "lenth into get_esd_plot: 1 100\n",
      "lenth into density_generate: 1 100\n",
      "len into semilogy: (10000,)\n"
     ]
    },
    {
     "name": "stderr",
     "output_type": "stream",
     "text": [
      "/home/levanson/NAS/Flexible_CNNs/Imperial_Flexible_CNNs/PyHessian/density_plot.py:35: RuntimeWarning: More than 20 figures have been opened. Figures created through the pyplot interface (`matplotlib.pyplot.figure`) are retained until explicitly closed and may consume too much memory. (To control this warning, see the rcParam `figure.max_open_warning`).\n",
      "  plt.figure()\n"
     ]
    },
    {
     "name": "stdout",
     "output_type": "stream",
     "text": [
      "66.44736842105263 % complete\n",
      "CUDA Available:  True\n",
      "fff 1\n",
      "mini_hessian_batch_size 200\n",
      "hessian_batch_size 200\n",
      "seed 1\n",
      "batch_norm True\n",
      "residual True\n",
      "cuda True\n",
      "resume fmnist_flex_model_14_52.pth\n",
      "********** finish data londing and begin Hessian computation **********\n",
      "shape of density eigen: 1 100\n",
      "lenth into get_esd_plot: 1 100\n",
      "lenth into density_generate: 1 100\n",
      "len into semilogy: (10000,)\n"
     ]
    },
    {
     "name": "stderr",
     "output_type": "stream",
     "text": [
      "/home/levanson/NAS/Flexible_CNNs/Imperial_Flexible_CNNs/PyHessian/density_plot.py:35: RuntimeWarning: More than 20 figures have been opened. Figures created through the pyplot interface (`matplotlib.pyplot.figure`) are retained until explicitly closed and may consume too much memory. (To control this warning, see the rcParam `figure.max_open_warning`).\n",
      "  plt.figure()\n"
     ]
    },
    {
     "name": "stdout",
     "output_type": "stream",
     "text": [
      "67.10526315789474 % complete\n",
      "CUDA Available:  True\n",
      "fff 1\n",
      "mini_hessian_batch_size 200\n",
      "hessian_batch_size 200\n",
      "seed 1\n",
      "batch_norm True\n",
      "residual True\n",
      "cuda True\n",
      "resume fmnist_flex_model_14_52.pth\n",
      "********** finish data londing and begin Hessian computation **********\n",
      "shape of density eigen: 1 100\n",
      "lenth into get_esd_plot: 1 100\n",
      "lenth into density_generate: 1 100\n",
      "len into semilogy: (10000,)\n"
     ]
    },
    {
     "name": "stderr",
     "output_type": "stream",
     "text": [
      "/home/levanson/NAS/Flexible_CNNs/Imperial_Flexible_CNNs/PyHessian/density_plot.py:35: RuntimeWarning: More than 20 figures have been opened. Figures created through the pyplot interface (`matplotlib.pyplot.figure`) are retained until explicitly closed and may consume too much memory. (To control this warning, see the rcParam `figure.max_open_warning`).\n",
      "  plt.figure()\n"
     ]
    },
    {
     "name": "stdout",
     "output_type": "stream",
     "text": [
      "67.76315789473684 % complete\n",
      "CUDA Available:  True\n",
      "fff 1\n",
      "mini_hessian_batch_size 200\n",
      "hessian_batch_size 200\n",
      "seed 1\n",
      "batch_norm True\n",
      "residual True\n",
      "cuda True\n",
      "resume fmnist_flex_model_14_52.pth\n",
      "********** finish data londing and begin Hessian computation **********\n",
      "shape of density eigen: 1 100\n",
      "lenth into get_esd_plot: 1 100\n",
      "lenth into density_generate: 1 100\n",
      "len into semilogy: (10000,)\n"
     ]
    },
    {
     "name": "stderr",
     "output_type": "stream",
     "text": [
      "/home/levanson/NAS/Flexible_CNNs/Imperial_Flexible_CNNs/PyHessian/density_plot.py:35: RuntimeWarning: More than 20 figures have been opened. Figures created through the pyplot interface (`matplotlib.pyplot.figure`) are retained until explicitly closed and may consume too much memory. (To control this warning, see the rcParam `figure.max_open_warning`).\n",
      "  plt.figure()\n"
     ]
    },
    {
     "name": "stdout",
     "output_type": "stream",
     "text": [
      "68.42105263157895 % complete\n",
      "CUDA Available:  True\n",
      "fff 1\n",
      "mini_hessian_batch_size 200\n",
      "hessian_batch_size 200\n",
      "seed 1\n",
      "batch_norm True\n",
      "residual True\n",
      "cuda True\n",
      "resume fmnist_flex_model_14_52.pth\n",
      "********** finish data londing and begin Hessian computation **********\n",
      "shape of density eigen: 1 100\n",
      "lenth into get_esd_plot: 1 100\n",
      "lenth into density_generate: 1 100\n",
      "len into semilogy: (10000,)\n"
     ]
    },
    {
     "name": "stderr",
     "output_type": "stream",
     "text": [
      "/home/levanson/NAS/Flexible_CNNs/Imperial_Flexible_CNNs/PyHessian/density_plot.py:35: RuntimeWarning: More than 20 figures have been opened. Figures created through the pyplot interface (`matplotlib.pyplot.figure`) are retained until explicitly closed and may consume too much memory. (To control this warning, see the rcParam `figure.max_open_warning`).\n",
      "  plt.figure()\n"
     ]
    },
    {
     "name": "stdout",
     "output_type": "stream",
     "text": [
      "69.07894736842105 % complete\n",
      "CUDA Available:  True\n",
      "fff 1\n",
      "mini_hessian_batch_size 200\n",
      "hessian_batch_size 200\n",
      "seed 1\n",
      "batch_norm True\n",
      "residual True\n",
      "cuda True\n",
      "resume fmnist_flex_model_14_52.pth\n",
      "********** finish data londing and begin Hessian computation **********\n",
      "shape of density eigen: 1 100\n",
      "lenth into get_esd_plot: 1 100\n",
      "lenth into density_generate: 1 100\n",
      "len into semilogy: (10000,)\n"
     ]
    },
    {
     "name": "stderr",
     "output_type": "stream",
     "text": [
      "/home/levanson/NAS/Flexible_CNNs/Imperial_Flexible_CNNs/PyHessian/density_plot.py:35: RuntimeWarning: More than 20 figures have been opened. Figures created through the pyplot interface (`matplotlib.pyplot.figure`) are retained until explicitly closed and may consume too much memory. (To control this warning, see the rcParam `figure.max_open_warning`).\n",
      "  plt.figure()\n"
     ]
    },
    {
     "name": "stdout",
     "output_type": "stream",
     "text": [
      "69.73684210526316 % complete\n",
      "CUDA Available:  True\n",
      "fff 1\n",
      "mini_hessian_batch_size 200\n",
      "hessian_batch_size 200\n",
      "seed 1\n",
      "batch_norm True\n",
      "residual True\n",
      "cuda True\n",
      "resume fmnist_flex_model_14_52.pth\n",
      "********** finish data londing and begin Hessian computation **********\n",
      "shape of density eigen: 1 100\n",
      "lenth into get_esd_plot: 1 100\n",
      "lenth into density_generate: 1 100\n",
      "len into semilogy: (10000,)\n"
     ]
    },
    {
     "name": "stderr",
     "output_type": "stream",
     "text": [
      "/home/levanson/NAS/Flexible_CNNs/Imperial_Flexible_CNNs/PyHessian/density_plot.py:35: RuntimeWarning: More than 20 figures have been opened. Figures created through the pyplot interface (`matplotlib.pyplot.figure`) are retained until explicitly closed and may consume too much memory. (To control this warning, see the rcParam `figure.max_open_warning`).\n",
      "  plt.figure()\n"
     ]
    },
    {
     "name": "stdout",
     "output_type": "stream",
     "text": [
      "70.39473684210526 % complete\n",
      "CUDA Available:  True\n",
      "fff 1\n",
      "mini_hessian_batch_size 200\n",
      "hessian_batch_size 200\n",
      "seed 1\n",
      "batch_norm True\n",
      "residual True\n",
      "cuda True\n",
      "resume fmnist_flex_model_14_52.pth\n",
      "********** finish data londing and begin Hessian computation **********\n",
      "shape of density eigen: 1 100\n",
      "lenth into get_esd_plot: 1 100\n",
      "lenth into density_generate: 1 100\n",
      "len into semilogy: (10000,)\n"
     ]
    },
    {
     "name": "stderr",
     "output_type": "stream",
     "text": [
      "/home/levanson/NAS/Flexible_CNNs/Imperial_Flexible_CNNs/PyHessian/density_plot.py:35: RuntimeWarning: More than 20 figures have been opened. Figures created through the pyplot interface (`matplotlib.pyplot.figure`) are retained until explicitly closed and may consume too much memory. (To control this warning, see the rcParam `figure.max_open_warning`).\n",
      "  plt.figure()\n"
     ]
    },
    {
     "name": "stdout",
     "output_type": "stream",
     "text": [
      "71.05263157894737 % complete\n",
      "CUDA Available:  True\n",
      "fff 1\n",
      "mini_hessian_batch_size 200\n",
      "hessian_batch_size 200\n",
      "seed 1\n",
      "batch_norm True\n",
      "residual True\n",
      "cuda True\n",
      "resume fmnist_flex_model_14_52.pth\n",
      "********** finish data londing and begin Hessian computation **********\n",
      "shape of density eigen: 1 100\n",
      "lenth into get_esd_plot: 1 100\n",
      "lenth into density_generate: 1 100\n",
      "len into semilogy: (10000,)\n"
     ]
    },
    {
     "name": "stderr",
     "output_type": "stream",
     "text": [
      "/home/levanson/NAS/Flexible_CNNs/Imperial_Flexible_CNNs/PyHessian/density_plot.py:35: RuntimeWarning: More than 20 figures have been opened. Figures created through the pyplot interface (`matplotlib.pyplot.figure`) are retained until explicitly closed and may consume too much memory. (To control this warning, see the rcParam `figure.max_open_warning`).\n",
      "  plt.figure()\n"
     ]
    },
    {
     "name": "stdout",
     "output_type": "stream",
     "text": [
      "71.71052631578948 % complete\n",
      "CUDA Available:  True\n",
      "fff 1\n",
      "mini_hessian_batch_size 200\n",
      "hessian_batch_size 200\n",
      "seed 1\n",
      "batch_norm True\n",
      "residual True\n",
      "cuda True\n",
      "resume fmnist_flex_model_14_52.pth\n",
      "********** finish data londing and begin Hessian computation **********\n",
      "shape of density eigen: 1 100\n",
      "lenth into get_esd_plot: 1 100\n",
      "lenth into density_generate: 1 100\n",
      "len into semilogy: (10000,)\n"
     ]
    },
    {
     "name": "stderr",
     "output_type": "stream",
     "text": [
      "/home/levanson/NAS/Flexible_CNNs/Imperial_Flexible_CNNs/PyHessian/density_plot.py:35: RuntimeWarning: More than 20 figures have been opened. Figures created through the pyplot interface (`matplotlib.pyplot.figure`) are retained until explicitly closed and may consume too much memory. (To control this warning, see the rcParam `figure.max_open_warning`).\n",
      "  plt.figure()\n"
     ]
    },
    {
     "name": "stdout",
     "output_type": "stream",
     "text": [
      "72.36842105263158 % complete\n",
      "CUDA Available:  True\n",
      "fff 1\n",
      "mini_hessian_batch_size 200\n",
      "hessian_batch_size 200\n",
      "seed 1\n",
      "batch_norm True\n",
      "residual True\n",
      "cuda True\n",
      "resume fmnist_flex_model_14_52.pth\n",
      "********** finish data londing and begin Hessian computation **********\n",
      "shape of density eigen: 1 100\n",
      "lenth into get_esd_plot: 1 100\n",
      "lenth into density_generate: 1 100\n",
      "len into semilogy: (10000,)\n"
     ]
    },
    {
     "name": "stderr",
     "output_type": "stream",
     "text": [
      "/home/levanson/NAS/Flexible_CNNs/Imperial_Flexible_CNNs/PyHessian/density_plot.py:35: RuntimeWarning: More than 20 figures have been opened. Figures created through the pyplot interface (`matplotlib.pyplot.figure`) are retained until explicitly closed and may consume too much memory. (To control this warning, see the rcParam `figure.max_open_warning`).\n",
      "  plt.figure()\n"
     ]
    },
    {
     "name": "stdout",
     "output_type": "stream",
     "text": [
      "73.02631578947368 % complete\n",
      "CUDA Available:  True\n",
      "fff 1\n",
      "mini_hessian_batch_size 200\n",
      "hessian_batch_size 200\n",
      "seed 1\n",
      "batch_norm True\n",
      "residual True\n",
      "cuda True\n",
      "resume fmnist_flex_model_14_52.pth\n",
      "********** finish data londing and begin Hessian computation **********\n",
      "shape of density eigen: 1 100\n",
      "lenth into get_esd_plot: 1 100\n",
      "lenth into density_generate: 1 100\n",
      "len into semilogy: (10000,)\n"
     ]
    },
    {
     "name": "stderr",
     "output_type": "stream",
     "text": [
      "/home/levanson/NAS/Flexible_CNNs/Imperial_Flexible_CNNs/PyHessian/density_plot.py:35: RuntimeWarning: More than 20 figures have been opened. Figures created through the pyplot interface (`matplotlib.pyplot.figure`) are retained until explicitly closed and may consume too much memory. (To control this warning, see the rcParam `figure.max_open_warning`).\n",
      "  plt.figure()\n"
     ]
    },
    {
     "name": "stdout",
     "output_type": "stream",
     "text": [
      "73.6842105263158 % complete\n",
      "CUDA Available:  True\n",
      "fff 1\n",
      "mini_hessian_batch_size 200\n",
      "hessian_batch_size 200\n",
      "seed 1\n",
      "batch_norm True\n",
      "residual True\n",
      "cuda True\n",
      "resume fmnist_flex_model_14_52.pth\n",
      "********** finish data londing and begin Hessian computation **********\n",
      "shape of density eigen: 1 100\n",
      "lenth into get_esd_plot: 1 100\n",
      "lenth into density_generate: 1 100\n",
      "len into semilogy: (10000,)\n"
     ]
    },
    {
     "name": "stderr",
     "output_type": "stream",
     "text": [
      "/home/levanson/NAS/Flexible_CNNs/Imperial_Flexible_CNNs/PyHessian/density_plot.py:35: RuntimeWarning: More than 20 figures have been opened. Figures created through the pyplot interface (`matplotlib.pyplot.figure`) are retained until explicitly closed and may consume too much memory. (To control this warning, see the rcParam `figure.max_open_warning`).\n",
      "  plt.figure()\n"
     ]
    },
    {
     "name": "stdout",
     "output_type": "stream",
     "text": [
      "74.34210526315789 % complete\n",
      "CUDA Available:  True\n",
      "fff 1\n",
      "mini_hessian_batch_size 200\n",
      "hessian_batch_size 200\n",
      "seed 1\n",
      "batch_norm True\n",
      "residual True\n",
      "cuda True\n",
      "resume fmnist_flex_model_14_52.pth\n",
      "********** finish data londing and begin Hessian computation **********\n",
      "shape of density eigen: 1 100\n",
      "lenth into get_esd_plot: 1 100\n",
      "lenth into density_generate: 1 100\n",
      "len into semilogy: (10000,)\n"
     ]
    },
    {
     "name": "stderr",
     "output_type": "stream",
     "text": [
      "/home/levanson/NAS/Flexible_CNNs/Imperial_Flexible_CNNs/PyHessian/density_plot.py:35: RuntimeWarning: More than 20 figures have been opened. Figures created through the pyplot interface (`matplotlib.pyplot.figure`) are retained until explicitly closed and may consume too much memory. (To control this warning, see the rcParam `figure.max_open_warning`).\n",
      "  plt.figure()\n"
     ]
    },
    {
     "name": "stdout",
     "output_type": "stream",
     "text": [
      "75.0 % complete\n",
      "CUDA Available:  True\n",
      "fff 1\n",
      "mini_hessian_batch_size 200\n",
      "hessian_batch_size 200\n",
      "seed 1\n",
      "batch_norm True\n",
      "residual True\n",
      "cuda True\n",
      "resume fmnist_flex_model_14_52.pth\n",
      "********** finish data londing and begin Hessian computation **********\n",
      "shape of density eigen: 1 100\n",
      "lenth into get_esd_plot: 1 100\n",
      "lenth into density_generate: 1 100\n",
      "len into semilogy: (10000,)\n"
     ]
    },
    {
     "name": "stderr",
     "output_type": "stream",
     "text": [
      "/home/levanson/NAS/Flexible_CNNs/Imperial_Flexible_CNNs/PyHessian/density_plot.py:35: RuntimeWarning: More than 20 figures have been opened. Figures created through the pyplot interface (`matplotlib.pyplot.figure`) are retained until explicitly closed and may consume too much memory. (To control this warning, see the rcParam `figure.max_open_warning`).\n",
      "  plt.figure()\n"
     ]
    },
    {
     "name": "stdout",
     "output_type": "stream",
     "text": [
      "75.65789473684211 % complete\n",
      "CUDA Available:  True\n",
      "fff 1\n",
      "mini_hessian_batch_size 200\n",
      "hessian_batch_size 200\n",
      "seed 1\n",
      "batch_norm True\n",
      "residual True\n",
      "cuda True\n",
      "resume fmnist_flex_model_14_52.pth\n",
      "********** finish data londing and begin Hessian computation **********\n",
      "shape of density eigen: 1 100\n",
      "lenth into get_esd_plot: 1 100\n",
      "lenth into density_generate: 1 100\n",
      "len into semilogy: (10000,)\n"
     ]
    },
    {
     "name": "stderr",
     "output_type": "stream",
     "text": [
      "/home/levanson/NAS/Flexible_CNNs/Imperial_Flexible_CNNs/PyHessian/density_plot.py:35: RuntimeWarning: More than 20 figures have been opened. Figures created through the pyplot interface (`matplotlib.pyplot.figure`) are retained until explicitly closed and may consume too much memory. (To control this warning, see the rcParam `figure.max_open_warning`).\n",
      "  plt.figure()\n"
     ]
    },
    {
     "name": "stdout",
     "output_type": "stream",
     "text": [
      "76.3157894736842 % complete\n",
      "CUDA Available:  True\n",
      "fff 1\n",
      "mini_hessian_batch_size 200\n",
      "hessian_batch_size 200\n",
      "seed 1\n",
      "batch_norm True\n",
      "residual True\n",
      "cuda True\n",
      "resume fmnist_flex_model_14_52.pth\n",
      "********** finish data londing and begin Hessian computation **********\n",
      "shape of density eigen: 1 100\n",
      "lenth into get_esd_plot: 1 100\n",
      "lenth into density_generate: 1 100\n",
      "len into semilogy: (10000,)\n"
     ]
    },
    {
     "name": "stderr",
     "output_type": "stream",
     "text": [
      "/home/levanson/NAS/Flexible_CNNs/Imperial_Flexible_CNNs/PyHessian/density_plot.py:35: RuntimeWarning: More than 20 figures have been opened. Figures created through the pyplot interface (`matplotlib.pyplot.figure`) are retained until explicitly closed and may consume too much memory. (To control this warning, see the rcParam `figure.max_open_warning`).\n",
      "  plt.figure()\n"
     ]
    },
    {
     "name": "stdout",
     "output_type": "stream",
     "text": [
      "76.97368421052632 % complete\n",
      "CUDA Available:  True\n",
      "fff 1\n",
      "mini_hessian_batch_size 200\n",
      "hessian_batch_size 200\n",
      "seed 1\n",
      "batch_norm True\n",
      "residual True\n",
      "cuda True\n",
      "resume fmnist_flex_model_14_52.pth\n",
      "********** finish data londing and begin Hessian computation **********\n",
      "shape of density eigen: 1 100\n",
      "lenth into get_esd_plot: 1 100\n",
      "lenth into density_generate: 1 100\n",
      "len into semilogy: (10000,)\n"
     ]
    },
    {
     "name": "stderr",
     "output_type": "stream",
     "text": [
      "/home/levanson/NAS/Flexible_CNNs/Imperial_Flexible_CNNs/PyHessian/density_plot.py:35: RuntimeWarning: More than 20 figures have been opened. Figures created through the pyplot interface (`matplotlib.pyplot.figure`) are retained until explicitly closed and may consume too much memory. (To control this warning, see the rcParam `figure.max_open_warning`).\n",
      "  plt.figure()\n"
     ]
    },
    {
     "name": "stdout",
     "output_type": "stream",
     "text": [
      "77.63157894736842 % complete\n",
      "CUDA Available:  True\n",
      "fff 1\n",
      "mini_hessian_batch_size 200\n",
      "hessian_batch_size 200\n",
      "seed 1\n",
      "batch_norm True\n",
      "residual True\n",
      "cuda True\n",
      "resume fmnist_flex_model_14_52.pth\n",
      "********** finish data londing and begin Hessian computation **********\n",
      "shape of density eigen: 1 100\n",
      "lenth into get_esd_plot: 1 100\n",
      "lenth into density_generate: 1 100\n",
      "len into semilogy: (10000,)\n"
     ]
    },
    {
     "name": "stderr",
     "output_type": "stream",
     "text": [
      "/home/levanson/NAS/Flexible_CNNs/Imperial_Flexible_CNNs/PyHessian/density_plot.py:35: RuntimeWarning: More than 20 figures have been opened. Figures created through the pyplot interface (`matplotlib.pyplot.figure`) are retained until explicitly closed and may consume too much memory. (To control this warning, see the rcParam `figure.max_open_warning`).\n",
      "  plt.figure()\n"
     ]
    },
    {
     "name": "stdout",
     "output_type": "stream",
     "text": [
      "78.28947368421052 % complete\n",
      "CUDA Available:  True\n",
      "fff 1\n",
      "mini_hessian_batch_size 200\n",
      "hessian_batch_size 200\n",
      "seed 1\n",
      "batch_norm True\n",
      "residual True\n",
      "cuda True\n",
      "resume fmnist_flex_model_14_52.pth\n",
      "********** finish data londing and begin Hessian computation **********\n",
      "shape of density eigen: 1 100\n",
      "lenth into get_esd_plot: 1 100\n",
      "lenth into density_generate: 1 100\n",
      "len into semilogy: (10000,)\n"
     ]
    },
    {
     "name": "stderr",
     "output_type": "stream",
     "text": [
      "/home/levanson/NAS/Flexible_CNNs/Imperial_Flexible_CNNs/PyHessian/density_plot.py:35: RuntimeWarning: More than 20 figures have been opened. Figures created through the pyplot interface (`matplotlib.pyplot.figure`) are retained until explicitly closed and may consume too much memory. (To control this warning, see the rcParam `figure.max_open_warning`).\n",
      "  plt.figure()\n"
     ]
    },
    {
     "name": "stdout",
     "output_type": "stream",
     "text": [
      "78.94736842105263 % complete\n",
      "CUDA Available:  True\n",
      "fff 1\n",
      "mini_hessian_batch_size 200\n",
      "hessian_batch_size 200\n",
      "seed 1\n",
      "batch_norm True\n",
      "residual True\n",
      "cuda True\n",
      "resume fmnist_flex_model_14_52.pth\n",
      "********** finish data londing and begin Hessian computation **********\n",
      "shape of density eigen: 1 100\n",
      "lenth into get_esd_plot: 1 100\n",
      "lenth into density_generate: 1 100\n",
      "len into semilogy: (10000,)\n"
     ]
    },
    {
     "name": "stderr",
     "output_type": "stream",
     "text": [
      "/home/levanson/NAS/Flexible_CNNs/Imperial_Flexible_CNNs/PyHessian/density_plot.py:35: RuntimeWarning: More than 20 figures have been opened. Figures created through the pyplot interface (`matplotlib.pyplot.figure`) are retained until explicitly closed and may consume too much memory. (To control this warning, see the rcParam `figure.max_open_warning`).\n",
      "  plt.figure()\n"
     ]
    },
    {
     "name": "stdout",
     "output_type": "stream",
     "text": [
      "79.60526315789474 % complete\n",
      "CUDA Available:  True\n",
      "fff 1\n",
      "mini_hessian_batch_size 200\n",
      "hessian_batch_size 200\n",
      "seed 1\n",
      "batch_norm True\n",
      "residual True\n",
      "cuda True\n",
      "resume fmnist_flex_model_14_52.pth\n",
      "********** finish data londing and begin Hessian computation **********\n",
      "shape of density eigen: 1 100\n",
      "lenth into get_esd_plot: 1 100\n",
      "lenth into density_generate: 1 100\n",
      "len into semilogy: (10000,)\n"
     ]
    },
    {
     "name": "stderr",
     "output_type": "stream",
     "text": [
      "/home/levanson/NAS/Flexible_CNNs/Imperial_Flexible_CNNs/PyHessian/density_plot.py:35: RuntimeWarning: More than 20 figures have been opened. Figures created through the pyplot interface (`matplotlib.pyplot.figure`) are retained until explicitly closed and may consume too much memory. (To control this warning, see the rcParam `figure.max_open_warning`).\n",
      "  plt.figure()\n"
     ]
    },
    {
     "name": "stdout",
     "output_type": "stream",
     "text": [
      "80.26315789473684 % complete\n",
      "CUDA Available:  True\n",
      "fff 1\n",
      "mini_hessian_batch_size 200\n",
      "hessian_batch_size 200\n",
      "seed 1\n",
      "batch_norm True\n",
      "residual True\n",
      "cuda True\n",
      "resume fmnist_flex_model_14_52.pth\n",
      "********** finish data londing and begin Hessian computation **********\n",
      "shape of density eigen: 1 100\n",
      "lenth into get_esd_plot: 1 100\n",
      "lenth into density_generate: 1 100\n",
      "len into semilogy: (10000,)\n"
     ]
    },
    {
     "name": "stderr",
     "output_type": "stream",
     "text": [
      "/home/levanson/NAS/Flexible_CNNs/Imperial_Flexible_CNNs/PyHessian/density_plot.py:35: RuntimeWarning: More than 20 figures have been opened. Figures created through the pyplot interface (`matplotlib.pyplot.figure`) are retained until explicitly closed and may consume too much memory. (To control this warning, see the rcParam `figure.max_open_warning`).\n",
      "  plt.figure()\n"
     ]
    },
    {
     "name": "stdout",
     "output_type": "stream",
     "text": [
      "80.92105263157895 % complete\n",
      "CUDA Available:  True\n",
      "fff 1\n",
      "mini_hessian_batch_size 200\n",
      "hessian_batch_size 200\n",
      "seed 1\n",
      "batch_norm True\n",
      "residual True\n",
      "cuda True\n",
      "resume fmnist_flex_model_14_52.pth\n",
      "********** finish data londing and begin Hessian computation **********\n",
      "shape of density eigen: 1 100\n",
      "lenth into get_esd_plot: 1 100\n",
      "lenth into density_generate: 1 100\n",
      "len into semilogy: (10000,)\n"
     ]
    },
    {
     "name": "stderr",
     "output_type": "stream",
     "text": [
      "/home/levanson/NAS/Flexible_CNNs/Imperial_Flexible_CNNs/PyHessian/density_plot.py:35: RuntimeWarning: More than 20 figures have been opened. Figures created through the pyplot interface (`matplotlib.pyplot.figure`) are retained until explicitly closed and may consume too much memory. (To control this warning, see the rcParam `figure.max_open_warning`).\n",
      "  plt.figure()\n"
     ]
    },
    {
     "name": "stdout",
     "output_type": "stream",
     "text": [
      "81.57894736842105 % complete\n",
      "CUDA Available:  True\n",
      "fff 1\n",
      "mini_hessian_batch_size 200\n",
      "hessian_batch_size 200\n",
      "seed 1\n",
      "batch_norm True\n",
      "residual True\n",
      "cuda True\n",
      "resume fmnist_flex_model_14_52.pth\n",
      "********** finish data londing and begin Hessian computation **********\n",
      "shape of density eigen: 1 100\n",
      "lenth into get_esd_plot: 1 100\n",
      "lenth into density_generate: 1 100\n",
      "len into semilogy: (10000,)\n"
     ]
    },
    {
     "name": "stderr",
     "output_type": "stream",
     "text": [
      "/home/levanson/NAS/Flexible_CNNs/Imperial_Flexible_CNNs/PyHessian/density_plot.py:35: RuntimeWarning: More than 20 figures have been opened. Figures created through the pyplot interface (`matplotlib.pyplot.figure`) are retained until explicitly closed and may consume too much memory. (To control this warning, see the rcParam `figure.max_open_warning`).\n",
      "  plt.figure()\n"
     ]
    },
    {
     "name": "stdout",
     "output_type": "stream",
     "text": [
      "82.23684210526316 % complete\n",
      "CUDA Available:  True\n",
      "fff 1\n",
      "mini_hessian_batch_size 200\n",
      "hessian_batch_size 200\n",
      "seed 1\n",
      "batch_norm True\n",
      "residual True\n",
      "cuda True\n",
      "resume fmnist_flex_model_14_52.pth\n",
      "********** finish data londing and begin Hessian computation **********\n",
      "shape of density eigen: 1 100\n",
      "lenth into get_esd_plot: 1 100\n",
      "lenth into density_generate: 1 100\n",
      "len into semilogy: (10000,)\n"
     ]
    },
    {
     "name": "stderr",
     "output_type": "stream",
     "text": [
      "/home/levanson/NAS/Flexible_CNNs/Imperial_Flexible_CNNs/PyHessian/density_plot.py:35: RuntimeWarning: More than 20 figures have been opened. Figures created through the pyplot interface (`matplotlib.pyplot.figure`) are retained until explicitly closed and may consume too much memory. (To control this warning, see the rcParam `figure.max_open_warning`).\n",
      "  plt.figure()\n"
     ]
    },
    {
     "name": "stdout",
     "output_type": "stream",
     "text": [
      "82.89473684210526 % complete\n",
      "CUDA Available:  True\n",
      "fff 1\n",
      "mini_hessian_batch_size 200\n",
      "hessian_batch_size 200\n",
      "seed 1\n",
      "batch_norm True\n",
      "residual True\n",
      "cuda True\n",
      "resume fmnist_flex_model_14_52.pth\n",
      "********** finish data londing and begin Hessian computation **********\n",
      "shape of density eigen: 1 100\n",
      "lenth into get_esd_plot: 1 100\n",
      "lenth into density_generate: 1 100\n",
      "len into semilogy: (10000,)\n"
     ]
    },
    {
     "name": "stderr",
     "output_type": "stream",
     "text": [
      "/home/levanson/NAS/Flexible_CNNs/Imperial_Flexible_CNNs/PyHessian/density_plot.py:35: RuntimeWarning: More than 20 figures have been opened. Figures created through the pyplot interface (`matplotlib.pyplot.figure`) are retained until explicitly closed and may consume too much memory. (To control this warning, see the rcParam `figure.max_open_warning`).\n",
      "  plt.figure()\n"
     ]
    },
    {
     "name": "stdout",
     "output_type": "stream",
     "text": [
      "83.55263157894737 % complete\n",
      "CUDA Available:  True\n",
      "fff 1\n",
      "mini_hessian_batch_size 200\n",
      "hessian_batch_size 200\n",
      "seed 1\n",
      "batch_norm True\n",
      "residual True\n",
      "cuda True\n",
      "resume fmnist_flex_model_14_52.pth\n",
      "********** finish data londing and begin Hessian computation **********\n",
      "shape of density eigen: 1 100\n",
      "lenth into get_esd_plot: 1 100\n",
      "lenth into density_generate: 1 100\n",
      "len into semilogy: (10000,)\n"
     ]
    },
    {
     "name": "stderr",
     "output_type": "stream",
     "text": [
      "/home/levanson/NAS/Flexible_CNNs/Imperial_Flexible_CNNs/PyHessian/density_plot.py:35: RuntimeWarning: More than 20 figures have been opened. Figures created through the pyplot interface (`matplotlib.pyplot.figure`) are retained until explicitly closed and may consume too much memory. (To control this warning, see the rcParam `figure.max_open_warning`).\n",
      "  plt.figure()\n"
     ]
    },
    {
     "name": "stdout",
     "output_type": "stream",
     "text": [
      "84.21052631578948 % complete\n",
      "CUDA Available:  True\n",
      "fff 1\n",
      "mini_hessian_batch_size 200\n",
      "hessian_batch_size 200\n",
      "seed 1\n",
      "batch_norm True\n",
      "residual True\n",
      "cuda True\n",
      "resume fmnist_flex_model_14_52.pth\n",
      "********** finish data londing and begin Hessian computation **********\n",
      "shape of density eigen: 1 100\n",
      "lenth into get_esd_plot: 1 100\n",
      "lenth into density_generate: 1 100\n",
      "len into semilogy: (10000,)\n"
     ]
    },
    {
     "name": "stderr",
     "output_type": "stream",
     "text": [
      "/home/levanson/NAS/Flexible_CNNs/Imperial_Flexible_CNNs/PyHessian/density_plot.py:35: RuntimeWarning: More than 20 figures have been opened. Figures created through the pyplot interface (`matplotlib.pyplot.figure`) are retained until explicitly closed and may consume too much memory. (To control this warning, see the rcParam `figure.max_open_warning`).\n",
      "  plt.figure()\n"
     ]
    },
    {
     "name": "stdout",
     "output_type": "stream",
     "text": [
      "84.86842105263158 % complete\n",
      "CUDA Available:  True\n",
      "fff 1\n",
      "mini_hessian_batch_size 200\n",
      "hessian_batch_size 200\n",
      "seed 1\n",
      "batch_norm True\n",
      "residual True\n",
      "cuda True\n",
      "resume fmnist_flex_model_14_52.pth\n",
      "********** finish data londing and begin Hessian computation **********\n",
      "shape of density eigen: 1 100\n",
      "lenth into get_esd_plot: 1 100\n",
      "lenth into density_generate: 1 100\n",
      "len into semilogy: (10000,)\n"
     ]
    },
    {
     "name": "stderr",
     "output_type": "stream",
     "text": [
      "/home/levanson/NAS/Flexible_CNNs/Imperial_Flexible_CNNs/PyHessian/density_plot.py:35: RuntimeWarning: More than 20 figures have been opened. Figures created through the pyplot interface (`matplotlib.pyplot.figure`) are retained until explicitly closed and may consume too much memory. (To control this warning, see the rcParam `figure.max_open_warning`).\n",
      "  plt.figure()\n"
     ]
    },
    {
     "name": "stdout",
     "output_type": "stream",
     "text": [
      "85.52631578947368 % complete\n",
      "CUDA Available:  True\n",
      "fff 1\n",
      "mini_hessian_batch_size 200\n",
      "hessian_batch_size 200\n",
      "seed 1\n",
      "batch_norm True\n",
      "residual True\n",
      "cuda True\n",
      "resume fmnist_flex_model_14_52.pth\n",
      "********** finish data londing and begin Hessian computation **********\n",
      "shape of density eigen: 1 100\n",
      "lenth into get_esd_plot: 1 100\n",
      "lenth into density_generate: 1 100\n",
      "len into semilogy: (10000,)\n"
     ]
    },
    {
     "name": "stderr",
     "output_type": "stream",
     "text": [
      "/home/levanson/NAS/Flexible_CNNs/Imperial_Flexible_CNNs/PyHessian/density_plot.py:35: RuntimeWarning: More than 20 figures have been opened. Figures created through the pyplot interface (`matplotlib.pyplot.figure`) are retained until explicitly closed and may consume too much memory. (To control this warning, see the rcParam `figure.max_open_warning`).\n",
      "  plt.figure()\n"
     ]
    },
    {
     "name": "stdout",
     "output_type": "stream",
     "text": [
      "86.1842105263158 % complete\n",
      "CUDA Available:  True\n",
      "fff 1\n",
      "mini_hessian_batch_size 200\n",
      "hessian_batch_size 200\n",
      "seed 1\n",
      "batch_norm True\n",
      "residual True\n",
      "cuda True\n",
      "resume fmnist_flex_model_14_52.pth\n",
      "********** finish data londing and begin Hessian computation **********\n",
      "shape of density eigen: 1 100\n",
      "lenth into get_esd_plot: 1 100\n",
      "lenth into density_generate: 1 100\n",
      "len into semilogy: (10000,)\n"
     ]
    },
    {
     "name": "stderr",
     "output_type": "stream",
     "text": [
      "/home/levanson/NAS/Flexible_CNNs/Imperial_Flexible_CNNs/PyHessian/density_plot.py:35: RuntimeWarning: More than 20 figures have been opened. Figures created through the pyplot interface (`matplotlib.pyplot.figure`) are retained until explicitly closed and may consume too much memory. (To control this warning, see the rcParam `figure.max_open_warning`).\n",
      "  plt.figure()\n"
     ]
    },
    {
     "name": "stdout",
     "output_type": "stream",
     "text": [
      "86.84210526315789 % complete\n",
      "CUDA Available:  True\n",
      "fff 1\n",
      "mini_hessian_batch_size 200\n",
      "hessian_batch_size 200\n",
      "seed 1\n",
      "batch_norm True\n",
      "residual True\n",
      "cuda True\n",
      "resume fmnist_flex_model_14_52.pth\n",
      "********** finish data londing and begin Hessian computation **********\n",
      "shape of density eigen: 1 100\n",
      "lenth into get_esd_plot: 1 100\n",
      "lenth into density_generate: 1 100\n",
      "len into semilogy: (10000,)\n"
     ]
    },
    {
     "name": "stderr",
     "output_type": "stream",
     "text": [
      "/home/levanson/NAS/Flexible_CNNs/Imperial_Flexible_CNNs/PyHessian/density_plot.py:35: RuntimeWarning: More than 20 figures have been opened. Figures created through the pyplot interface (`matplotlib.pyplot.figure`) are retained until explicitly closed and may consume too much memory. (To control this warning, see the rcParam `figure.max_open_warning`).\n",
      "  plt.figure()\n"
     ]
    },
    {
     "name": "stdout",
     "output_type": "stream",
     "text": [
      "87.5 % complete\n",
      "CUDA Available:  True\n",
      "fff 1\n",
      "mini_hessian_batch_size 200\n",
      "hessian_batch_size 200\n",
      "seed 1\n",
      "batch_norm True\n",
      "residual True\n",
      "cuda True\n",
      "resume fmnist_flex_model_14_52.pth\n",
      "********** finish data londing and begin Hessian computation **********\n",
      "shape of density eigen: 1 100\n",
      "lenth into get_esd_plot: 1 100\n",
      "lenth into density_generate: 1 100\n",
      "len into semilogy: (10000,)\n"
     ]
    },
    {
     "name": "stderr",
     "output_type": "stream",
     "text": [
      "/home/levanson/NAS/Flexible_CNNs/Imperial_Flexible_CNNs/PyHessian/density_plot.py:35: RuntimeWarning: More than 20 figures have been opened. Figures created through the pyplot interface (`matplotlib.pyplot.figure`) are retained until explicitly closed and may consume too much memory. (To control this warning, see the rcParam `figure.max_open_warning`).\n",
      "  plt.figure()\n"
     ]
    },
    {
     "name": "stdout",
     "output_type": "stream",
     "text": [
      "88.15789473684211 % complete\n",
      "CUDA Available:  True\n",
      "fff 1\n",
      "mini_hessian_batch_size 200\n",
      "hessian_batch_size 200\n",
      "seed 1\n",
      "batch_norm True\n",
      "residual True\n",
      "cuda True\n",
      "resume fmnist_flex_model_14_52.pth\n",
      "********** finish data londing and begin Hessian computation **********\n",
      "shape of density eigen: 1 100\n",
      "lenth into get_esd_plot: 1 100\n",
      "lenth into density_generate: 1 100\n",
      "len into semilogy: (10000,)\n"
     ]
    },
    {
     "name": "stderr",
     "output_type": "stream",
     "text": [
      "/home/levanson/NAS/Flexible_CNNs/Imperial_Flexible_CNNs/PyHessian/density_plot.py:35: RuntimeWarning: More than 20 figures have been opened. Figures created through the pyplot interface (`matplotlib.pyplot.figure`) are retained until explicitly closed and may consume too much memory. (To control this warning, see the rcParam `figure.max_open_warning`).\n",
      "  plt.figure()\n"
     ]
    },
    {
     "name": "stdout",
     "output_type": "stream",
     "text": [
      "88.8157894736842 % complete\n",
      "CUDA Available:  True\n",
      "fff 1\n",
      "mini_hessian_batch_size 200\n",
      "hessian_batch_size 200\n",
      "seed 1\n",
      "batch_norm True\n",
      "residual True\n",
      "cuda True\n",
      "resume fmnist_flex_model_14_52.pth\n",
      "********** finish data londing and begin Hessian computation **********\n",
      "shape of density eigen: 1 100\n",
      "lenth into get_esd_plot: 1 100\n",
      "lenth into density_generate: 1 100\n",
      "len into semilogy: (10000,)\n"
     ]
    },
    {
     "name": "stderr",
     "output_type": "stream",
     "text": [
      "/home/levanson/NAS/Flexible_CNNs/Imperial_Flexible_CNNs/PyHessian/density_plot.py:35: RuntimeWarning: More than 20 figures have been opened. Figures created through the pyplot interface (`matplotlib.pyplot.figure`) are retained until explicitly closed and may consume too much memory. (To control this warning, see the rcParam `figure.max_open_warning`).\n",
      "  plt.figure()\n"
     ]
    },
    {
     "name": "stdout",
     "output_type": "stream",
     "text": [
      "89.47368421052632 % complete\n",
      "CUDA Available:  True\n",
      "fff 1\n",
      "mini_hessian_batch_size 200\n",
      "hessian_batch_size 200\n",
      "seed 1\n",
      "batch_norm True\n",
      "residual True\n",
      "cuda True\n",
      "resume fmnist_flex_model_14_52.pth\n",
      "********** finish data londing and begin Hessian computation **********\n",
      "shape of density eigen: 1 100\n",
      "lenth into get_esd_plot: 1 100\n",
      "lenth into density_generate: 1 100\n",
      "len into semilogy: (10000,)\n"
     ]
    },
    {
     "name": "stderr",
     "output_type": "stream",
     "text": [
      "/home/levanson/NAS/Flexible_CNNs/Imperial_Flexible_CNNs/PyHessian/density_plot.py:35: RuntimeWarning: More than 20 figures have been opened. Figures created through the pyplot interface (`matplotlib.pyplot.figure`) are retained until explicitly closed and may consume too much memory. (To control this warning, see the rcParam `figure.max_open_warning`).\n",
      "  plt.figure()\n"
     ]
    },
    {
     "name": "stdout",
     "output_type": "stream",
     "text": [
      "90.13157894736842 % complete\n",
      "CUDA Available:  True\n",
      "fff 1\n",
      "mini_hessian_batch_size 200\n",
      "hessian_batch_size 200\n",
      "seed 1\n",
      "batch_norm True\n",
      "residual True\n",
      "cuda True\n",
      "resume fmnist_flex_model_14_52.pth\n",
      "********** finish data londing and begin Hessian computation **********\n",
      "shape of density eigen: 1 100\n",
      "lenth into get_esd_plot: 1 100\n",
      "lenth into density_generate: 1 100\n",
      "len into semilogy: (10000,)\n"
     ]
    },
    {
     "name": "stderr",
     "output_type": "stream",
     "text": [
      "/home/levanson/NAS/Flexible_CNNs/Imperial_Flexible_CNNs/PyHessian/density_plot.py:35: RuntimeWarning: More than 20 figures have been opened. Figures created through the pyplot interface (`matplotlib.pyplot.figure`) are retained until explicitly closed and may consume too much memory. (To control this warning, see the rcParam `figure.max_open_warning`).\n",
      "  plt.figure()\n"
     ]
    },
    {
     "name": "stdout",
     "output_type": "stream",
     "text": [
      "90.78947368421052 % complete\n",
      "CUDA Available:  True\n",
      "fff 1\n",
      "mini_hessian_batch_size 200\n",
      "hessian_batch_size 200\n",
      "seed 1\n",
      "batch_norm True\n",
      "residual True\n",
      "cuda True\n",
      "resume fmnist_flex_model_14_52.pth\n",
      "********** finish data londing and begin Hessian computation **********\n",
      "shape of density eigen: 1 100\n",
      "lenth into get_esd_plot: 1 100\n",
      "lenth into density_generate: 1 100\n",
      "len into semilogy: (10000,)\n"
     ]
    },
    {
     "name": "stderr",
     "output_type": "stream",
     "text": [
      "/home/levanson/NAS/Flexible_CNNs/Imperial_Flexible_CNNs/PyHessian/density_plot.py:35: RuntimeWarning: More than 20 figures have been opened. Figures created through the pyplot interface (`matplotlib.pyplot.figure`) are retained until explicitly closed and may consume too much memory. (To control this warning, see the rcParam `figure.max_open_warning`).\n",
      "  plt.figure()\n"
     ]
    },
    {
     "name": "stdout",
     "output_type": "stream",
     "text": [
      "91.44736842105263 % complete\n",
      "CUDA Available:  True\n",
      "fff 1\n",
      "mini_hessian_batch_size 200\n",
      "hessian_batch_size 200\n",
      "seed 1\n",
      "batch_norm True\n",
      "residual True\n",
      "cuda True\n",
      "resume fmnist_flex_model_14_52.pth\n",
      "********** finish data londing and begin Hessian computation **********\n",
      "shape of density eigen: 1 100\n",
      "lenth into get_esd_plot: 1 100\n",
      "lenth into density_generate: 1 100\n",
      "len into semilogy: (10000,)\n"
     ]
    },
    {
     "name": "stderr",
     "output_type": "stream",
     "text": [
      "/home/levanson/NAS/Flexible_CNNs/Imperial_Flexible_CNNs/PyHessian/density_plot.py:35: RuntimeWarning: More than 20 figures have been opened. Figures created through the pyplot interface (`matplotlib.pyplot.figure`) are retained until explicitly closed and may consume too much memory. (To control this warning, see the rcParam `figure.max_open_warning`).\n",
      "  plt.figure()\n"
     ]
    },
    {
     "name": "stdout",
     "output_type": "stream",
     "text": [
      "92.10526315789474 % complete\n",
      "CUDA Available:  True\n",
      "fff 1\n",
      "mini_hessian_batch_size 200\n",
      "hessian_batch_size 200\n",
      "seed 1\n",
      "batch_norm True\n",
      "residual True\n",
      "cuda True\n",
      "resume fmnist_flex_model_14_52.pth\n",
      "********** finish data londing and begin Hessian computation **********\n",
      "shape of density eigen: 1 100\n",
      "lenth into get_esd_plot: 1 100\n",
      "lenth into density_generate: 1 100\n",
      "len into semilogy: (10000,)\n"
     ]
    },
    {
     "name": "stderr",
     "output_type": "stream",
     "text": [
      "/home/levanson/NAS/Flexible_CNNs/Imperial_Flexible_CNNs/PyHessian/density_plot.py:35: RuntimeWarning: More than 20 figures have been opened. Figures created through the pyplot interface (`matplotlib.pyplot.figure`) are retained until explicitly closed and may consume too much memory. (To control this warning, see the rcParam `figure.max_open_warning`).\n",
      "  plt.figure()\n"
     ]
    },
    {
     "name": "stdout",
     "output_type": "stream",
     "text": [
      "92.76315789473684 % complete\n",
      "CUDA Available:  True\n",
      "fff 1\n",
      "mini_hessian_batch_size 200\n",
      "hessian_batch_size 200\n",
      "seed 1\n",
      "batch_norm True\n",
      "residual True\n",
      "cuda True\n",
      "resume fmnist_flex_model_14_52.pth\n",
      "********** finish data londing and begin Hessian computation **********\n",
      "shape of density eigen: 1 100\n",
      "lenth into get_esd_plot: 1 100\n",
      "lenth into density_generate: 1 100\n",
      "len into semilogy: (10000,)\n"
     ]
    },
    {
     "name": "stderr",
     "output_type": "stream",
     "text": [
      "/home/levanson/NAS/Flexible_CNNs/Imperial_Flexible_CNNs/PyHessian/density_plot.py:35: RuntimeWarning: More than 20 figures have been opened. Figures created through the pyplot interface (`matplotlib.pyplot.figure`) are retained until explicitly closed and may consume too much memory. (To control this warning, see the rcParam `figure.max_open_warning`).\n",
      "  plt.figure()\n"
     ]
    },
    {
     "name": "stdout",
     "output_type": "stream",
     "text": [
      "93.42105263157895 % complete\n",
      "CUDA Available:  True\n",
      "fff 1\n",
      "mini_hessian_batch_size 200\n",
      "hessian_batch_size 200\n",
      "seed 1\n",
      "batch_norm True\n",
      "residual True\n",
      "cuda True\n",
      "resume fmnist_flex_model_14_52.pth\n",
      "********** finish data londing and begin Hessian computation **********\n",
      "shape of density eigen: 1 100\n",
      "lenth into get_esd_plot: 1 100\n",
      "lenth into density_generate: 1 100\n",
      "len into semilogy: (10000,)\n"
     ]
    },
    {
     "name": "stderr",
     "output_type": "stream",
     "text": [
      "/home/levanson/NAS/Flexible_CNNs/Imperial_Flexible_CNNs/PyHessian/density_plot.py:35: RuntimeWarning: More than 20 figures have been opened. Figures created through the pyplot interface (`matplotlib.pyplot.figure`) are retained until explicitly closed and may consume too much memory. (To control this warning, see the rcParam `figure.max_open_warning`).\n",
      "  plt.figure()\n"
     ]
    },
    {
     "name": "stdout",
     "output_type": "stream",
     "text": [
      "94.07894736842105 % complete\n",
      "CUDA Available:  True\n",
      "fff 1\n",
      "mini_hessian_batch_size 200\n",
      "hessian_batch_size 200\n",
      "seed 1\n",
      "batch_norm True\n",
      "residual True\n",
      "cuda True\n",
      "resume fmnist_flex_model_14_52.pth\n",
      "********** finish data londing and begin Hessian computation **********\n",
      "shape of density eigen: 1 100\n",
      "lenth into get_esd_plot: 1 100\n",
      "lenth into density_generate: 1 100\n",
      "len into semilogy: (10000,)\n"
     ]
    },
    {
     "name": "stderr",
     "output_type": "stream",
     "text": [
      "/home/levanson/NAS/Flexible_CNNs/Imperial_Flexible_CNNs/PyHessian/density_plot.py:35: RuntimeWarning: More than 20 figures have been opened. Figures created through the pyplot interface (`matplotlib.pyplot.figure`) are retained until explicitly closed and may consume too much memory. (To control this warning, see the rcParam `figure.max_open_warning`).\n",
      "  plt.figure()\n"
     ]
    },
    {
     "name": "stdout",
     "output_type": "stream",
     "text": [
      "94.73684210526316 % complete\n",
      "CUDA Available:  True\n",
      "fff 1\n",
      "mini_hessian_batch_size 200\n",
      "hessian_batch_size 200\n",
      "seed 1\n",
      "batch_norm True\n",
      "residual True\n",
      "cuda True\n",
      "resume fmnist_flex_model_14_52.pth\n",
      "********** finish data londing and begin Hessian computation **********\n",
      "shape of density eigen: 1 100\n",
      "lenth into get_esd_plot: 1 100\n",
      "lenth into density_generate: 1 100\n",
      "len into semilogy: (10000,)\n"
     ]
    },
    {
     "name": "stderr",
     "output_type": "stream",
     "text": [
      "/home/levanson/NAS/Flexible_CNNs/Imperial_Flexible_CNNs/PyHessian/density_plot.py:35: RuntimeWarning: More than 20 figures have been opened. Figures created through the pyplot interface (`matplotlib.pyplot.figure`) are retained until explicitly closed and may consume too much memory. (To control this warning, see the rcParam `figure.max_open_warning`).\n",
      "  plt.figure()\n"
     ]
    },
    {
     "name": "stdout",
     "output_type": "stream",
     "text": [
      "95.39473684210526 % complete\n",
      "CUDA Available:  True\n",
      "fff 1\n",
      "mini_hessian_batch_size 200\n",
      "hessian_batch_size 200\n",
      "seed 1\n",
      "batch_norm True\n",
      "residual True\n",
      "cuda True\n",
      "resume fmnist_flex_model_14_52.pth\n",
      "********** finish data londing and begin Hessian computation **********\n",
      "shape of density eigen: 1 100\n",
      "lenth into get_esd_plot: 1 100\n",
      "lenth into density_generate: 1 100\n",
      "len into semilogy: (10000,)\n"
     ]
    },
    {
     "name": "stderr",
     "output_type": "stream",
     "text": [
      "/home/levanson/NAS/Flexible_CNNs/Imperial_Flexible_CNNs/PyHessian/density_plot.py:35: RuntimeWarning: More than 20 figures have been opened. Figures created through the pyplot interface (`matplotlib.pyplot.figure`) are retained until explicitly closed and may consume too much memory. (To control this warning, see the rcParam `figure.max_open_warning`).\n",
      "  plt.figure()\n"
     ]
    },
    {
     "name": "stdout",
     "output_type": "stream",
     "text": [
      "96.05263157894737 % complete\n",
      "CUDA Available:  True\n",
      "fff 1\n",
      "mini_hessian_batch_size 200\n",
      "hessian_batch_size 200\n",
      "seed 1\n",
      "batch_norm True\n",
      "residual True\n",
      "cuda True\n",
      "resume fmnist_flex_model_14_52.pth\n",
      "********** finish data londing and begin Hessian computation **********\n",
      "shape of density eigen: 1 100\n",
      "lenth into get_esd_plot: 1 100\n",
      "lenth into density_generate: 1 100\n",
      "len into semilogy: (10000,)\n"
     ]
    },
    {
     "name": "stderr",
     "output_type": "stream",
     "text": [
      "/home/levanson/NAS/Flexible_CNNs/Imperial_Flexible_CNNs/PyHessian/density_plot.py:35: RuntimeWarning: More than 20 figures have been opened. Figures created through the pyplot interface (`matplotlib.pyplot.figure`) are retained until explicitly closed and may consume too much memory. (To control this warning, see the rcParam `figure.max_open_warning`).\n",
      "  plt.figure()\n"
     ]
    },
    {
     "name": "stdout",
     "output_type": "stream",
     "text": [
      "96.71052631578948 % complete\n",
      "CUDA Available:  True\n",
      "fff 1\n",
      "mini_hessian_batch_size 200\n",
      "hessian_batch_size 200\n",
      "seed 1\n",
      "batch_norm True\n",
      "residual True\n",
      "cuda True\n",
      "resume fmnist_flex_model_14_52.pth\n",
      "********** finish data londing and begin Hessian computation **********\n",
      "shape of density eigen: 1 100\n",
      "lenth into get_esd_plot: 1 100\n",
      "lenth into density_generate: 1 100\n",
      "len into semilogy: (10000,)\n"
     ]
    },
    {
     "name": "stderr",
     "output_type": "stream",
     "text": [
      "/home/levanson/NAS/Flexible_CNNs/Imperial_Flexible_CNNs/PyHessian/density_plot.py:35: RuntimeWarning: More than 20 figures have been opened. Figures created through the pyplot interface (`matplotlib.pyplot.figure`) are retained until explicitly closed and may consume too much memory. (To control this warning, see the rcParam `figure.max_open_warning`).\n",
      "  plt.figure()\n"
     ]
    },
    {
     "name": "stdout",
     "output_type": "stream",
     "text": [
      "97.36842105263158 % complete\n",
      "CUDA Available:  True\n",
      "fff 1\n",
      "mini_hessian_batch_size 200\n",
      "hessian_batch_size 200\n",
      "seed 1\n",
      "batch_norm True\n",
      "residual True\n",
      "cuda True\n",
      "resume fmnist_flex_model_14_52.pth\n",
      "********** finish data londing and begin Hessian computation **********\n",
      "shape of density eigen: 1 100\n",
      "lenth into get_esd_plot: 1 100\n",
      "lenth into density_generate: 1 100\n",
      "len into semilogy: (10000,)\n"
     ]
    },
    {
     "name": "stderr",
     "output_type": "stream",
     "text": [
      "/home/levanson/NAS/Flexible_CNNs/Imperial_Flexible_CNNs/PyHessian/density_plot.py:35: RuntimeWarning: More than 20 figures have been opened. Figures created through the pyplot interface (`matplotlib.pyplot.figure`) are retained until explicitly closed and may consume too much memory. (To control this warning, see the rcParam `figure.max_open_warning`).\n",
      "  plt.figure()\n"
     ]
    },
    {
     "name": "stdout",
     "output_type": "stream",
     "text": [
      "98.02631578947368 % complete\n",
      "CUDA Available:  True\n",
      "fff 1\n",
      "mini_hessian_batch_size 200\n",
      "hessian_batch_size 200\n",
      "seed 1\n",
      "batch_norm True\n",
      "residual True\n",
      "cuda True\n",
      "resume fmnist_flex_model_14_52.pth\n",
      "********** finish data londing and begin Hessian computation **********\n",
      "shape of density eigen: 1 100\n",
      "lenth into get_esd_plot: 1 100\n",
      "lenth into density_generate: 1 100\n",
      "len into semilogy: (10000,)\n"
     ]
    },
    {
     "name": "stderr",
     "output_type": "stream",
     "text": [
      "/home/levanson/NAS/Flexible_CNNs/Imperial_Flexible_CNNs/PyHessian/density_plot.py:35: RuntimeWarning: More than 20 figures have been opened. Figures created through the pyplot interface (`matplotlib.pyplot.figure`) are retained until explicitly closed and may consume too much memory. (To control this warning, see the rcParam `figure.max_open_warning`).\n",
      "  plt.figure()\n"
     ]
    },
    {
     "name": "stdout",
     "output_type": "stream",
     "text": [
      "98.6842105263158 % complete\n",
      "CUDA Available:  True\n",
      "fff 1\n",
      "mini_hessian_batch_size 200\n",
      "hessian_batch_size 200\n",
      "seed 1\n",
      "batch_norm True\n",
      "residual True\n",
      "cuda True\n",
      "resume fmnist_flex_model_14_52.pth\n",
      "********** finish data londing and begin Hessian computation **********\n",
      "shape of density eigen: 1 100\n",
      "lenth into get_esd_plot: 1 100\n",
      "lenth into density_generate: 1 100\n",
      "len into semilogy: (10000,)\n"
     ]
    },
    {
     "name": "stderr",
     "output_type": "stream",
     "text": [
      "/home/levanson/NAS/Flexible_CNNs/Imperial_Flexible_CNNs/PyHessian/density_plot.py:35: RuntimeWarning: More than 20 figures have been opened. Figures created through the pyplot interface (`matplotlib.pyplot.figure`) are retained until explicitly closed and may consume too much memory. (To control this warning, see the rcParam `figure.max_open_warning`).\n",
      "  plt.figure()\n"
     ]
    },
    {
     "name": "stdout",
     "output_type": "stream",
     "text": [
      "99.34210526315789 % complete\n",
      "CUDA Available:  True\n",
      "fff 1\n",
      "mini_hessian_batch_size 200\n",
      "hessian_batch_size 200\n",
      "seed 1\n",
      "batch_norm True\n",
      "residual True\n",
      "cuda True\n",
      "resume fmnist_flex_model_14_52.pth\n",
      "********** finish data londing and begin Hessian computation **********\n",
      "shape of density eigen: 1 100\n",
      "lenth into get_esd_plot: 1 100\n",
      "lenth into density_generate: 1 100\n",
      "len into semilogy: (10000,)\n",
      "100.0 % complete\n"
     ]
    },
    {
     "name": "stderr",
     "output_type": "stream",
     "text": [
      "/home/levanson/NAS/Flexible_CNNs/Imperial_Flexible_CNNs/PyHessian/density_plot.py:35: RuntimeWarning: More than 20 figures have been opened. Figures created through the pyplot interface (`matplotlib.pyplot.figure`) are retained until explicitly closed and may consume too much memory. (To control this warning, see the rcParam `figure.max_open_warning`).\n",
      "  plt.figure()\n"
     ]
    }
   ],
   "source": [
    "##====================Main========================\n",
    "import pickle\n",
    "import os\n",
    "\n",
    "all_eigenvalues = []\n",
    "all_weights = []\n",
    "all_alpha = []\n",
    "count = 0\n",
    "\n",
    "#base_models = os.listdir(\"../Imperial_Flexible_CNNs/models3\")\n",
    "\n",
    "path = \"../Imperial_Flexible_CNNs_Original/models/base_downsampled/\"\n",
    "\n",
    "for file in os.listdir(path):\n",
    "    if os.path.isfile(os.path.join(path, file)):\n",
    "#    if (True): #calc only every 10 epochs (should take roughly 4.5 hours)\n",
    "        print(\"CUDA Available: \",torch.cuda.is_available())\n",
    "        use_cuda=True\n",
    "        device = torch.device(\"cuda\" if (use_cuda and torch.cuda.is_available()) else \"cpu\")\n",
    "\n",
    "        # Initialize the network\n",
    "        model = VGG16().to(device)\n",
    "\n",
    "        # Load the pretrained model\n",
    "        state = torch.load(path + file)\n",
    "        model.load_state_dict(state['model'])\n",
    "\n",
    "        # Set the model in evaluation mode. In this case this is for the Dropout layers\n",
    "        model.eval()\n",
    "                \n",
    "        density_eigen, density_weight = get_eigenvalues(model, trainloader, testloader)\n",
    "        \n",
    "        print(\"shape of density eigen:\", len(density_eigen), len(density_eigen[0]))\n",
    "        \n",
    "        temp = file.split(\"_\") #get the epoch number to name the photo \n",
    "        \n",
    "        get_esd_plot(density_eigen, density_weight, \"base_image_50downsampled_\"+ str(temp[2]) + \".pdf\")\n",
    "\n",
    "        \n",
    "        #plot_height, eign_grids = density_generate(density_eigen, density_weight)\n",
    "\n",
    "        \n",
    "        #all_eigenvalues.append(eign_grids)\n",
    "        #all_weights.append(plot_height)\n",
    "\n",
    "        #all_alpha.append( get_alpha(plot_height, eign_grids) )\n",
    "    \n",
    "    print(100*count/152, \"% complete\")\n",
    "    count += 1\n",
    "    \n",
    "#Save all eigenvalues:\n",
    "#with open('all_eigenvalues_flex50downsampled_fastmethod22', 'wb') as f:\n",
    "#    pickle.dump(all_eigenvalues, f)\n",
    "\n",
    "#Save the weights:\n",
    "#with open('all_eignweights_flex50downsampled_fastmethod22', 'wb') as f:\n",
    "#    pickle.dump(all_weights, f)\n",
    "    \n",
    "#Save all alpha:\n",
    "#with open('all_alpha_flex50downsampled_fastmethod22', 'wb') as f:\n",
    "#    pickle.dump(all_alpha, f)\n",
    "    "
   ]
  },
  {
   "cell_type": "code",
   "execution_count": 6,
   "metadata": {},
   "outputs": [
    {
     "data": {
      "text/html": [
       "<div>\n",
       "<style scoped>\n",
       "    .dataframe tbody tr th:only-of-type {\n",
       "        vertical-align: middle;\n",
       "    }\n",
       "\n",
       "    .dataframe tbody tr th {\n",
       "        vertical-align: top;\n",
       "    }\n",
       "\n",
       "    .dataframe thead th {\n",
       "        text-align: right;\n",
       "    }\n",
       "</style>\n",
       "<table border=\"1\" class=\"dataframe\">\n",
       "  <thead>\n",
       "    <tr style=\"text-align: right;\">\n",
       "      <th></th>\n",
       "      <th>models</th>\n",
       "      <th>epoch</th>\n",
       "      <th>alpha</th>\n",
       "    </tr>\n",
       "  </thead>\n",
       "  <tbody>\n",
       "    <tr>\n",
       "      <th>20</th>\n",
       "      <td>[VGG16-flex-v5-block1-nnmodule, 50xdownsampled...</td>\n",
       "      <td>0</td>\n",
       "      <td>0.509046</td>\n",
       "    </tr>\n",
       "    <tr>\n",
       "      <th>53</th>\n",
       "      <td>[VGG16-flex-v5-block1-nnmodule, 50xdownsampled...</td>\n",
       "      <td>1</td>\n",
       "      <td>0.508543</td>\n",
       "    </tr>\n",
       "    <tr>\n",
       "      <th>133</th>\n",
       "      <td>[VGG16-flex-v5-block1-nnmodule, 50xdownsampled...</td>\n",
       "      <td>2</td>\n",
       "      <td>0.451918</td>\n",
       "    </tr>\n",
       "    <tr>\n",
       "      <th>44</th>\n",
       "      <td>[VGG16-flex-v5-block1-nnmodule, 50xdownsampled...</td>\n",
       "      <td>3</td>\n",
       "      <td>0.472522</td>\n",
       "    </tr>\n",
       "    <tr>\n",
       "      <th>89</th>\n",
       "      <td>[VGG16-flex-v5-block1-nnmodule, 50xdownsampled...</td>\n",
       "      <td>4</td>\n",
       "      <td>0.580286</td>\n",
       "    </tr>\n",
       "    <tr>\n",
       "      <th>130</th>\n",
       "      <td>[VGG16-flex-v5-block1-nnmodule, 50xdownsampled...</td>\n",
       "      <td>5</td>\n",
       "      <td>0.531148</td>\n",
       "    </tr>\n",
       "    <tr>\n",
       "      <th>41</th>\n",
       "      <td>[VGG16-flex-v5-block1-nnmodule, 50xdownsampled...</td>\n",
       "      <td>6</td>\n",
       "      <td>0.595373</td>\n",
       "    </tr>\n",
       "    <tr>\n",
       "      <th>18</th>\n",
       "      <td>[VGG16-flex-v5-block1-nnmodule, 50xdownsampled...</td>\n",
       "      <td>7</td>\n",
       "      <td>0.412752</td>\n",
       "    </tr>\n",
       "    <tr>\n",
       "      <th>81</th>\n",
       "      <td>[VGG16-flex-v5-block1-nnmodule, 50xdownsampled...</td>\n",
       "      <td>8</td>\n",
       "      <td>0.469765</td>\n",
       "    </tr>\n",
       "    <tr>\n",
       "      <th>92</th>\n",
       "      <td>[VGG16-flex-v5-block1-nnmodule, 50xdownsampled...</td>\n",
       "      <td>9</td>\n",
       "      <td>0.490278</td>\n",
       "    </tr>\n",
       "    <tr>\n",
       "      <th>71</th>\n",
       "      <td>[VGG16-flex-v5-block1-nnmodule, 50xdownsampled...</td>\n",
       "      <td>10</td>\n",
       "      <td>0.545148</td>\n",
       "    </tr>\n",
       "    <tr>\n",
       "      <th>26</th>\n",
       "      <td>[VGG16-flex-v5-block1-nnmodule, 50xdownsampled...</td>\n",
       "      <td>11</td>\n",
       "      <td>0.568095</td>\n",
       "    </tr>\n",
       "    <tr>\n",
       "      <th>107</th>\n",
       "      <td>[VGG16-flex-v5-block1-nnmodule, 50xdownsampled...</td>\n",
       "      <td>12</td>\n",
       "      <td>0.436317</td>\n",
       "    </tr>\n",
       "    <tr>\n",
       "      <th>134</th>\n",
       "      <td>[VGG16-flex-v5-block1-nnmodule, 50xdownsampled...</td>\n",
       "      <td>13</td>\n",
       "      <td>0.498791</td>\n",
       "    </tr>\n",
       "    <tr>\n",
       "      <th>97</th>\n",
       "      <td>[VGG16-flex-v5-block1-nnmodule, 50xdownsampled...</td>\n",
       "      <td>14</td>\n",
       "      <td>0.422235</td>\n",
       "    </tr>\n",
       "    <tr>\n",
       "      <th>75</th>\n",
       "      <td>[VGG16-flex-v5-block1-nnmodule, 50xdownsampled...</td>\n",
       "      <td>15</td>\n",
       "      <td>0.414725</td>\n",
       "    </tr>\n",
       "    <tr>\n",
       "      <th>83</th>\n",
       "      <td>[VGG16-flex-v5-block1-nnmodule, 50xdownsampled...</td>\n",
       "      <td>16</td>\n",
       "      <td>0.447202</td>\n",
       "    </tr>\n",
       "    <tr>\n",
       "      <th>7</th>\n",
       "      <td>[VGG16-flex-v5-block1-nnmodule, 50xdownsampled...</td>\n",
       "      <td>17</td>\n",
       "      <td>0.445116</td>\n",
       "    </tr>\n",
       "    <tr>\n",
       "      <th>102</th>\n",
       "      <td>[VGG16-flex-v5-block1-nnmodule, 50xdownsampled...</td>\n",
       "      <td>18</td>\n",
       "      <td>0.477904</td>\n",
       "    </tr>\n",
       "    <tr>\n",
       "      <th>2</th>\n",
       "      <td>[VGG16-flex-v5-block1-nnmodule, 50xdownsampled...</td>\n",
       "      <td>19</td>\n",
       "      <td>0.418052</td>\n",
       "    </tr>\n",
       "    <tr>\n",
       "      <th>52</th>\n",
       "      <td>[VGG16-flex-v5-block1-nnmodule, 50xdownsampled...</td>\n",
       "      <td>20</td>\n",
       "      <td>0.541120</td>\n",
       "    </tr>\n",
       "    <tr>\n",
       "      <th>68</th>\n",
       "      <td>[VGG16-flex-v5-block1-nnmodule, 50xdownsampled...</td>\n",
       "      <td>21</td>\n",
       "      <td>0.467224</td>\n",
       "    </tr>\n",
       "    <tr>\n",
       "      <th>0</th>\n",
       "      <td>[VGG16-flex-v5-block1-nnmodule, 50xdownsampled...</td>\n",
       "      <td>22</td>\n",
       "      <td>0.535029</td>\n",
       "    </tr>\n",
       "    <tr>\n",
       "      <th>99</th>\n",
       "      <td>[VGG16-flex-v5-block1-nnmodule, 50xdownsampled...</td>\n",
       "      <td>23</td>\n",
       "      <td>0.484009</td>\n",
       "    </tr>\n",
       "    <tr>\n",
       "      <th>38</th>\n",
       "      <td>[VGG16-flex-v5-block1-nnmodule, 50xdownsampled...</td>\n",
       "      <td>24</td>\n",
       "      <td>0.381691</td>\n",
       "    </tr>\n",
       "    <tr>\n",
       "      <th>95</th>\n",
       "      <td>[VGG16-flex-v5-block1-nnmodule, 50xdownsampled...</td>\n",
       "      <td>25</td>\n",
       "      <td>0.415359</td>\n",
       "    </tr>\n",
       "    <tr>\n",
       "      <th>30</th>\n",
       "      <td>[VGG16-flex-v5-block1-nnmodule, 50xdownsampled...</td>\n",
       "      <td>26</td>\n",
       "      <td>0.554539</td>\n",
       "    </tr>\n",
       "    <tr>\n",
       "      <th>45</th>\n",
       "      <td>[VGG16-flex-v5-block1-nnmodule, 50xdownsampled...</td>\n",
       "      <td>27</td>\n",
       "      <td>0.441246</td>\n",
       "    </tr>\n",
       "    <tr>\n",
       "      <th>33</th>\n",
       "      <td>[VGG16-flex-v5-block1-nnmodule, 50xdownsampled...</td>\n",
       "      <td>28</td>\n",
       "      <td>0.372773</td>\n",
       "    </tr>\n",
       "    <tr>\n",
       "      <th>117</th>\n",
       "      <td>[VGG16-flex-v5-block1-nnmodule, 50xdownsampled...</td>\n",
       "      <td>29</td>\n",
       "      <td>0.498525</td>\n",
       "    </tr>\n",
       "    <tr>\n",
       "      <th>74</th>\n",
       "      <td>[VGG16-flex-v5-block1-nnmodule, 50xdownsampled...</td>\n",
       "      <td>30</td>\n",
       "      <td>0.471750</td>\n",
       "    </tr>\n",
       "    <tr>\n",
       "      <th>9</th>\n",
       "      <td>[VGG16-flex-v5-block1-nnmodule, 50xdownsampled...</td>\n",
       "      <td>31</td>\n",
       "      <td>0.477714</td>\n",
       "    </tr>\n",
       "    <tr>\n",
       "      <th>59</th>\n",
       "      <td>[VGG16-flex-v5-block1-nnmodule, 50xdownsampled...</td>\n",
       "      <td>32</td>\n",
       "      <td>0.505076</td>\n",
       "    </tr>\n",
       "    <tr>\n",
       "      <th>40</th>\n",
       "      <td>[VGG16-flex-v5-block1-nnmodule, 50xdownsampled...</td>\n",
       "      <td>33</td>\n",
       "      <td>0.417210</td>\n",
       "    </tr>\n",
       "    <tr>\n",
       "      <th>147</th>\n",
       "      <td>[VGG16-flex-v5-block1-nnmodule, 50xdownsampled...</td>\n",
       "      <td>34</td>\n",
       "      <td>0.420076</td>\n",
       "    </tr>\n",
       "    <tr>\n",
       "      <th>3</th>\n",
       "      <td>[VGG16-flex-v5-block1-nnmodule, 50xdownsampled...</td>\n",
       "      <td>35</td>\n",
       "      <td>0.488606</td>\n",
       "    </tr>\n",
       "    <tr>\n",
       "      <th>151</th>\n",
       "      <td>[VGG16-flex-v5-block1-nnmodule, 50xdownsampled...</td>\n",
       "      <td>36</td>\n",
       "      <td>0.518654</td>\n",
       "    </tr>\n",
       "    <tr>\n",
       "      <th>19</th>\n",
       "      <td>[VGG16-flex-v5-block1-nnmodule, 50xdownsampled...</td>\n",
       "      <td>37</td>\n",
       "      <td>0.542564</td>\n",
       "    </tr>\n",
       "    <tr>\n",
       "      <th>46</th>\n",
       "      <td>[VGG16-flex-v5-block1-nnmodule, 50xdownsampled...</td>\n",
       "      <td>38</td>\n",
       "      <td>0.453411</td>\n",
       "    </tr>\n",
       "    <tr>\n",
       "      <th>22</th>\n",
       "      <td>[VGG16-flex-v5-block1-nnmodule, 50xdownsampled...</td>\n",
       "      <td>39</td>\n",
       "      <td>0.521688</td>\n",
       "    </tr>\n",
       "    <tr>\n",
       "      <th>43</th>\n",
       "      <td>[VGG16-flex-v5-block1-nnmodule, 50xdownsampled...</td>\n",
       "      <td>40</td>\n",
       "      <td>0.380255</td>\n",
       "    </tr>\n",
       "    <tr>\n",
       "      <th>55</th>\n",
       "      <td>[VGG16-flex-v5-block1-nnmodule, 50xdownsampled...</td>\n",
       "      <td>41</td>\n",
       "      <td>0.613902</td>\n",
       "    </tr>\n",
       "    <tr>\n",
       "      <th>100</th>\n",
       "      <td>[VGG16-flex-v5-block1-nnmodule, 50xdownsampled...</td>\n",
       "      <td>42</td>\n",
       "      <td>0.403846</td>\n",
       "    </tr>\n",
       "    <tr>\n",
       "      <th>84</th>\n",
       "      <td>[VGG16-flex-v5-block1-nnmodule, 50xdownsampled...</td>\n",
       "      <td>43</td>\n",
       "      <td>0.558861</td>\n",
       "    </tr>\n",
       "    <tr>\n",
       "      <th>119</th>\n",
       "      <td>[VGG16-flex-v5-block1-nnmodule, 50xdownsampled...</td>\n",
       "      <td>44</td>\n",
       "      <td>0.517595</td>\n",
       "    </tr>\n",
       "    <tr>\n",
       "      <th>140</th>\n",
       "      <td>[VGG16-flex-v5-block1-nnmodule, 50xdownsampled...</td>\n",
       "      <td>45</td>\n",
       "      <td>0.486250</td>\n",
       "    </tr>\n",
       "    <tr>\n",
       "      <th>65</th>\n",
       "      <td>[VGG16-flex-v5-block1-nnmodule, 50xdownsampled...</td>\n",
       "      <td>46</td>\n",
       "      <td>0.482050</td>\n",
       "    </tr>\n",
       "    <tr>\n",
       "      <th>10</th>\n",
       "      <td>[VGG16-flex-v5-block1-nnmodule, 50xdownsampled...</td>\n",
       "      <td>47</td>\n",
       "      <td>0.591636</td>\n",
       "    </tr>\n",
       "    <tr>\n",
       "      <th>148</th>\n",
       "      <td>[VGG16-flex-v5-block1-nnmodule, 50xdownsampled...</td>\n",
       "      <td>48</td>\n",
       "      <td>0.505027</td>\n",
       "    </tr>\n",
       "    <tr>\n",
       "      <th>37</th>\n",
       "      <td>[VGG16-flex-v5-block1-nnmodule, 50xdownsampled...</td>\n",
       "      <td>49</td>\n",
       "      <td>0.480241</td>\n",
       "    </tr>\n",
       "  </tbody>\n",
       "</table>\n",
       "</div>"
      ],
      "text/plain": [
       "                                                models  epoch     alpha\n",
       "20   [VGG16-flex-v5-block1-nnmodule, 50xdownsampled...      0  0.509046\n",
       "53   [VGG16-flex-v5-block1-nnmodule, 50xdownsampled...      1  0.508543\n",
       "133  [VGG16-flex-v5-block1-nnmodule, 50xdownsampled...      2  0.451918\n",
       "44   [VGG16-flex-v5-block1-nnmodule, 50xdownsampled...      3  0.472522\n",
       "89   [VGG16-flex-v5-block1-nnmodule, 50xdownsampled...      4  0.580286\n",
       "130  [VGG16-flex-v5-block1-nnmodule, 50xdownsampled...      5  0.531148\n",
       "41   [VGG16-flex-v5-block1-nnmodule, 50xdownsampled...      6  0.595373\n",
       "18   [VGG16-flex-v5-block1-nnmodule, 50xdownsampled...      7  0.412752\n",
       "81   [VGG16-flex-v5-block1-nnmodule, 50xdownsampled...      8  0.469765\n",
       "92   [VGG16-flex-v5-block1-nnmodule, 50xdownsampled...      9  0.490278\n",
       "71   [VGG16-flex-v5-block1-nnmodule, 50xdownsampled...     10  0.545148\n",
       "26   [VGG16-flex-v5-block1-nnmodule, 50xdownsampled...     11  0.568095\n",
       "107  [VGG16-flex-v5-block1-nnmodule, 50xdownsampled...     12  0.436317\n",
       "134  [VGG16-flex-v5-block1-nnmodule, 50xdownsampled...     13  0.498791\n",
       "97   [VGG16-flex-v5-block1-nnmodule, 50xdownsampled...     14  0.422235\n",
       "75   [VGG16-flex-v5-block1-nnmodule, 50xdownsampled...     15  0.414725\n",
       "83   [VGG16-flex-v5-block1-nnmodule, 50xdownsampled...     16  0.447202\n",
       "7    [VGG16-flex-v5-block1-nnmodule, 50xdownsampled...     17  0.445116\n",
       "102  [VGG16-flex-v5-block1-nnmodule, 50xdownsampled...     18  0.477904\n",
       "2    [VGG16-flex-v5-block1-nnmodule, 50xdownsampled...     19  0.418052\n",
       "52   [VGG16-flex-v5-block1-nnmodule, 50xdownsampled...     20  0.541120\n",
       "68   [VGG16-flex-v5-block1-nnmodule, 50xdownsampled...     21  0.467224\n",
       "0    [VGG16-flex-v5-block1-nnmodule, 50xdownsampled...     22  0.535029\n",
       "99   [VGG16-flex-v5-block1-nnmodule, 50xdownsampled...     23  0.484009\n",
       "38   [VGG16-flex-v5-block1-nnmodule, 50xdownsampled...     24  0.381691\n",
       "95   [VGG16-flex-v5-block1-nnmodule, 50xdownsampled...     25  0.415359\n",
       "30   [VGG16-flex-v5-block1-nnmodule, 50xdownsampled...     26  0.554539\n",
       "45   [VGG16-flex-v5-block1-nnmodule, 50xdownsampled...     27  0.441246\n",
       "33   [VGG16-flex-v5-block1-nnmodule, 50xdownsampled...     28  0.372773\n",
       "117  [VGG16-flex-v5-block1-nnmodule, 50xdownsampled...     29  0.498525\n",
       "74   [VGG16-flex-v5-block1-nnmodule, 50xdownsampled...     30  0.471750\n",
       "9    [VGG16-flex-v5-block1-nnmodule, 50xdownsampled...     31  0.477714\n",
       "59   [VGG16-flex-v5-block1-nnmodule, 50xdownsampled...     32  0.505076\n",
       "40   [VGG16-flex-v5-block1-nnmodule, 50xdownsampled...     33  0.417210\n",
       "147  [VGG16-flex-v5-block1-nnmodule, 50xdownsampled...     34  0.420076\n",
       "3    [VGG16-flex-v5-block1-nnmodule, 50xdownsampled...     35  0.488606\n",
       "151  [VGG16-flex-v5-block1-nnmodule, 50xdownsampled...     36  0.518654\n",
       "19   [VGG16-flex-v5-block1-nnmodule, 50xdownsampled...     37  0.542564\n",
       "46   [VGG16-flex-v5-block1-nnmodule, 50xdownsampled...     38  0.453411\n",
       "22   [VGG16-flex-v5-block1-nnmodule, 50xdownsampled...     39  0.521688\n",
       "43   [VGG16-flex-v5-block1-nnmodule, 50xdownsampled...     40  0.380255\n",
       "55   [VGG16-flex-v5-block1-nnmodule, 50xdownsampled...     41  0.613902\n",
       "100  [VGG16-flex-v5-block1-nnmodule, 50xdownsampled...     42  0.403846\n",
       "84   [VGG16-flex-v5-block1-nnmodule, 50xdownsampled...     43  0.558861\n",
       "119  [VGG16-flex-v5-block1-nnmodule, 50xdownsampled...     44  0.517595\n",
       "140  [VGG16-flex-v5-block1-nnmodule, 50xdownsampled...     45  0.486250\n",
       "65   [VGG16-flex-v5-block1-nnmodule, 50xdownsampled...     46  0.482050\n",
       "10   [VGG16-flex-v5-block1-nnmodule, 50xdownsampled...     47  0.591636\n",
       "148  [VGG16-flex-v5-block1-nnmodule, 50xdownsampled...     48  0.505027\n",
       "37   [VGG16-flex-v5-block1-nnmodule, 50xdownsampled...     49  0.480241"
      ]
     },
     "metadata": {},
     "output_type": "display_data"
    }
   ],
   "source": [
    "import pickle\n",
    "import pandas as pd\n",
    "#Load Alpha:\n",
    "with open('all_alpha_flex50downsampled_fastmethod2', 'rb') as f:\n",
    "    all_alpha = pickle.load(f)\n",
    "\n",
    "#Load epsilons:\n",
    "\n",
    "df_temp = pd.read_csv(\"flex_50downsampled_trainaccuracy.csv\")\n",
    "epsilons = df_temp['train_accuracy']\n",
    "testepsilons = df_temp['test_accuracy']    \n",
    "    \n",
    "    \n",
    "#Order alpha of Flex network 3 epochs file:\n",
    "\n",
    "import os \n",
    "import pandas as pd\n",
    "#flex_models = os.listdir(\"../Imperial_Flexible_CNNs/models3\")\n",
    "flex_models = []\n",
    "epoch_number = []\n",
    "count = 0\n",
    "path = \"../Imperial_Flexible_CNNs_Original/models/flex_downsampled/\"\n",
    "\n",
    "for file in os.listdir(path):\n",
    "    if os.path.isfile(os.path.join(path, file)):\n",
    "        temp = file.split(\"_\") #calc only every 10 epochs (should take roughly 4.5 hours)\n",
    "        flex_models.append(temp)\n",
    "        epoch_number.append(int(temp[2]))\n",
    "        count += 1\n",
    "    \n",
    "#Need to parse based on first number:\n",
    "\n",
    "#Create database:\n",
    "df_flex = pd.DataFrame(list(zip(flex_models,epoch_number)), columns = ['models','epoch'])\n",
    "\n",
    "\n",
    "df_flex['alpha'] = all_alpha\n",
    "\n",
    "#print(df)\n",
    "\n",
    "#Order dataframe by epoch number:\n",
    "\n",
    "df_flex = df_flex.sort_values(by = ['epoch'])\n",
    "\n",
    "display(df_flex[0:50]) \n",
    "    \n"
   ]
  },
  {
   "cell_type": "code",
   "execution_count": 7,
   "metadata": {},
   "outputs": [],
   "source": [
    "#Plot alpha - epsilon\n",
    "import matplotlib.pyplot as plt\n",
    "plt.plot(df_flex['alpha'],epsilons, '.', color = 'orange')\n",
    "plt.title(\"Alpha-Epsilon Plot of Flex Network\")\n",
    "plt.xlabel(\"Alpha\")\n",
    "plt.ylabel(\"Epsilon (Train Error %)\")\n",
    "plt.show()"
   ]
  },
  {
   "cell_type": "code",
   "execution_count": 8,
   "metadata": {},
   "outputs": [],
   "source": [
    "#Plot alpha - epsilon\n",
    "import matplotlib.pyplot as plt\n",
    "plt.plot(df_flex['alpha'],testepsilons, '.')\n",
    "plt.title(\"Alpha-Epsilon Plot of Flex Network\")\n",
    "plt.xlabel(\"Alpha\")\n",
    "plt.ylabel(\"Epsilon (Test Accuracy %)\")\n",
    "plt.show()"
   ]
  },
  {
   "cell_type": "code",
   "execution_count": 9,
   "metadata": {},
   "outputs": [],
   "source": [
    "import matplotlib.pyplot as plt\n",
    "plt.plot(df_flex['epoch'],epsilons, '.')\n",
    "plt.title(\"Epsilon-Epoch Plot of Flex Network\")\n",
    "plt.xlabel(\"Epoch\")\n",
    "plt.ylabel(\"Epsilon (Train Error %)\")\n",
    "plt.show()"
   ]
  },
  {
   "cell_type": "code",
   "execution_count": 10,
   "metadata": {},
   "outputs": [],
   "source": [
    "import matplotlib.pyplot as plt\n",
    "plt.plot(df_flex['epoch'],df_flex['alpha'], '.', color = 'orange')\n",
    "plt.title(\"Alpha-Epoch Plot of Flex Network\")\n",
    "plt.xlabel(\"Epoch\")\n",
    "plt.ylabel(\"Alpha\")\n",
    "plt.show()"
   ]
  },
  {
   "cell_type": "code",
   "execution_count": 11,
   "metadata": {},
   "outputs": [],
   "source": [
    "import matplotlib.pyplot as plt\n",
    "plt.plot(df_flex['epoch'],df_flex['alpha'], color = 'orange')\n",
    "plt.title(\"Alpha-Epoch Plot of Flex Network\")\n",
    "plt.xlabel(\"Epoch\")\n",
    "plt.ylabel(\"Alpha\")\n",
    "plt.show()"
   ]
  },
  {
   "cell_type": "code",
   "execution_count": null,
   "metadata": {},
   "outputs": [],
   "source": []
  }
 ],
 "metadata": {
  "kernelspec": {
   "display_name": "Python 3",
   "language": "python",
   "name": "python3"
  },
  "language_info": {
   "codemirror_mode": {
    "name": "ipython",
    "version": 3
   },
   "file_extension": ".py",
   "mimetype": "text/x-python",
   "name": "python",
   "nbconvert_exporter": "python",
   "pygments_lexer": "ipython3",
   "version": "3.8.3"
  }
 },
 "nbformat": 4,
 "nbformat_minor": 2
}
